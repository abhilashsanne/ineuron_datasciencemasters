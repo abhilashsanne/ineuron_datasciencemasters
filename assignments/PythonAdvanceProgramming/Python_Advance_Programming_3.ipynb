{
 "cells": [
  {
   "cell_type": "markdown",
   "id": "65a5fac5",
   "metadata": {},
   "source": [
    "### Question 1.\n",
    "Create a function to perform basic arithmetic operations that includes addition, subtraction, multiplication and division on a string number (e.g. '12 + 24' or '23 - 21' or '12 // 12' or '12 * 21'). \n",
    "\n",
    "Here, we have 1 followed by a space, operator followed by another space and 2. For the challenge, we are going to have only two numbers between 1 valid operator. The return value should be a number. eval() is not allowed. In case of division, whenever the second number equals'0' return -1.\n",
    "\n",
    "For example:`'15 // 0' ➞ -1`\n",
    "\n",
    "Examples:\n",
    "* arithmetic_operation('12 + 12') ➞ 24 // 12 + 12 = 24\n",
    "* arithmetic_operation('12 - 12') ➞ 24 // 12 - 12 = 0\n",
    "* arithmetic_operation('12 * 12') ➞ 144 // 12 * 12 = 144\n",
    "* arithmetic_operation('12 // 0') ➞ -1 // 12 / 0 = -1"
   ]
  },
  {
   "cell_type": "code",
   "execution_count": 7,
   "id": "b667054e",
   "metadata": {},
   "outputs": [
    {
     "name": "stdout",
     "output_type": "stream",
     "text": [
      "24\n",
      "0\n",
      "144\n",
      "-1\n"
     ]
    }
   ],
   "source": [
    "def arithmetic_operation(string_input):\n",
    "    a, operator, b = string_input.split(\" \")\n",
    "    if operator == \"+\":\n",
    "        return int(a)+int(b)\n",
    "    if operator == \"-\":\n",
    "        return int(a)-int(b)\n",
    "    if operator == \"*\":\n",
    "        return int(a)*int(b)\n",
    "    if operator == \"//\":\n",
    "        if b == '0':\n",
    "            return -1\n",
    "        else:\n",
    "            return int(a)//int(b)\n",
    "\n",
    "print(arithmetic_operation('12 + 12'))\n",
    "print(arithmetic_operation('12 - 12'))\n",
    "print(arithmetic_operation('12 * 12'))\n",
    "print(arithmetic_operation('12 // 0'))"
   ]
  },
  {
   "cell_type": "markdown",
   "id": "afa91af3",
   "metadata": {},
   "source": [
    "### Question 2\n",
    "Write a function that takes the coordinates of three points in the form of a 2d array and returns the perimeter of the triangle. The given points are the vertices of a triangle on a two-dimensional plane.\n",
    "\n",
    "Examples:\n",
    "* perimeter( [ [15, 7], [5, 22], [11, 1] ] ) ➞ 47.08\n",
    "* perimeter( [ [0, 0], [0, 1], [1, 0] ] ) ➞ 3.42\n",
    "* perimeter( [ [-10, -10], [10, 10 ], [-10, 10] ] ) ➞ 68.28"
   ]
  },
  {
   "cell_type": "code",
   "execution_count": 11,
   "id": "8d03b3eb",
   "metadata": {},
   "outputs": [
    {
     "name": "stdout",
     "output_type": "stream",
     "text": [
      "47.08\n",
      "3.41\n",
      "68.28\n"
     ]
    }
   ],
   "source": [
    "import math\n",
    "\n",
    "def perimeter(coordinates) -> float:\n",
    "    a, b, c = coordinates\n",
    "    ab = math.dist(a, b)\n",
    "    bc = math.dist(b, c)\n",
    "    ac = math.dist(a, c)\n",
    "    return round(ab + bc + ac, 2)\n",
    "\n",
    "print(perimeter( [ [15, 7], [5, 22], [11, 1] ] ))\n",
    "print(perimeter( [ [0, 0], [0, 1], [1, 0] ] ) )\n",
    "print(perimeter( [ [-10, -10], [10, 10 ], [-10, 10] ] ) )"
   ]
  },
  {
   "cell_type": "markdown",
   "id": "ec86fbb9",
   "metadata": {},
   "source": [
    "### Question 3\n",
    "A city skyline can be represented as a 2-D list with 1s representing buildings. In the example below, the height of the tallest building is 4 (second-most right column).\n",
    "\n",
    "[[0, 0, 0, 0, 0, 0],\n",
    "[0, 0, 0, 0, 1, 0],\n",
    "[0, 0, 1, 0, 1, 0],\n",
    "[0, 1, 1, 1, 1, 0],\n",
    "[1, 1, 1, 1, 1, 1]]\n",
    "\n",
    "Create a function that takes a skyline (2-D list of 0's and 1's) and returns the height of the tallest skyscraper.\n",
    "\n",
    "Examples\n",
    "* tallest_skyscraper([[0, 0, 0, 0], [0, 1, 0, 0], [0, 1, 1, 0], [1, 1, 1, 1]]) ➞ 3\n",
    "* tallest_skyscraper([ [0, 1, 0, 0], [0, 1, 0, 0], [0, 1, 1, 0], [1, 1, 1, 1]]) ➞ 4\n",
    "* tallest_skyscraper([ [0, 0, 0, 0], [0, 0, 0, 0], [1, 1, 1, 0], [1, 1, 1, 1]]) ➞ 2"
   ]
  },
  {
   "cell_type": "code",
   "execution_count": 19,
   "id": "aa0f4465",
   "metadata": {},
   "outputs": [
    {
     "name": "stdout",
     "output_type": "stream",
     "text": [
      "3\n",
      "4\n",
      "2\n"
     ]
    }
   ],
   "source": [
    "def tallest_skyscraper(array):\n",
    "    heights = []\n",
    "    sum = 0\n",
    "    for i in range(len(array[0])):\n",
    "        for j in range(len(array[0])):\n",
    "            sum = sum + array[j][i]\n",
    "        heights.append(sum)\n",
    "        sum = 0\n",
    "    # find index of highest number\n",
    "    return max(heights)\n",
    "\n",
    "print(tallest_skyscraper([[0, 0, 0, 0], [0, 1, 0, 0], [0, 1, 1, 0], [1, 1, 1, 1]]))\n",
    "print(tallest_skyscraper([ [0, 1, 0, 0], [0, 1, 0, 0], [0, 1, 1, 0], [1, 1, 1, 1]]))\n",
    "print(tallest_skyscraper([ [0, 0, 0, 0], [0, 0, 0, 0], [1, 1, 1, 0], [1, 1, 1, 1]]))"
   ]
  },
  {
   "cell_type": "markdown",
   "id": "058d01a1",
   "metadata": {},
   "source": [
    "### Question 4\n",
    "A financial institution provides professional services to banks and claims charges from the customers based on the number of man-days provided. Internally, it has set a scheme to motivate and reward staff to meet and exceed targeted billable utilization and revenues by paying a bonus for each day claimed from customers in excess of a threshold target.\n",
    "\n",
    "This quarterly scheme is calculated with a threshold target of 32 days per quarter, and the incentive payment for each billable day in excess of such threshold target is shown as follows:\n",
    "\n",
    "Days Bonus\n",
    "* 0 to 32 days Zero\n",
    "* 33 to 40 days SGD\\$325 per billable day\n",
    "* 41 to 48 days SGD\\$550 per billable day\n",
    "* Greater than 48 days SGD$600 per billable day\n",
    "\n",
    "Please note that incentive payment is calculated progressively. As an example, if an employee reached total billable days of 45 in a quarter, his/her incentive payment is computed as follows:\n",
    "\n",
    "32\\**0 + 8\\**325 + 5*550 = 5350\n",
    "\n",
    "Write a function to read the billable days of an employee and return the bonus\n",
    "he/she has obtained in that quarter.\n",
    "\n",
    "Examples\n",
    "* bonus(15) ➞ 0\n",
    "* bonus(37) ➞ 1625\n",
    "* bonus(50) ➞ 8200"
   ]
  },
  {
   "cell_type": "code",
   "execution_count": 20,
   "id": "c3c0b034",
   "metadata": {},
   "outputs": [
    {
     "name": "stdout",
     "output_type": "stream",
     "text": [
      "0\n",
      "1625\n",
      "8200\n"
     ]
    }
   ],
   "source": [
    "def bonus(days:int) -> int:\n",
    "    bonus = 0\n",
    "    if  0 <= days <= 32:\n",
    "        bonus = days * 0\n",
    "    if 33 <= days <= 40:\n",
    "        bonus = (days - 32) * 325\n",
    "    if 41 <= days <= 48:\n",
    "        rem = days - 40\n",
    "        bonus = rem * 550 + 8 * 325 \n",
    "    if days > 48:\n",
    "        rem = days - 48\n",
    "        bonus = rem * 600 + 8 * 550 + 8 * 325\n",
    "    return bonus\n",
    "\n",
    "print(bonus(15))\n",
    "print(bonus(37))\n",
    "print(bonus(50))"
   ]
  },
  {
   "cell_type": "markdown",
   "id": "3599af75",
   "metadata": {},
   "source": [
    "### Question 5\n",
    "A number is said to be Disarium if the sum of its digits raised to their respective positions is the number itself. Create a function that determines whether a number is a Disarium or not.\n",
    "\n",
    "Examples\n",
    "* is_disarium(75) ➞ False # 7^1 + 5^2 = 7 + 25 = 32\n",
    "* is_disarium(135) ➞ True # 1^1 + 3^2 + 5^3 = 1 + 9 + 125 = 135\n",
    "* is_disarium(544) ➞ False\n",
    "* is_disarium(518) ➞ True\n",
    "* is_disarium(466) ➞ False\n",
    "* is_disarium(8) ➞ True"
   ]
  },
  {
   "cell_type": "code",
   "execution_count": 23,
   "id": "7ef0f9af",
   "metadata": {},
   "outputs": [
    {
     "name": "stdout",
     "output_type": "stream",
     "text": [
      "(75, False)\n",
      "(135, True)\n",
      "(544, False)\n",
      "(518, True)\n",
      "(466, False)\n",
      "(8, True)\n"
     ]
    }
   ],
   "source": [
    "def is_disarium(num):\n",
    "    sum = 0\n",
    "    tempNum = num\n",
    "    while(num>0):\n",
    "        dgcnt= len(str(num))\n",
    "        digit = num%10\n",
    "        sum= sum + digit**dgcnt   \n",
    "        dgcnt-=1\n",
    "        num = num//10    \n",
    "    if sum == tempNum:\n",
    "        return tempNum, True\n",
    "    else:\n",
    "        return tempNum, False\n",
    "    \n",
    "print(is_disarium(75))\n",
    "print(is_disarium(135))\n",
    "print(is_disarium(544))\n",
    "print(is_disarium(518))\n",
    "print(is_disarium(466))\n",
    "print(is_disarium(8))"
   ]
  }
 ],
 "metadata": {
  "kernelspec": {
   "display_name": "Python 3 (ipykernel)",
   "language": "python",
   "name": "python3"
  },
  "language_info": {
   "codemirror_mode": {
    "name": "ipython",
    "version": 3
   },
   "file_extension": ".py",
   "mimetype": "text/x-python",
   "name": "python",
   "nbconvert_exporter": "python",
   "pygments_lexer": "ipython3",
   "version": "3.9.7"
  }
 },
 "nbformat": 4,
 "nbformat_minor": 5
}
