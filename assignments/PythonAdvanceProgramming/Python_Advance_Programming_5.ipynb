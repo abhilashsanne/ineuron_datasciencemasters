{
 "cells": [
  {
   "cell_type": "markdown",
   "id": "63291bfb",
   "metadata": {},
   "source": [
    "### Question 1\n",
    "Create a function that takes a number n (integer greater than zero) as an argument, and returns 2 if n is odd and 8 if n is even. You can only use the following arithmetic operators: addition of numbers +, subtraction of numbers -, multiplication of number *, division of number /, and\n",
    "exponentiation **.\n",
    "\n",
    "You are not allowed to use any other methods in this challenge (i.e. no if statements, comparison operators, etc).\n",
    "\n",
    "Examples:\n",
    "* f(1) ➞ 2\n",
    "* f(2) ➞ 8\n",
    "* f(3) ➞ 2"
   ]
  },
  {
   "cell_type": "code",
   "execution_count": 10,
   "id": "24163b6b",
   "metadata": {},
   "outputs": [
    {
     "name": "stdout",
     "output_type": "stream",
     "text": [
      "2\n",
      "8\n",
      "2\n"
     ]
    }
   ],
   "source": [
    "def f(n):\n",
    "    d = {0.5:2, 0.0:8}\n",
    "    b = n/2 - n//2  # python division and integer division operators used\n",
    "    return d[b]\n",
    "\n",
    "print(f(1))\n",
    "print(f(8))\n",
    "print(f(3))"
   ]
  },
  {
   "cell_type": "markdown",
   "id": "7afe8dbd",
   "metadata": {},
   "source": [
    "### Question 2\n",
    "Create a function that returns the majority vote in a list. A majority vote is an element that occurs > N/2 times in a list (where N is the length of the list).\n",
    "\n",
    "Examples:\n",
    "* majority_vote(['A', 'A', 'B']) ➞ 'A'\n",
    "* majority_vote(['A', 'A', 'A', 'B', 'C', 'A']) ➞ 'A'\n",
    "* majority_vote(['A', 'B', 'B', 'A', 'C', 'C']) ➞ None"
   ]
  },
  {
   "cell_type": "code",
   "execution_count": 12,
   "id": "3c69f1ca",
   "metadata": {},
   "outputs": [
    {
     "name": "stdout",
     "output_type": "stream",
     "text": [
      "A\n",
      "A\n",
      "None\n"
     ]
    }
   ],
   "source": [
    "def majority_vote(votes:list) -> str:\n",
    "    for i in set(votes): # using set to reduce iterations\n",
    "        if votes.count(i) > len(votes)/2:\n",
    "            return i\n",
    "    else:\n",
    "        return None\n",
    "print(majority_vote(['A', 'A', 'B']))\n",
    "print(majority_vote(['A', 'A', 'A', 'B', 'C', 'A']))\n",
    "print(majority_vote(['A', 'B', 'B', 'A', 'C', 'C']))"
   ]
  },
  {
   "cell_type": "markdown",
   "id": "3c56ce8f",
   "metadata": {},
   "source": [
    "### Question 3\n",
    "Create a function that takes a string txt and censors any word from a given list lst. The text removed must be replaced by the given character char.\n",
    "\n",
    "Examples:\n",
    "* censor_string('Today is a Wednesday!', ['Today', 'a'], '-') ➞ '----- is -Wednesday!'\n",
    "* censor_string('The cow jumped over the moon.', ['cow', 'over'], '*'), 'The ***jumped **** the moon.')\n",
    "* censor_string('Why did the chicken cross the road?', ['Did', 'chicken','road'], '*') ➞ 'Why *** the ******* cross the ****?'"
   ]
  },
  {
   "cell_type": "code",
   "execution_count": 13,
   "id": "be4b55ef",
   "metadata": {},
   "outputs": [
    {
     "name": "stdout",
     "output_type": "stream",
     "text": [
      "----- is - Wednesday!\n",
      "The *** jumped **** the moon.\n",
      "Why *** the ******* cross the ****?\n"
     ]
    }
   ],
   "source": [
    "def censor_string(text, censorlst, replacer):\n",
    "    word_list = text.split()\n",
    "    for censor in censorlst:\n",
    "        index = 0\n",
    "        for word in word_list:\n",
    "            if censor.lower() == word.lower():\n",
    "                ch = len(censor) * replacer\n",
    "                word_list[index] = ch\n",
    "            elif censor.lower() == word[0:-1].lower():\n",
    "                ch = len(censor) * replacer\n",
    "                word_list[index] = ch+word[-1]\n",
    "            index+=1\n",
    "\n",
    "    return \" \".join(word_list)\n",
    "\n",
    "print(censor_string('Today is a Wednesday!', ['Today', 'a'], '-'))\n",
    "print(censor_string('The cow jumped over the moon.', ['cow', 'over'], '*'))\n",
    "print(censor_string('Why did the chicken cross the road?', ['Did', 'chicken','road'], '*'))"
   ]
  },
  {
   "cell_type": "markdown",
   "id": "6b1cd41b",
   "metadata": {},
   "source": [
    "### Question 4\n",
    "In mathematics a Polydivisible Number (or magic number) is a number in a given number base with digits abcde... that has the following properties:\n",
    "- Its first digit a is not 0.\n",
    "- The number formed by its first two digits ab is a multiple of 2.\n",
    "- The number formed by its first three digits abc is a multiple of 3.\n",
    "- The number formed by its first four digits abcd is a multiple of 4.\n",
    "Create a function which takes an integer n and returns True if the given\n",
    "number is a Polydivisible Number and False otherwise.\n",
    "\n",
    "Examples: \n",
    "\n",
    "is_polydivisible(1232) ➞ True \n",
    "* 1 / 1 = 1\n",
    "* 12 / 2 = 6\n",
    "* 123 / 3 = 41\n",
    "* 1232 / 4 = 308\n",
    "\n",
    "is_polydivisible(123220 ) ➞ False\n",
    "* 1 / 1 = 1\n",
    "* 12 / 2 = 6\n",
    "* 123 / 3 = 41\n",
    "* 1232 / 4 = 308\n",
    "* 12322 / 5 = 2464.4 # Not a Whole Number\n",
    "* 123220 /6 = 220536.333... # Not a Whole Number"
   ]
  },
  {
   "cell_type": "code",
   "execution_count": 28,
   "id": "36421fbf",
   "metadata": {},
   "outputs": [
    {
     "name": "stdout",
     "output_type": "stream",
     "text": [
      "True\n",
      "False\n"
     ]
    }
   ],
   "source": [
    "def is_polydivisible(num):\n",
    "    for i in range(0, len(str(num))):\n",
    "        index = int(i) + 1\n",
    "        if int(str(num)[:index])%(index) != 0:\n",
    "            return False\n",
    "    return True\n",
    "\n",
    "print(is_polydivisible(1232))\n",
    "print(is_polydivisible(123220))"
   ]
  },
  {
   "cell_type": "markdown",
   "id": "26ca91d2",
   "metadata": {},
   "source": [
    "### Question 5\n",
    "Create a function that takes a list of numbers and returns the sum of all prime numbers in the list.\n",
    "\n",
    "Examples:  \n",
    "* sum_primes([1, 2, 3, 4, 5, 6, 7, 8, 9, 10]) ➞ 17\n",
    "* sum_primes([2, 3, 4, 11, 20, 50, 71]) ➞ 87\n",
    "* sum_primes([]) ➞ None"
   ]
  },
  {
   "cell_type": "code",
   "execution_count": 29,
   "id": "3f117130",
   "metadata": {},
   "outputs": [
    {
     "name": "stdout",
     "output_type": "stream",
     "text": [
      "17\n",
      "87\n",
      "0\n"
     ]
    }
   ],
   "source": [
    "def is_prime(n):\n",
    "    if n < 2:\n",
    "        return False\n",
    "    elif n <= 3:\n",
    "        return True\n",
    "    elif n % 2 == 0:\n",
    "        return False\n",
    "  \n",
    "    length = int(n**.5) + 1  # n**.5 is equal to sqrt(n)\n",
    "    for i in range(3, length, 2):\n",
    "        if n % i == 0:\n",
    "            return False\n",
    "\n",
    "    return True\n",
    "def sum_primes(l):\n",
    "    return sum(n for n in l if is_prime(n))\n",
    "\n",
    "print(sum_primes([1, 2, 3, 4, 5, 6, 7, 8, 9, 10]))\n",
    "print(sum_primes([2, 3, 4, 11, 20, 50, 71]))\n",
    "print(sum_primes([]))"
   ]
  }
 ],
 "metadata": {
  "kernelspec": {
   "display_name": "Python 3 (ipykernel)",
   "language": "python",
   "name": "python3"
  },
  "language_info": {
   "codemirror_mode": {
    "name": "ipython",
    "version": 3
   },
   "file_extension": ".py",
   "mimetype": "text/x-python",
   "name": "python",
   "nbconvert_exporter": "python",
   "pygments_lexer": "ipython3",
   "version": "3.9.7"
  }
 },
 "nbformat": 4,
 "nbformat_minor": 5
}
