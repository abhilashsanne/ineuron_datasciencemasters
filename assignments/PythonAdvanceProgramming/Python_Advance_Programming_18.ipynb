{
 "cells": [
  {
   "cell_type": "markdown",
   "id": "bf997019",
   "metadata": {},
   "source": [
    "### 1. A robot has been given a list of movement instructions. Each instruction is either left, right, up or down, followed by a distance to move. The robot starts at [0, 0]. You want to calculate where the robot will end up and return its final position as a list.\n",
    "To illustrate, if the robot is given the following instructions:\n",
    "\n",
    "[\"right 10\", \"up 50\", \"left 30\", \"down 10\"]\n",
    "\n",
    "It will end up 20 left and 40 up from where it started, so we return [-20, 40].\n",
    "\n",
    "Examples\n",
    "\n",
    "track_robot([\"right 10\", \"up 50\", \"left 30\", \"down 10\"]) ➞ [-20, 40]\n",
    "\n",
    "track_robot([]) ➞ [0, 0] // If there are no instructions, the robot doesn't move.\n",
    "\n",
    "track_robot([\"right 100\", \"right 100\", \"up 500\", \"up 10000\"]) ➞ [200, 10500]"
   ]
  },
  {
   "cell_type": "code",
   "execution_count": 3,
   "id": "9bc334a9",
   "metadata": {},
   "outputs": [
    {
     "name": "stdout",
     "output_type": "stream",
     "text": [
      "[-20, 40]\n",
      "[0, 0]\n",
      "[200, 10500]\n"
     ]
    }
   ],
   "source": [
    "def track_robot(steps:list) -> list:\n",
    "    position = [0, 0]\n",
    "    for step in steps:\n",
    "        if step.startswith(\"right\"):\n",
    "            position[0] += int(step.split()[1])\n",
    "        elif step.startswith(\"left\"):\n",
    "            position[0] -= int(step.split()[1])\n",
    "        elif step.startswith(\"up\"):\n",
    "            position[1] += int(step.split()[1])\n",
    "        elif step.startswith(\"down\"):\n",
    "            position[1] -= int(step.split()[1])\n",
    "    return position\n",
    "\n",
    "print(track_robot([\"right 10\", \"up 50\", \"left 30\", \"down 10\"]))\n",
    "print(track_robot([]))\n",
    "print(track_robot([\"right 100\", \"right 100\", \"up 500\", \"up 10000\"]))"
   ]
  },
  {
   "cell_type": "markdown",
   "id": "307e6e90",
   "metadata": {},
   "source": [
    "### 2. Write a function that will return the longest word in a sentence. In cases where more than one word is found, return the first one.\n",
    "Examples\n",
    "\n",
    "find_longest(\"A thing of beauty is a joy forever.\") ➞ \"forever\"\n",
    "\n",
    "find_longest(\"Forgetfulness is by all means powerless!\") ➞ \"forgetfulness\"\n",
    "\n",
    "find_longest(\"\\\"Strengths\\\" is the longest and most commonly used word that contains only a single vowel.\") ➞ \"strengths\""
   ]
  },
  {
   "cell_type": "code",
   "execution_count": 12,
   "id": "37b4caff",
   "metadata": {},
   "outputs": [
    {
     "name": "stdout",
     "output_type": "stream",
     "text": [
      "forever\n",
      "Forgetfulness\n",
      "\"Strengths\"\n"
     ]
    }
   ],
   "source": [
    "def find_longest(sentence:str) -> str:\n",
    "    longest = \"\"\n",
    "    for word in sentence.split():\n",
    "        if len(word.strip('.')) > len(longest):\n",
    "            longest = word.strip('.')\n",
    "    return longest        \n",
    "    \n",
    "print(find_longest(\"A thing of beauty is a joy forever.\"))\n",
    "print(find_longest(\"Forgetfulness is by all means powerless!\"))\n",
    "print(find_longest(\"\\\"Strengths\\\" is the longest and most commonly used word that contains only a single vowel.\"))"
   ]
  },
  {
   "cell_type": "markdown",
   "id": "31df0274",
   "metadata": {},
   "source": [
    "### 3. Create a function to check if a candidate is qualified in an imaginary coding interview of an imaginary tech startup.\n",
    "The criteria for a candidate to be qualified in the coding interview is:\n",
    "\n",
    "The candidate should have complete all the questions.\n",
    "The maximum time given to complete the interview is 120 minutes.\n",
    "The maximum time given for very easy questions is 5 minutes each.\n",
    "The maximum time given for easy questions is 10 minutes each.\n",
    "The maximum time given for medium questions is 15 minutes each.\n",
    "The maximum time given for hard questions is 20 minutes each.\n",
    "If all the above conditions are satisfied, return \"qualified\", else return \"disqualified\".\n",
    "\n",
    "You will be given a list of time taken by a candidate to solve a particular question and the total time taken by the candidate to complete the interview.\n",
    "\n",
    "Given a list , in a true condition will always be in the format [very easy, very easy, easy, easy, medium, medium, hard, hard].\n",
    "\n",
    "The maximum time to complete the interview includes a buffer time of 20 minutes.\n",
    "\n",
    "Examples\n",
    "\n",
    "interview([5, 5, 10, 10, 15, 15, 20, 20], 120) ➞ \"qualified\"\n",
    "\n",
    "interview([2, 3, 8, 6, 5, 12, 10, 18], 64) ➞ \"qualified\"\n",
    "\n",
    "interview([5, 5, 10, 10, 25, 15, 20, 20], 120) ➞ \"disqualified\"\n",
    "\n",
    "Exceeded the time limit for a medium question.\n",
    "interview([5, 5, 10, 10, 15, 15, 20], 120) ➞ \"disqualified\"\n",
    "\n",
    "Did not complete all the questions.\n",
    "interview([5, 5, 10, 10, 15, 15, 20, 20], 130) ➞ \"disqualified\"\n",
    "\n",
    "Solved all the questions in their respected time limits but exceeded the total time limit of the interview."
   ]
  },
  {
   "cell_type": "code",
   "execution_count": 15,
   "id": "1625ce37",
   "metadata": {},
   "outputs": [
    {
     "name": "stdout",
     "output_type": "stream",
     "text": [
      "qualified\n",
      "qualified\n",
      "disqualified\n",
      "disqualified\n",
      "disqualified\n"
     ]
    }
   ],
   "source": [
    "def interview(times:list,total_time:int) -> str:\n",
    "    if total_time <= 120 and len(times) == 8:\n",
    "        # using list slicing as the questions order is fixed\n",
    "        for i in times[0:2]: # very easy\n",
    "            if i > 5:\n",
    "                return \"disqualified\"\n",
    "        for i in times[2:4]: # easy\n",
    "            if i > 10:\n",
    "                return \"disqualified\" \n",
    "        for i in times[4:6]: # hard\n",
    "            if i > 15:\n",
    "                return \"disqualified\"\n",
    "        for i in times[6:8]: # very hard\n",
    "            if i > 20:\n",
    "                return \"disqualified\"\n",
    "    else:\n",
    "        return \"disqualified\" # incorrect array given or total time > 120\n",
    "    return \"qualified\" # everything is fine\n",
    "\n",
    "print(interview([5, 5, 10, 10, 15, 15, 20, 20], 120) )\n",
    "print(interview([2, 3, 8, 6, 5, 12, 10, 18], 64) )\n",
    "print(interview([5, 5, 10, 10, 25, 15, 20, 20], 120) )\n",
    "print(interview([5, 5, 10, 10, 15, 15, 20], 120))\n",
    "print(interview([5, 5, 10, 10, 15, 15, 20, 20], 130) )"
   ]
  },
  {
   "cell_type": "markdown",
   "id": "c65e7830",
   "metadata": {},
   "source": [
    "### 4. Write a function that divides a list into chunks of size n, where n is the length of each chunk.\n",
    "Examples\n",
    "\n",
    "chunkify([2, 3, 4, 5], 2) ➞ [[2, 3], [4, 5]]\n",
    "\n",
    "chunkify([2, 3, 4, 5, 6], 2) ➞ [[2, 3], [4, 5], [6]]\n",
    "\n",
    "chunkify([2, 3, 4, 5, 6, 7], 3) ➞ [[2, 3, 4], [5, 6, 7]]\n",
    "\n",
    "chunkify([2, 3, 4, 5, 6, 7], 1) ➞ [[2], [3], [4], [5], [6], [7]]\n",
    "\n",
    "chunkify([2, 3, 4, 5, 6, 7], 7) ➞ [[2, 3, 4, 5, 6, 7]]"
   ]
  },
  {
   "cell_type": "code",
   "execution_count": 22,
   "id": "e2b5ebdf",
   "metadata": {},
   "outputs": [
    {
     "name": "stdout",
     "output_type": "stream",
     "text": [
      "[[2, 3], [4, 5]]\n",
      "[[2, 3], [4, 5], [6]]\n",
      "[[2, 3, 4], [5, 6, 7]]\n",
      "[[2], [3], [4], [5], [6], [7]]\n",
      "[[2, 3, 4, 5, 6, 7]]\n"
     ]
    }
   ],
   "source": [
    "def chunkify(lst:list, n:int) -> list:\n",
    "    # alternate approach\n",
    "    # return [lst[i: i+n] for i in range(0, len(lst), n)] # using list comprehension\n",
    "    \n",
    "    chunks = []\n",
    "    while len(lst) > 0:\n",
    "        chunks.append(lst[:n])\n",
    "        lst = lst[n:]\n",
    "    return chunks\n",
    "\n",
    "print(chunkify([2, 3, 4, 5], 2))\n",
    "print(chunkify([2, 3, 4, 5, 6], 2))\n",
    "print(chunkify([2, 3, 4, 5, 6, 7], 3))\n",
    "print(chunkify([2, 3, 4, 5, 6, 7], 1))\n",
    "print(chunkify([2, 3, 4, 5, 6, 7], 7))"
   ]
  },
  {
   "cell_type": "markdown",
   "id": "7b45f0b9",
   "metadata": {},
   "source": [
    "### 5. You are given a list of strings consisting of grocery items, with prices in\n",
    "parentheses. Return a list of prices in float format.\n",
    "\n",
    "Examples \n",
    "* get_prices([\"salad (4.99)&quot;]) ➞ [4.99] get_prices([ &quot;artichokes (1.99)\", \"rotiserrie chicken (5.99)&quot;, &quot;gum (0.75)\" ]) ➞ [1.99, 5.99, 0.75] \n",
    "* get_prices([ \"ice cream (5.99)&quot;, &quot;banana (0.20)\", \"sandwich (8.50)&quot;, &quot;soup (1.99)\" ]) ➞ [5.99, 0.2, 8.50, 1.99]"
   ]
  },
  {
   "cell_type": "code",
   "execution_count": 27,
   "id": "dd624d1a",
   "metadata": {},
   "outputs": [
    {
     "name": "stdout",
     "output_type": "stream",
     "text": [
      "[1.99, 5.99, 0.75]\n",
      "[5.99, 0.2, 8.5, 1.99]\n",
      "[4.99]\n"
     ]
    }
   ],
   "source": [
    "def get_prices(lst):\n",
    "    return [float(i.split(' ')[-1].replace('($', '').replace(')','')) for i in lst]\n",
    "    \n",
    "print(get_prices([\n",
    "  \"artichokes ($1.99)\",\n",
    "  \"rotiserrie chicken ($5.99)\",\n",
    "  \"gum ($0.75)\"\n",
    "]))\n",
    "\n",
    "print(get_prices([\n",
    "  \"ice cream ($5.99)\",\n",
    "  \"banana ($0.20)\",\n",
    "  \"sandwich ($8.50)\",\n",
    "  \"soup ($1.99)\"\n",
    "])\n",
    ")\n",
    "print(get_prices([\"salad ($4.99)\"]))"
   ]
  }
 ],
 "metadata": {
  "kernelspec": {
   "display_name": "Python 3 (ipykernel)",
   "language": "python",
   "name": "python3"
  },
  "language_info": {
   "codemirror_mode": {
    "name": "ipython",
    "version": 3
   },
   "file_extension": ".py",
   "mimetype": "text/x-python",
   "name": "python",
   "nbconvert_exporter": "python",
   "pygments_lexer": "ipython3",
   "version": "3.9.7"
  }
 },
 "nbformat": 4,
 "nbformat_minor": 5
}
