{
 "cells": [
  {
   "cell_type": "markdown",
   "id": "bc1b91cf",
   "metadata": {},
   "source": [
    "### 1. YouTube offers different playback speed options for users. This allows users to increase or decrease the speed of the video content. Given the actual duration and playback speed of the video, calculate the playback duration of the video.\n",
    "Examples\n",
    "* playback_duration(\"00:30:00\", 2) ➞ \"00:15:00\"\n",
    "* playback_duration(\"01:20:00\", 1.5) ➞ \"00:53:20\"\n",
    "* playback_duration(\"51:20:09\", 0.5) ➞ \"102:40:18\""
   ]
  },
  {
   "cell_type": "code",
   "execution_count": 2,
   "id": "6c0d2c96",
   "metadata": {},
   "outputs": [
    {
     "name": "stdout",
     "output_type": "stream",
     "text": [
      "00:15:00\n",
      "00:53:20\n",
      "102:40:18\n"
     ]
    }
   ],
   "source": [
    "import math\n",
    "import datetime\n",
    "\n",
    "def conversion(time):\n",
    "    day = time // (24 * 3600)\n",
    "    time = time % (24 * 3600)\n",
    "    hour = time // 3600\n",
    "    if day > 1:\n",
    "        hour = (day * 24) +hour\n",
    "    time %= 3600\n",
    "    minutes = time // 60\n",
    "    time %= 60\n",
    "    seconds = time\n",
    "    return \"%02d:%02d:%02d\" % ( hour, minutes, seconds)\n",
    "\n",
    "def playback_duration(time, speed):\n",
    "    time = time.split(':')\n",
    "    hours = int(time[0])\n",
    "    minutes = int(time[1])\n",
    "    seconds = int(time[2])\n",
    "\n",
    "    total_seconds = hours * 3600 + minutes * 60 + seconds\n",
    "    total_seconds = total_seconds/ speed\n",
    "    return conversion(total_seconds)\n",
    "\n",
    "print(playback_duration(\"00:30:00\", 2))\n",
    "print(playback_duration(\"01:20:00\", 1.5))\n",
    "print(playback_duration(\"51:20:09\", 0.5))"
   ]
  },
  {
   "cell_type": "markdown",
   "id": "9059f50b",
   "metadata": {},
   "source": [
    "### 2. We needs your help to construct a building which will be a pile of n cubes. The cube at the bottom will have a volume of n^3, the cube above will have volume of (n-1)^3 and so on until the top which will have a volume of 1^3. Given the total volume m of the building, can you find the number of cubes n required for the building? In other words, you have to return an integer n such that:\n",
    "\n",
    "* n^3 + (n-1)^3 + ... + 1^3 == m #Return None if there is no such number.\n",
    "\n",
    "Examples:\n",
    "* pile_of_cubes(1071225) ➞ 45\n",
    "* pile_of_cubes(4183059834009) ➞ 2022\n",
    "* pile_of_cubes(16) ➞ None"
   ]
  },
  {
   "cell_type": "code",
   "execution_count": 18,
   "id": "9663b447",
   "metadata": {},
   "outputs": [
    {
     "name": "stdout",
     "output_type": "stream",
     "text": [
      "45\n",
      "2022\n",
      "None\n"
     ]
    }
   ],
   "source": [
    "def pile_of_cubes(m:int):\n",
    "    sum = 0\n",
    "    count = 0\n",
    "    for i in range(1, m):\n",
    "        sum += i**3\n",
    "        count += 1\n",
    "        if sum == m:\n",
    "            return count\n",
    "        if sum > m:\n",
    "            return None\n",
    "        \n",
    "print(pile_of_cubes(1071225))\n",
    "print(pile_of_cubes(4183059834009))\n",
    "print(pile_of_cubes(16))"
   ]
  },
  {
   "cell_type": "markdown",
   "id": "bdaa5efc",
   "metadata": {},
   "source": [
    "### Question 3\n",
    "3. A fulcrum of a list is an integer such that all elements to the left of it and all elements to the right of it sum to the same value. Write a function that finds the fulcrum of a list.\n",
    "\n",
    "To illustrate:\n",
    "* find_fulcrum([3, 1, 5, 2, 4, 6, -1]) ➞ 2 # Since [3, 1, 5] and [4, 6, -1] both sum to 9\n",
    "\n",
    "Examples\n",
    "- find_fulcrum([1, 2, 4, 9, 10, -10, -9, 3]) ➞ 4\n",
    "- find_fulcrum([9, 1, 9]) ➞ 1\n",
    "- find_fulcrum([7, -1, 0, -1, 1, 1, 2, 3]) ➞ 0\n",
    "- find_fulcrum([8, 8, 8, 8]) ➞ -1"
   ]
  },
  {
   "cell_type": "code",
   "execution_count": 17,
   "id": "def38f5a",
   "metadata": {},
   "outputs": [
    {
     "name": "stdout",
     "output_type": "stream",
     "text": [
      "2\n",
      "4\n",
      "1\n",
      "0\n",
      "-1\n"
     ]
    }
   ],
   "source": [
    "def find_fulcrum(lst):\n",
    "    for i in range(len(lst)-1):\n",
    "        if sum(lst[:i]) == sum(lst[i+1:]):\n",
    "            return lst[i]\n",
    "    return -1\n",
    "        \n",
    "print(find_fulcrum([3, 1, 5, 2, 4, 6, -1]))\n",
    "print(find_fulcrum([1, 2, 4, 9, 10, -10, -9, 3]))\n",
    "print(find_fulcrum([9, 1, 9]))\n",
    "print(find_fulcrum([7, -1, 0, -1, 1, 1, 2, 3]))\n",
    "print(find_fulcrum([8, 8, 8, 8]))"
   ]
  },
  {
   "cell_type": "markdown",
   "id": "aeeee73a",
   "metadata": {},
   "source": [
    "### Question 4\n",
    "4. Given a list of integers representing the color of each sock, determine how many pairs of socks with matching colors there are. For example, there are 7 socks with colors [1, 2, 1, 2, 1, 3, 2]. There is one pair of color 1 and one of color 2. There are three odd socks left, one of each color. The number of pairs is 2.\n",
    "\n",
    "Create a function that returns an integer representing the number of matching pairs of socks that are available.\n",
    "\n",
    "Examples\n",
    "- sock_merchant([10, 20, 20, 10, 10, 30, 50, 10, 20]) ➞ 3\n",
    "- sock_merchant([50, 20, 30, 90, 30, 20, 50, 20, 90]) ➞ 4\n",
    "- sock_merchant([]) ➞ 0"
   ]
  },
  {
   "cell_type": "code",
   "execution_count": 31,
   "id": "633f12ae",
   "metadata": {},
   "outputs": [
    {
     "name": "stdout",
     "output_type": "stream",
     "text": [
      "2\n",
      "3\n",
      "4\n",
      "0\n"
     ]
    }
   ],
   "source": [
    "def sock_merchant(socks:list) -> int:\n",
    "    pairs = {k:(socks.count(k)//2) for k in socks if socks.count(k) > 0 and socks.count(k) - socks.count(k)%2}\n",
    "    return sum(pairs.values())\n",
    "    \n",
    "print(sock_merchant([1, 2, 1, 2, 1, 3, 2]))\n",
    "print(sock_merchant([10, 20, 20, 10, 10, 30, 50, 10, 20]))\n",
    "print(sock_merchant([50, 20, 30, 90, 30, 20, 50, 20, 90]))\n",
    "print(sock_merchant([]))"
   ]
  },
  {
   "cell_type": "markdown",
   "id": "d5829dde",
   "metadata": {},
   "source": [
    "### Question 5\n",
    "5. Create a function that takes a string containing integers as well as other characters and return the sum of the negative integers only.\n",
    "\n",
    "Examples:\n",
    "- negative_sum('-12 13%14&-11') ➞ -23 # -12 + -11 = -23\n",
    "- negative_sum('22 13%14&-11-22 13 12') ➞ -33 # -11 + -22 = -33"
   ]
  },
  {
   "cell_type": "code",
   "execution_count": 33,
   "id": "f88d3ca2",
   "metadata": {},
   "outputs": [
    {
     "name": "stdout",
     "output_type": "stream",
     "text": [
      "-23\n",
      "-33\n"
     ]
    }
   ],
   "source": [
    "import re\n",
    "\n",
    "def negative_sum(s):\n",
    "    result = [int(d) for d in re.findall(r'-\\d+', s)]\n",
    "    return sum(result)\n",
    "\n",
    "print(negative_sum(\"-12 13%14&-11\"))\n",
    "print(negative_sum(\"22 13%14&-11-22 13 12\"))"
   ]
  }
 ],
 "metadata": {
  "kernelspec": {
   "display_name": "Python 3 (ipykernel)",
   "language": "python",
   "name": "python3"
  },
  "language_info": {
   "codemirror_mode": {
    "name": "ipython",
    "version": 3
   },
   "file_extension": ".py",
   "mimetype": "text/x-python",
   "name": "python",
   "nbconvert_exporter": "python",
   "pygments_lexer": "ipython3",
   "version": "3.9.7"
  }
 },
 "nbformat": 4,
 "nbformat_minor": 5
}
