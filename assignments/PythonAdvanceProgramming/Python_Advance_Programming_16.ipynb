{
 "cells": [
  {
   "cell_type": "markdown",
   "id": "22ea07af",
   "metadata": {},
   "source": [
    "### 1. Rondo Form is a type of musical structure, in which there is a recurring theme/refrain, notated as A. Here are the rules for valid rondo forms:\n",
    "Rondo forms always start and end with an A section.\n",
    "In between the A sections, there should be contrasting sections notated as B, then C, then D, etc... No letter should be skipped.\n",
    "There shouldn't be any repeats in the sequence (such as ABBACCA).\n",
    "Create a function which validates whether a given string is a valid Rondo Form.\n",
    "\n",
    "Examples\n",
    "\n",
    "valid_rondo(\"ABACADAEAFAGAHAIAJA\") ➞ True\n",
    "\n",
    "valid_rondo(\"ABA\") ➞ True\n",
    "\n",
    "valid_rondo(\"ABBACCA\") ➞ False\n",
    "\n",
    "valid_rondo(\"ACAC\") ➞ False\n",
    "\n",
    "valid_rondo(\"A\") ➞ False"
   ]
  },
  {
   "cell_type": "code",
   "execution_count": 24,
   "id": "86122fb7",
   "metadata": {},
   "outputs": [
    {
     "name": "stdout",
     "output_type": "stream",
     "text": [
      "True\n",
      "True\n",
      "False\n",
      "False\n",
      "False\n"
     ]
    }
   ],
   "source": [
    "def valid_rondo(string:str):\n",
    "    if len(string) <= 2:\n",
    "        return False\n",
    "    elif string.startswith('A') and string.endswith('A'):\n",
    "        previous = \"A\" # we know that first char is A\n",
    "        for i in range(1, len(string)):\n",
    "            if previous == \"A\" and string[i] == 'A':\n",
    "                return False\n",
    "            elif previous != \"A\" and string[i] != 'A':\n",
    "                return False\n",
    "            elif previous == 'A' and string[i] != 'A':\n",
    "                previous = string[i]\n",
    "            elif previous != 'A' and string[i] == 'A':\n",
    "                previous = string[i]\n",
    "        else:\n",
    "            return True\n",
    "    return False\n",
    "    \n",
    "print(valid_rondo(\"ABACADAEAFAGAHAIAJA\"))\n",
    "print(valid_rondo(\"ABA\"))\n",
    "print(valid_rondo(\"ABBACCA\"))\n",
    "print(valid_rondo(\"ACAC\"))\n",
    "print(valid_rondo(\"A\"))"
   ]
  },
  {
   "cell_type": "markdown",
   "id": "0bfad25a",
   "metadata": {},
   "source": [
    "### 2. Create a function that returns the whole of the first sentence which contains a specific word. Include the full stop at the end of the sentence.\n",
    "Examples\n",
    "\n",
    "txt = \"I have a cat. I have a mat. Things are going swell.\"\n",
    "\n",
    "sentence_searcher(txt, \"have\") ➞ \"I have a cat.\"\n",
    "\n",
    "sentence_searcher(txt, \"MAT\") ➞ \"I have a mat.\"\n",
    "\n",
    "sentence_searcher(txt, \"things\") ➞ \"Things are going swell.\"\n",
    "\n",
    "sentence_searcher(txt, \"flat\") ➞ \"\""
   ]
  },
  {
   "cell_type": "code",
   "execution_count": 38,
   "id": "b8b7fe90",
   "metadata": {},
   "outputs": [
    {
     "name": "stdout",
     "output_type": "stream",
     "text": [
      "I have a cat.\n",
      "I have a mat.\n",
      "Things are going swell.\n",
      "\"\"\n"
     ]
    }
   ],
   "source": [
    "txt = \"I have a cat. I have a mat. Things are going swell.\"\n",
    "\n",
    "def sentence_searcher(txt:str, word:str):\n",
    "    lines = txt.split('.')\n",
    "    for line in lines:\n",
    "        if word.lower() in line or word.upper() in line or word.capitalize() in line:\n",
    "            return line.strip() + \".\"\n",
    "    return '\"\"' # returning double quotes to show output\n",
    "\n",
    "print(sentence_searcher(txt, \"have\"))\n",
    "print(sentence_searcher(txt, \"MAT\"))\n",
    "print(sentence_searcher(txt, \"things\"))\n",
    "print(sentence_searcher(txt, \"flat\")) "
   ]
  },
  {
   "cell_type": "markdown",
   "id": "3e53d92c",
   "metadata": {},
   "source": [
    "### 3. Given a number, find the \"round \"of each digit of the number. An integer is called \"round\" if all its digits except the leftmost (most significant) are equal to zero.\n",
    "- Round numbers: 4000, 1, 9, 800, 90\n",
    "- Not round numbers: 110, 707, 222, 1001\n",
    "\n",
    "Create a function that takes a number and returns the \"round\" of each digit (except if the digit is zero) as a string. Check out the following examples for more clarification.\n",
    "\n",
    "Examples\n",
    "\n",
    "sum_round(101) ➞ \"1 100\"\n",
    "\n",
    "sum_round(1234) ➞ \"4 30 200 1000\"\n",
    "\n",
    "sum_round(54210) ➞ \"10 200 4000 50000\""
   ]
  },
  {
   "cell_type": "code",
   "execution_count": 43,
   "id": "c69ec490",
   "metadata": {},
   "outputs": [
    {
     "name": "stdout",
     "output_type": "stream",
     "text": [
      "1 100\n",
      "4 30 200 1000\n",
      "10 200 4000 50000\n"
     ]
    }
   ],
   "source": [
    "def sum_round(num):\n",
    "    n = str(num)\n",
    "    res = []\n",
    "    if len(n) == 1:\n",
    "        return n\n",
    "    for i in range(len(n)):\n",
    "        if n[i] != '0':\n",
    "            res.append(n[i] + \"0\" * (len(n) - i -1))\n",
    "    res.reverse()\n",
    "    return \" \".join(res)\n",
    "\n",
    "print(sum_round(101))\n",
    "print(sum_round(1234))\n",
    "print(sum_round(54210))"
   ]
  },
  {
   "cell_type": "markdown",
   "id": "89582c0c",
   "metadata": {},
   "source": [
    "### 4. Your task, is to create N x N multiplication table, of size n provided in parameter.\n",
    "For example, when n is 5, the multiplication table is:\n",
    "\n",
    "1, 2, 3, 4, 5\n",
    "2, 4, 6, 8, 10\n",
    "3, 6, 9, 12, 15\n",
    "4, 8, 12, 16, 20\n",
    "5, 10, 15, 20, 25\n",
    "This example will result in:\n",
    "\n",
    "[[1, 2, 3, 4, 5], [2, 4, 6, 8, 10], [3, 6, 9, 12, 15], [4, 8, 12, 16, 20], [5, 10, 15, 20, 25]]\n",
    "\n",
    "Examples\n",
    "\n",
    "multiplication_table(1) ➞ [[1]]\n",
    "\n",
    "multiplication_table(3) ➞ [[1, 2, 3], [2, 4, 6], [3, 6, 9]]"
   ]
  },
  {
   "cell_type": "code",
   "execution_count": 45,
   "id": "5db7ab08",
   "metadata": {},
   "outputs": [
    {
     "name": "stdout",
     "output_type": "stream",
     "text": [
      "[[1]]\n",
      "[[1, 2, 3], [2, 4, 6], [3, 6, 9]]\n"
     ]
    }
   ],
   "source": [
    "def multiplication_table(n):\n",
    "    l = []   \n",
    "    for i in range(n):\n",
    "        l1 = []\n",
    "        for j in range(1,n+1):\n",
    "            l1.append(j * (i +1))\n",
    "        l.append(l1)    \n",
    "    return l \n",
    "\n",
    "print(multiplication_table(1))\n",
    "print(multiplication_table(3))"
   ]
  },
  {
   "cell_type": "markdown",
   "id": "f0e05751",
   "metadata": {},
   "source": [
    "### 5. Create a function that returns True if two lines rhyme and False otherwise. For the purposes of this exercise, two lines rhyme if the last word from each sentence contains the same vowels.\n",
    "Examples\n",
    "\n",
    "does_rhyme(\"Sam I am!\", \"Green eggs and ham.\") ➞ True\n",
    "\n",
    "does_rhyme(\"Sam I am!\", \"Green eggs and HAM.\") ➞ True\n",
    "\n",
    "Capitalization and punctuation should not matter.\n",
    "does_rhyme(\"You are off to the races\", \"a splendid day.\") ➞ False\n",
    "\n",
    "does_rhyme(\"and frequently do?\", \"you gotta move.\") ➞ False"
   ]
  },
  {
   "cell_type": "code",
   "execution_count": 46,
   "id": "d66148dc",
   "metadata": {},
   "outputs": [
    {
     "name": "stdout",
     "output_type": "stream",
     "text": [
      "True\n",
      "True\n",
      "False\n",
      "False\n"
     ]
    }
   ],
   "source": [
    "def does_rhyme(s,s1):\n",
    "    for letter in s.split()[-1]:\n",
    "        for letter1 in s1.split()[-1]:\n",
    "            if letter.lower() in \"aieou\" and letter1.lower() in \"aeiou\":\n",
    "                if letter.lower() != letter1.lower():\n",
    "                    return False\n",
    "    return True            \n",
    "            \n",
    "print(does_rhyme(\"Sam I am!\", \"Green eggs and ham.\"))\n",
    "print(does_rhyme(\"Sam I am!\", \"Green eggs and HAM.\") )\n",
    "print(does_rhyme(\"You are off to the races\", \"a splendid day.\"))\n",
    "print(does_rhyme(\"and frequently do?\", \"you gotta move.\"))"
   ]
  }
 ],
 "metadata": {
  "kernelspec": {
   "display_name": "Python 3 (ipykernel)",
   "language": "python",
   "name": "python3"
  },
  "language_info": {
   "codemirror_mode": {
    "name": "ipython",
    "version": 3
   },
   "file_extension": ".py",
   "mimetype": "text/x-python",
   "name": "python",
   "nbconvert_exporter": "python",
   "pygments_lexer": "ipython3",
   "version": "3.9.7"
  }
 },
 "nbformat": 4,
 "nbformat_minor": 5
}
