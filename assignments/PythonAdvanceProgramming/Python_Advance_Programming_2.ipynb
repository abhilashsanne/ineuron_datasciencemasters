{
 "cells": [
  {
   "cell_type": "markdown",
   "id": "795a9377",
   "metadata": {},
   "source": [
    "### Question 1\n",
    "Write a function that takes a positive integer num and calculates how many dots exist in a pentagonal shape around the center dot on the Nth iteration. In the image below you can see the first iteration is only a single dot. On the second, there are 6 dots. On the third, there are 16 dots, and on the fourth there are 31 dots.\n",
    "Return the number of dots that exist in the whole pentagon on the Nth iteration.\n",
    "\n",
    "Examples:\n",
    "* pentagonal(1) ➞ 1\n",
    "* pentagonal(2) ➞ 6\n",
    "* pentagonal(3) ➞ 16\n",
    "* pentagonal(8) ➞ 141"
   ]
  },
  {
   "cell_type": "code",
   "execution_count": 3,
   "id": "13134fb7",
   "metadata": {},
   "outputs": [
    {
     "name": "stdout",
     "output_type": "stream",
     "text": [
      "1\n",
      "6\n",
      "16\n",
      "141\n"
     ]
    }
   ],
   "source": [
    "def pentagonal(n): \n",
    "    # Formula to calculate nth Centered pentagonal number\n",
    "    return (5 * (n ** 2 -  n) + 2) // 2\n",
    "\n",
    "print(pentagonal(1))\n",
    "print(pentagonal(2))\n",
    "print(pentagonal(3))\n",
    "print(pentagonal(8))"
   ]
  },
  {
   "cell_type": "markdown",
   "id": "a7c40933",
   "metadata": {},
   "source": [
    "### Question 2\n",
    "Make a function that encrypts a given input with these steps:\n",
    "\n",
    "Input: 'apple'\n",
    "\n",
    "    * Step 1: Reverse the input: 'elppa'\n",
    "    * Step 2: Replace all vowels using the following chart:\n",
    "* a => 0\n",
    "* e => 1\n",
    "* i => 2\n",
    "* o => 2\n",
    "* u => 3\n",
    "\n",
    "\\# '1lpp0'\n",
    "\n",
    "Step 3: Add 'aca' to the end of the word: '1lpp0aca'\n",
    "    * Output: '1lpp0aca'\n",
    "\n",
    "Examples:\n",
    "* encrypt('banana') ➞ '0n0n0baca'\n",
    "* encrypt('karaca') ➞ '0c0r0kaca'\n",
    "* encrypt('burak') ➞ 'k0r3baca'\n",
    "* encrypt('alpaca') ➞ '0c0pl0aca'"
   ]
  },
  {
   "cell_type": "code",
   "execution_count": 8,
   "id": "1d8355b9",
   "metadata": {},
   "outputs": [
    {
     "name": "stdout",
     "output_type": "stream",
     "text": [
      "0n0n0baca\n",
      "0c0r0kaca\n",
      "k0r3baca\n",
      "0c0pl0aca\n"
     ]
    }
   ],
   "source": [
    "def encrypts(s):\n",
    "    codes = {'a':0,'e':1,'i':2,'o':2,'u':3}\n",
    "    s = s.lower()\n",
    "    s = s[::-1]        \n",
    "    return ''.join([str(codes[x]) if x in codes.keys() else x for x in s]) + 'aca'\n",
    "\n",
    "print(encrypts('banana'))\n",
    "print(encrypts('karaca'))\n",
    "print(encrypts('burak'))\n",
    "print(encrypts('alpaca'))"
   ]
  },
  {
   "cell_type": "markdown",
   "id": "50a69999",
   "metadata": {},
   "source": [
    "### Question 3\n",
    "Given the month and year as numbers, return whether that month contains a Friday 13th.(i.e You can check Python's datetime module)\n",
    "\n",
    "Examples:\n",
    "* has_friday_13(3, 2020) ➞ True\n",
    "* has_friday_13(10, 2017) ➞ True\n",
    "* has_friday_13(1, 1985) ➞ False"
   ]
  },
  {
   "cell_type": "code",
   "execution_count": 10,
   "id": "02e4c029",
   "metadata": {},
   "outputs": [
    {
     "name": "stdout",
     "output_type": "stream",
     "text": [
      "True\n",
      "True\n",
      "False\n"
     ]
    }
   ],
   "source": [
    "import datetime\n",
    "\n",
    "def has_friday_13(month,year):\n",
    "    return(True if datetime.datetime.strptime('13 '+' '+str(month)+' '+str(year), '%d %m %Y').weekday()==4 else False) \n",
    "\n",
    "print(has_friday_13(3, 2020))\n",
    "print(has_friday_13(10, 2017))\n",
    "print(has_friday_13(1, 1985))"
   ]
  },
  {
   "cell_type": "markdown",
   "id": "c8f05f02",
   "metadata": {},
   "source": [
    "### Question 4\n",
    "\n",
    "Write a regular expression that will help us count how many bad cookies are produced every day. You must use RegEx negative lookbehind.\n",
    "\n",
    "Example:\n",
    "  \n",
    "* lst = ['bad cookie', 'good cookie', 'bad cookie', 'good cookie', 'good cookie']\n",
    "* pattern = '^bad\\s\\w'\n",
    "* len(re.findall(pattern, ', '.join(lst))) ➞ 2"
   ]
  },
  {
   "cell_type": "code",
   "execution_count": 11,
   "id": "964abba5",
   "metadata": {},
   "outputs": [
    {
     "data": {
      "text/plain": [
       "2"
      ]
     },
     "execution_count": 11,
     "metadata": {},
     "output_type": "execute_result"
    }
   ],
   "source": [
    "import re\n",
    "lst = ['bad cookie', 'good cookie', 'bad cookie', 'good cookie', 'good cookie']\n",
    "pattern = 'bad\\s\\w'\n",
    "len(re.findall(pattern, ', '.join(lst)))"
   ]
  },
  {
   "cell_type": "markdown",
   "id": "c23d062d",
   "metadata": {},
   "source": [
    "### Question 5\n",
    "Given a list of words in the singular form, return a set of those words in the plural form if they appear more than once in the list.\n",
    "\n",
    "Examples:\n",
    "    \n",
    "* pluralize(['cow', 'pig', 'cow', 'cow']) ➞ { 'cows', 'pig' }\n",
    "* pluralize(['table', 'table', 'table']) ➞ { 'tables' }\n",
    "* pluralize(['chair', 'pencil', 'arm']) ➞ { 'chair', 'pencil', 'arm' }"
   ]
  },
  {
   "cell_type": "code",
   "execution_count": 15,
   "id": "057c159a",
   "metadata": {},
   "outputs": [
    {
     "name": "stdout",
     "output_type": "stream",
     "text": [
      "The List : ['cow', 'pig', 'cow', 'cow']\n",
      "{'pig', 'cows'}\n",
      "The List : ['table', 'table', 'table']\n",
      "{'tables'}\n",
      "The List : ['chair', 'pencil', 'arm']\n",
      "{'arm', 'chair', 'pencil'}\n"
     ]
    }
   ],
   "source": [
    "def pluralize(lst):\n",
    "    ls = []\n",
    "    print(\"The List :\",lst)\n",
    "    for i in lst:\n",
    "        if lst.count(i) > 1:\n",
    "            ls.append(i + 's')\n",
    "        else:\n",
    "            ls.append(i)\n",
    "    return set(ls)\n",
    "\n",
    "print(pluralize(['cow', 'pig', 'cow', 'cow']))\n",
    "print(pluralize(['table', 'table', 'table']))\n",
    "print(pluralize(['chair', 'pencil', 'arm']))"
   ]
  }
 ],
 "metadata": {
  "kernelspec": {
   "display_name": "Python 3 (ipykernel)",
   "language": "python",
   "name": "python3"
  },
  "language_info": {
   "codemirror_mode": {
    "name": "ipython",
    "version": 3
   },
   "file_extension": ".py",
   "mimetype": "text/x-python",
   "name": "python",
   "nbconvert_exporter": "python",
   "pygments_lexer": "ipython3",
   "version": "3.9.7"
  }
 },
 "nbformat": 4,
 "nbformat_minor": 5
}
