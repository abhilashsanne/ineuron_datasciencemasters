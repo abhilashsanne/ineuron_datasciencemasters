{
 "cells": [
  {
   "cell_type": "markdown",
   "id": "63e60610",
   "metadata": {},
   "source": [
    "### Question 1\n",
    "In mathematics, the Fibonacci numbers, commonly denoted Fn, form a sequence, called the Fibonacci sequence, such that each number is the sum of the two preceding ones, starting from 0 and 1:\n",
    "\n",
    "The beginning of the sequence is this:\n",
    "* 0, 1, 1, 2, 3, 5, 8, 13, 21, 34, 55, 89, 144, ...\n",
    "\n",
    "The function fastFib(num) returns the fibonacci number Fn, of the given num as an argument.\n",
    "\n",
    "Examples:\n",
    "* fib_fast(5) ➞ 5\n",
    "* fib_fast(10) ➞ 55\n",
    "* fib_fast(20) ➞ 6765\n",
    "* fib_fast(50) ➞ 12586269025"
   ]
  },
  {
   "cell_type": "code",
   "execution_count": 12,
   "id": "585e9d1a",
   "metadata": {},
   "outputs": [
    {
     "name": "stdout",
     "output_type": "stream",
     "text": [
      "5\n",
      "55\n",
      "6765\n",
      "12586269025\n"
     ]
    }
   ],
   "source": [
    "def fib_fast(num):\n",
    "    a, b = 0 , 1\n",
    "    if num == 1:\n",
    "        return a\n",
    "    elif num == 2:\n",
    "        return 1\n",
    "    sum = b\n",
    "    for i in range(3, num+1):\n",
    "        sum += b\n",
    "        a, b = b, a + b\n",
    "    return sum\n",
    "\n",
    "print(fib_fast(5))\n",
    "print(fib_fast(10))\n",
    "print(fib_fast(20))\n",
    "print(fib_fast(50))"
   ]
  },
  {
   "cell_type": "markdown",
   "id": "fd901b19",
   "metadata": {},
   "source": [
    "### Question 2\n",
    "Create a function that takes a strings characters as ASCII and returns each characters hexadecimal value as a string.\n",
    "\n",
    "Examples\n",
    "* convert_to_hex('hello world') ➞ '68 65 6c 6c 6f 20 77 6f 72 6c 64'\n",
    "* convert_to_hex('Big Boi') ➞ '42 69 67 20 42 6f 69'\n",
    "* convert_to_hex('Marty Poppinson') ➞ '4d 61 72 74 79 20 50 6f 70 70 69 6e 73 6f 6e'"
   ]
  },
  {
   "cell_type": "code",
   "execution_count": 13,
   "id": "df4bb8c6",
   "metadata": {},
   "outputs": [
    {
     "name": "stdout",
     "output_type": "stream",
     "text": [
      "68 65 6c 6c 6f 20 77 6f 72 6c 64\n",
      "42 69 67 20 42 6f 69\n",
      "4d 61 72 74 79 20 50 6f 70 70 69 6e 73 6f 6e\n"
     ]
    }
   ],
   "source": [
    "def convert_to_hex(str):\n",
    "    hexa = []\n",
    "    for i in range(len(str)):      \n",
    "        ch = str[i]      \n",
    "        in1 = ord(ch)\n",
    "        part = hex(in1).lstrip(\"0x\")\n",
    "        hexa.append(part)\n",
    "    return \" \".join(hexa) \n",
    "\n",
    "print(convert_to_hex('hello world'))\n",
    "print(convert_to_hex('Big Boi'))\n",
    "print(convert_to_hex('Marty Poppinson'))"
   ]
  },
  {
   "cell_type": "markdown",
   "id": "e8aa32d3",
   "metadata": {},
   "source": [
    "### Question 3\n",
    "3. Someone has attempted to censor my strings by replacing every vowel with a *, l*k* th*s. Luckily, I've been able to find the vowels that were removed.\n",
    "\n",
    "Given a censored string and a string of the censored vowels, return the original uncensored string.\n",
    "\n",
    "Example\n",
    "* uncensor('Wh\\*r\\* d\\*d my v\\*w\\*ls g\\*?', 'eeioeo') ➞ 'Where did my vowels go?'\n",
    "* uncensor('abcd', '') ➞ 'abcd'\n",
    "* uncensor('\\*PP\\*RC\\*S*', 'UEAE') ➞ 'UPPERCASE'"
   ]
  },
  {
   "cell_type": "code",
   "execution_count": 14,
   "id": "40cad1c9",
   "metadata": {},
   "outputs": [
    {
     "name": "stdout",
     "output_type": "stream",
     "text": [
      "Where did my vowels go?\n",
      "abcd\n",
      "UPPERCASE\n"
     ]
    }
   ],
   "source": [
    "def uncensor(string, vowels):\n",
    "    new = ''\n",
    "    counter = 0\n",
    "    for i in range(len(string)):\n",
    "        if string[i] == '*':            \n",
    "            new += vowels[counter]\n",
    "            counter += 1\n",
    "        else:\n",
    "            new += string[i]\n",
    "    return new\n",
    "\n",
    "print(uncensor('Wh*r* d*d my v*w*ls g*?', 'eeioeo'))\n",
    "print(uncensor('abcd', ''))\n",
    "print(uncensor('*PP*RC*S*', 'UEAE'))"
   ]
  },
  {
   "cell_type": "markdown",
   "id": "9c568612",
   "metadata": {},
   "source": [
    "### Question 4\n",
    "4. Write a function that takes an IP address and returns the domain name using PTR DNS records.\n",
    "\n",
    "Example:\n",
    "* get_domain('8.8.8.8') ➞ 'dns.google'\n",
    "* get_domain('8.8.4.4') ➞ 'dns.google'"
   ]
  },
  {
   "cell_type": "code",
   "execution_count": 16,
   "id": "84d7b113",
   "metadata": {},
   "outputs": [
    {
     "name": "stdout",
     "output_type": "stream",
     "text": [
      "dns.google.\n",
      "dns.google.\n"
     ]
    }
   ],
   "source": [
    "#!pip install dnspython\n",
    "from dns import reversename\n",
    "from dns import resolver\n",
    "\n",
    "def get_domain(ipAdd):\n",
    "\n",
    "    domain_address = reversename.from_address(ipAdd)\n",
    "    domain_name = str(resolver.resolve(domain_address,\"PTR\")[0])\n",
    "    return domain_name\n",
    "\n",
    "print(get_domain('8.8.8.8'))\n",
    "print(get_domain('8.8.4.4') )"
   ]
  },
  {
   "cell_type": "markdown",
   "id": "f9175659",
   "metadata": {},
   "source": [
    "### Question 5\n",
    "Create a function that takes an integer n and returns the factorial of factorials. See below examples for a better understanding:\n",
    "\n",
    "Examples\n",
    "* fact_of_fact(4) ➞ 288 # 4! * 3! * 2! * 1! = 288\n",
    "* fact_of_fact(5) ➞ 34560\n",
    "* fact_of_fact(6) ➞ 24883200"
   ]
  },
  {
   "cell_type": "code",
   "execution_count": 20,
   "id": "678cc3d1",
   "metadata": {},
   "outputs": [
    {
     "name": "stdout",
     "output_type": "stream",
     "text": [
      "288\n",
      "34560\n",
      "24883200\n"
     ]
    }
   ],
   "source": [
    "import math\n",
    "\n",
    "def fact_of_fact(n):\n",
    "    res = 1\n",
    "    for i in range(1, n+1):\n",
    "        res *= math.factorial(i)\n",
    "    return res\n",
    "\n",
    "print(fact_of_fact(4))\n",
    "print(fact_of_fact(5))\n",
    "print(fact_of_fact(6))"
   ]
  }
 ],
 "metadata": {
  "kernelspec": {
   "display_name": "Python 3 (ipykernel)",
   "language": "python",
   "name": "python3"
  },
  "language_info": {
   "codemirror_mode": {
    "name": "ipython",
    "version": 3
   },
   "file_extension": ".py",
   "mimetype": "text/x-python",
   "name": "python",
   "nbconvert_exporter": "python",
   "pygments_lexer": "ipython3",
   "version": "3.9.7"
  }
 },
 "nbformat": 4,
 "nbformat_minor": 5
}
