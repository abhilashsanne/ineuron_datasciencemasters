{
 "cells": [
  {
   "cell_type": "markdown",
   "id": "11fe9ee9",
   "metadata": {},
   "source": [
    "### 1. Create a function that takes the width, height and character and returns a picture frame as a 2D list.\n",
    "Examples:\n",
    "\n",
    "* get_frame(4, 5, \"#\") ➞ [ [\"####\"], [\"# #\"], [\"# #\"], [\"# #\"], [\"####\"] ] #Frame is 4 characters wide and 5 characters tall.\n",
    "* get_frame(10, 3, \"\") ➞ [ [\"**\"], [\" *\"], [\"**\"] ] #Frame is 10 characters and wide and 3 characters tall.\n",
    "* get_frame(2, 5, \"0\") ➞ \"invalid\" #Frame's width is not more than 2."
   ]
  },
  {
   "cell_type": "code",
   "execution_count": 11,
   "id": "2d107995",
   "metadata": {},
   "outputs": [
    {
     "name": "stdout",
     "output_type": "stream",
     "text": [
      "['####']\n",
      "['##']\n",
      "['##']\n",
      "['##']\n",
      "['####']\n",
      "\n",
      "['**********']\n",
      "['********']\n",
      "['**********']\n",
      "\n",
      "invalid\n"
     ]
    }
   ],
   "source": [
    "def get_frame(width, height, char):\n",
    "    frame = []\n",
    "    if width <= 2:\n",
    "        return \"invalid\"\n",
    "    for h in range(height):\n",
    "        if h == 0 or h == height - 1:\n",
    "            frame.append([char*width])\n",
    "        else:\n",
    "            frame.append([char*(width-2)])\n",
    "    return frame\n",
    "for f in get_frame(4, 5, \"#\"):\n",
    "    print(f)\n",
    "print()\n",
    "for f in get_frame(10, 3, \"*\"):\n",
    "    print(f)\n",
    "print()\n",
    "print(get_frame(2, 5, \"0\"))\n"
   ]
  },
  {
   "cell_type": "markdown",
   "id": "b3b084a5",
   "metadata": {},
   "source": [
    "### 2. Write three functions:\n",
    "- boolean_and\n",
    "- boolean_or\n",
    "- boolean_xor \n",
    "\n",
    "These functions should evaluate a list of True and False values, starting from the left most element and evaluating pairwise.\n",
    "\n",
    "Examples:\n",
    "\n",
    "* boolean_and([True, True, False, True]) ➞ False\n",
    "    - [True, True, False, True] => [True, False, True] => [False, True] => False\n",
    "* boolean_or([True, True, False, False]) ➞ True\n",
    "    - [True, True, False, True] => [True, False, False] => [True, False] => True\n",
    "* boolean_xor([True, True, False, False]) ➞ False\n",
    "    - [True, True, False, False] => [False, False, False] => [False, False] => False"
   ]
  },
  {
   "cell_type": "code",
   "execution_count": 14,
   "id": "f9ca2a01",
   "metadata": {},
   "outputs": [
    {
     "name": "stdout",
     "output_type": "stream",
     "text": [
      "False\n",
      "True\n",
      "False\n"
     ]
    }
   ],
   "source": [
    "def boolean_and(lst:list) -> bool:\n",
    "    for i in range(len(lst)):\n",
    "        if i == 0:\n",
    "            res = lst[i]\n",
    "        else:\n",
    "            res = res and lst[i]\n",
    "    return res\n",
    "\n",
    "def boolean_or(lst:list) -> bool:\n",
    "    for i in range(len(lst)):\n",
    "        if i == 0:\n",
    "            res = lst[i]\n",
    "        else:\n",
    "            res = res or lst[i]\n",
    "    return res\n",
    "\n",
    "def boolean_xor(lst:list) -> bool:\n",
    "    for i in range(len(lst)):\n",
    "        if i == 0:\n",
    "            res = lst[i]\n",
    "        else:\n",
    "            res = res ^ lst[i]\n",
    "    return res\n",
    "\n",
    "print(boolean_and([True, True, False, True]))\n",
    "print(boolean_or([True, True, False, False]))\n",
    "print(boolean_xor([True, True, False, False]))"
   ]
  },
  {
   "cell_type": "markdown",
   "id": "0efbcfda",
   "metadata": {},
   "source": [
    "### 3. Create a function that creates a box based on dimension n.\n",
    "Examples:\n",
    "\n",
    "make_box(5) ➞ [\n",
    "'#####',\n",
    "'# #',\n",
    "'# #',\n",
    "'# #',\n",
    "'#####'\n",
    "]\n",
    "\n",
    "make_box(3) ➞ [\n",
    "'###',\n",
    "'# #',\n",
    "'###'\n",
    "]\n",
    "\n",
    "make_box(2) ➞ [\n",
    "'##',\n",
    "'##'\n",
    "]\n",
    "\n",
    "make_box(1) ➞ [\n",
    "'#'\n",
    "]"
   ]
  },
  {
   "cell_type": "code",
   "execution_count": 16,
   "id": "d43ac6c9",
   "metadata": {},
   "outputs": [
    {
     "name": "stdout",
     "output_type": "stream",
     "text": [
      "['#####', '# #', '# #', '# #', '# #']\n",
      "['###', '# #', '# #']\n",
      "['##', '##']\n",
      "['#']\n"
     ]
    }
   ],
   "source": [
    "def make_box(n):\n",
    "    res = []\n",
    "    if n == 1:\n",
    "        res.append('#')\n",
    "    elif n == 2:\n",
    "        res.append('##')\n",
    "        res.append('##')\n",
    "    else:\n",
    "        for i in range(n):\n",
    "            if i == 0 or i == n:\n",
    "                res.append('#' * n)\n",
    "            else:\n",
    "                res.append('# #')\n",
    "    return res\n",
    "\n",
    "print(make_box(5))\n",
    "print(make_box(3))\n",
    "print(make_box(2))\n",
    "print(make_box(1))"
   ]
  },
  {
   "cell_type": "markdown",
   "id": "860d2c26",
   "metadata": {},
   "source": [
    "### 4. Given a common phrase, return False if any individual word in the phrase contains duplicate letters. Return True otherwise.\n",
    "Examples\n",
    "\n",
    "no_duplicate_letters(\"Fortune favours the bold.\") ➞ True\n",
    "\n",
    "no_duplicate_letters(\"You can lead a horse to water, but you can't make him drink.\") ➞ True\n",
    "\n",
    "no_duplicate_letters(\"Look before you leap.\") ➞ False"
   ]
  },
  {
   "cell_type": "code",
   "execution_count": 39,
   "id": "67acc8a3",
   "metadata": {},
   "outputs": [
    {
     "name": "stdout",
     "output_type": "stream",
     "text": [
      "True\n",
      "True\n",
      "False\n"
     ]
    }
   ],
   "source": [
    "def no_duplicate_letters(sentence):\n",
    "    no_duplicates = True\n",
    "    for word in sentence.split():\n",
    "        if  len(word) !=  len(set(word)):\n",
    "            no_duplicates = False\n",
    "            break\n",
    "    return no_duplicates\n",
    "        \n",
    "print(no_duplicate_letters(\"Fortune favours the bold.\"))\n",
    "print(no_duplicate_letters(\"You can lead a horse to water, but you can't make him drink.\"))\n",
    "print(no_duplicate_letters(\"Look before you leap.\"))"
   ]
  },
  {
   "cell_type": "markdown",
   "id": "dec12905",
   "metadata": {},
   "source": [
    "### 5. Write a regular expression that will match the states that voted yes to President Trump's impeachment. You must use RegEx positive lookahead.\n",
    "Example\n",
    "\n",
    "txt = \"Texas = no, California = yes, Florida = yes, Michigan = no\" pattern = \"yourregularexpressionhere\"\n",
    "\n",
    "re.findall(pattern, txt) ➞ [\"California\", \"Florida\"]"
   ]
  },
  {
   "cell_type": "code",
   "execution_count": 42,
   "id": "89f2bbdd",
   "metadata": {},
   "outputs": [
    {
     "name": "stdout",
     "output_type": "stream",
     "text": [
      "['California', 'Florida']\n"
     ]
    }
   ],
   "source": [
    "import re\n",
    "\n",
    "txt = \"Texas = no, California = yes, Florida = yes, Michigan = no\"\n",
    "pattern = r'\\w+(?= = yes)'\n",
    "result = re.findall(pattern, txt) \n",
    "print(result)"
   ]
  }
 ],
 "metadata": {
  "kernelspec": {
   "display_name": "Python 3 (ipykernel)",
   "language": "python",
   "name": "python3"
  },
  "language_info": {
   "codemirror_mode": {
    "name": "ipython",
    "version": 3
   },
   "file_extension": ".py",
   "mimetype": "text/x-python",
   "name": "python",
   "nbconvert_exporter": "python",
   "pygments_lexer": "ipython3",
   "version": "3.9.7"
  }
 },
 "nbformat": 4,
 "nbformat_minor": 5
}
