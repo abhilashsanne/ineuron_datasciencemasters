{
 "cells": [
  {
   "cell_type": "markdown",
   "id": "5d5cd633",
   "metadata": {},
   "source": [
    "### 1. Given a sentence, return the number of words which have the same first and last letter.\n",
    "Examples\n",
    "\n",
    "count_same_ends(\"Pop! goes the balloon\") ➞ 1\n",
    "\n",
    "count_same_ends(\"And the crowd goes wild!\") ➞ 0\n",
    "\n",
    "count_same_ends(\"No I am not in a gang.\") ➞ 1"
   ]
  },
  {
   "cell_type": "code",
   "execution_count": 13,
   "id": "29ffba57",
   "metadata": {},
   "outputs": [
    {
     "name": "stdout",
     "output_type": "stream",
     "text": [
      "1\n",
      "0\n",
      "1\n"
     ]
    }
   ],
   "source": [
    "def count_same_ends(string):\n",
    "    # remove special chars except space\n",
    "    string = ''.join(e for e in string if e.isalnum() or e == \" \")\n",
    "    # using list comprehension with if conditions to reduce code size\n",
    "    return len([x for x in string.lower().split(' ') if x[0] == x[-1] and len(x) > 1])\n",
    "\n",
    "print(count_same_ends(\"Pop! goes the balloon\"))\n",
    "print(count_same_ends(\"And the crowd goes wild!\"))\n",
    "print(count_same_ends(\"No I am not in a gang.\"))"
   ]
  },
  {
   "cell_type": "markdown",
   "id": "36e8ea55",
   "metadata": {},
   "source": [
    "### 2. The Atbash cipher is an encryption method in which each letter of a word is replaced with its \"mirror\" letter in the alphabet: A <=> Z; B <=> Y; C <=> X; etc. Create a function that takes a string and applies the Atbash cipher to it.\n",
    "Examples\n",
    "\n",
    "atbash(\"apple\") ➞ \"zkkov\"\n",
    "\n",
    "atbash(\"Hello world!\") ➞ \"Svool dliow!\"\n",
    "\n",
    "atbash(\"Christmas is the 25th of December\") ➞ \"Xsirhgnzh rh gsv 25gs lu Wvxvnyvi\""
   ]
  },
  {
   "cell_type": "code",
   "execution_count": 19,
   "id": "01b64482",
   "metadata": {},
   "outputs": [
    {
     "name": "stdout",
     "output_type": "stream",
     "text": [
      "zkkov\n",
      "Svool dliow!\n",
      "Xsirhgnzh rh gsv 25gs lu Wvxvnyvi\n"
     ]
    }
   ],
   "source": [
    "def atbash(word:str):\n",
    "    decrypted = \"\"\n",
    "    chars = \"abcdefghijklmnopqrstuvwxyz\"\n",
    "    for c in word:\n",
    "        if not c.isalpha():\n",
    "            # if not a character don't chage it\n",
    "            decrypted += c\n",
    "        elif c.isupper():\n",
    "            decrypted += chars[(-1 * chars.index(c.lower())) -1].upper()\n",
    "        else:\n",
    "            decrypted += chars[(-1 * chars.index(c)) -1] # if index is '0' we need to get -1 as new index\n",
    "    return decrypted\n",
    "\n",
    "print(atbash(\"apple\"))\n",
    "print(atbash(\"Hello world!\"))\n",
    "print(atbash(\"Christmas is the 25th of December\"))"
   ]
  },
  {
   "cell_type": "markdown",
   "id": "6bebe01b",
   "metadata": {},
   "source": [
    "### 3. Create a class Employee that will take a full name as argument, as well as a set of none, one or more keywords. Each instance should have a name and a lastname attributes plus one more attribute for each of the keywords, if any.\n",
    "Examples\n",
    "\n",
    "* john = Employee(\"John Doe\") \n",
    "* mary = Employee(\"Mary Major\", salary=120000) \n",
    "* richard = Employee(\"Richard Roe\", salary=110000, height=178) \n",
    "* giancarlo = Employee(\"Giancarlo Rossi\", salary=115000, height=182, nationality=\"Italian\")\n",
    "\n",
    "john.name ➞ \"John\" mary.lastname ➞ \"Major\" richard.height ➞ 178 giancarlo.nationality ➞ \"Italian\""
   ]
  },
  {
   "cell_type": "code",
   "execution_count": 21,
   "id": "158ff86a",
   "metadata": {},
   "outputs": [
    {
     "name": "stdout",
     "output_type": "stream",
     "text": [
      "John Major 178 Italian\n"
     ]
    }
   ],
   "source": [
    "class Employee:\n",
    "    def __init__(self, full_name, **kwargs):\n",
    "        self.name = full_name.split(' ')[0]\n",
    "        self.lastname = full_name.split(' ')[-1] \n",
    "        for arg in kwargs:\n",
    "            if isinstance(kwargs[arg], str):\n",
    "                exec(\"self.{0} = '{1}'\".format(arg,kwargs[arg]))\n",
    "            else:\n",
    "                exec(\"self.{0} = {1}\".format(arg,kwargs[arg]))\n",
    "                \n",
    "john = Employee(\"John Doe\")\n",
    "mary = Employee(\"Mary Major\", salary=120000)\n",
    "richard = Employee(\"Richard Roe\", salary=110000, height=178)\n",
    "giancarlo = Employee(\"Giancarlo Rossi\", salary=115000, height=182, nationality=\"Italian\")\n",
    "print(john.name, mary.lastname, richard.height, giancarlo.nationality)"
   ]
  },
  {
   "cell_type": "markdown",
   "id": "66dbded7",
   "metadata": {},
   "source": [
    "### 4. Create a function that determines whether each seat can \"see\" the front-stage. A number can \"see\" the front-stage if it is strictly greater than the number before it.\n",
    "Everyone can see the front-stage in the example below:\n",
    "\n",
    "FRONT STAGE [[1, 2, 3, 2, 1, 1], [2, 4, 4, 3, 2, 2], [5, 5, 5, 5, 4, 4], [6, 6, 7, 6, 5, 5]]\n",
    "\n",
    "Starting from the left, the 6 > 5 > 2 > 1, so all numbers can see. 6 > 5 > 4 > 2 - so all numbers can see, etc.\n",
    "\n",
    "Not everyone can see the front-stage in the example below:\n",
    "\n",
    "FRONT STAGE [[1, 2, 3, 2, 1, 1], [2, 4, 4, 3, 2, 2], [5, 5, 5, 10, 4, 4], [6, 6, 7, 6, 5, 5]]\n",
    "\n",
    "The 10 is directly in front of the 6 and blocking its view.\n",
    "\n",
    "The function should return True if every number can see the front-stage, and False if even a single number cannot.\n",
    "\n",
    "Examples\n",
    "\n",
    "can_see_stage([ [1, 2, 3], [4, 5, 6], [7, 8, 9] ]) ➞ True\n",
    "\n",
    "can_see_stage([ [0, 0, 0], [1, 1, 1], [2, 2, 2] ]) ➞ True\n",
    "\n",
    "can_see_stage([ [2, 0, 0], [1, 1, 1], [2, 2, 2] ]) ➞ False\n",
    "\n",
    "can_see_stage([ [1, 0, 0], [1, 1, 1], [2, 2, 2] ]) ➞ False\n",
    "\n",
    "Number must be strictly smaller than the number directly behind it."
   ]
  },
  {
   "cell_type": "code",
   "execution_count": 33,
   "id": "c6d2ff90",
   "metadata": {},
   "outputs": [
    {
     "name": "stdout",
     "output_type": "stream",
     "text": [
      "True\n",
      "True\n",
      "False\n",
      "False\n"
     ]
    }
   ],
   "source": [
    "def can_see_stage(seats):\n",
    "    for i in range(len(seats)):\n",
    "        for j in range(len(seats[i]) -1):\n",
    "            if not (seats[j][i] < seats[j+1][i]):\n",
    "                # checking if first row number is smaller than next row number\n",
    "                return False\n",
    "    return True\n",
    "    \n",
    "print(can_see_stage([ [1, 2, 3], [4, 5, 6], [7, 8, 9] ]))\n",
    "print(can_see_stage([ [0, 0, 0], [1, 1, 1], [2, 2, 2] ]))\n",
    "print(can_see_stage([ [2, 0, 0], [1, 1, 1], [2, 2, 2] ]))\n",
    "print(can_see_stage([ [1, 0, 0], [1, 1, 1], [2, 2, 2] ]))"
   ]
  },
  {
   "cell_type": "markdown",
   "id": "27fc35ec",
   "metadata": {},
   "source": [
    "### 5. Create a Pizza class with the attributes order_number and ingredients (which is given as a list). Only the ingredients will be given as input.\n",
    "You should also make it so that its possible to choose a ready made pizza flavour rather than typing out the ingredients manually! As well as creating this Pizza class, hard-code the following pizza flavours.\n",
    "\n",
    "Name Ingredients \n",
    "hawaiian ham, pineapple \n",
    "meat_festival beef, meatball, bacon \n",
    "garden_feast spinach, olives, mushroom\n",
    "\n",
    "Examples\n",
    "\n",
    "p1 = Pizza([\"bacon\", \"parmesan\", \"ham\"]) # order 1 \n",
    "\n",
    "p2 = Pizza.garden_feast() # order 2\n",
    "\n",
    "p1.ingredients ➞ [\"bacon\", \"parmesan\", \"ham\"]\n",
    "\n",
    "p2.ingredients ➞ [\"spinach\", \"olives\", \"mushroom\"]\n",
    "\n",
    "p1.order_number ➞ 1\n",
    "\n",
    "p2.order_number ➞ 2"
   ]
  },
  {
   "cell_type": "code",
   "execution_count": 44,
   "id": "4e3f1691",
   "metadata": {},
   "outputs": [
    {
     "name": "stdout",
     "output_type": "stream",
     "text": [
      "1 ['bacon', 'parmesan', 'ham']\n",
      "2 ['spinach', 'olives', 'mushroom']\n",
      "3 ['beef', 'meatball', 'bacon']\n",
      "4 ['beef', 'meatball', 'bacon']\n",
      "5 ['momos', 'pasta', 'chicken']\n"
     ]
    }
   ],
   "source": [
    "class Pizza():\n",
    "    order_number = 0\n",
    "    def __init__(self, ingredients):\n",
    "        self.ingredients = ingredients\n",
    "        Pizza.order_number += 1\n",
    "    \n",
    "    @classmethod\n",
    "    def garden_feast(self):\n",
    "        return Pizza([\"spinach\", \"olives\", \"mushroom\"])\n",
    "    \n",
    "    @classmethod\n",
    "    def hawaiian(self):\n",
    "        return Pizza(['ham', 'pineapple'])\n",
    "    \n",
    "    @classmethod\n",
    "    def meat_festival(self):\n",
    "        return Pizza(['beef', 'meatball', 'bacon'])\n",
    "        \n",
    "p1 = Pizza([\"bacon\", \"parmesan\", \"ham\"])\n",
    "print(p1.order_number, p1.ingredients)\n",
    "p2 = Pizza.garden_feast()\n",
    "print(p2.order_number, p2.ingredients)\n",
    "p3 = Pizza.meat_festival()\n",
    "print(p3.order_number, p3.ingredients)\n",
    "p4 = Pizza.meat_festival()\n",
    "print(p4.order_number, p4.ingredients)\n",
    "p5 = Pizza([\"momos\", \"pasta\", \"chicken\"])\n",
    "print(p5.order_number, p5.ingredients)"
   ]
  }
 ],
 "metadata": {
  "kernelspec": {
   "display_name": "Python 3 (ipykernel)",
   "language": "python",
   "name": "python3"
  },
  "language_info": {
   "codemirror_mode": {
    "name": "ipython",
    "version": 3
   },
   "file_extension": ".py",
   "mimetype": "text/x-python",
   "name": "python",
   "nbconvert_exporter": "python",
   "pygments_lexer": "ipython3",
   "version": "3.9.7"
  }
 },
 "nbformat": 4,
 "nbformat_minor": 5
}
