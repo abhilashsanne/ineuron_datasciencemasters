{
 "cells": [
  {
   "cell_type": "markdown",
   "id": "dadd3e87",
   "metadata": {},
   "source": [
    "### 1. For this challenge, forget how to add two numbers together. The best explanation on what to do for this function is this meme:\n",
    "Examples\n",
    "\n",
    "* meme_sum(26, 39) ➞ 515 #2+3 = 5, 6+9 = 15\n",
    "\n",
    "26 + 39 = 515\n",
    "* meme_sum(122, 81) ➞ 1103 #1+0 = 1, 2+8 = 10, 2+1 = 3\n",
    "\n",
    "122 + 81 = 1103\n",
    "* meme_sum(1222, 30277) ➞ 31499"
   ]
  },
  {
   "cell_type": "code",
   "execution_count": 13,
   "id": "63a6e581",
   "metadata": {},
   "outputs": [
    {
     "name": "stdout",
     "output_type": "stream",
     "text": [
      "515\n",
      "1103\n",
      "31499\n"
     ]
    }
   ],
   "source": [
    "def meme_sum(a, b):\n",
    "    result = \"\"\n",
    "    a_digits = list(str(a))\n",
    "    b_digits = list(str(b))\n",
    "    if len(a_digits) > len(b_digits):\n",
    "        diff = len(a_digits) - len(b_digits)\n",
    "        for i in range(diff):\n",
    "            b_digits.insert(0, \"0\")\n",
    "    else:\n",
    "        diff = len(b_digits) - len(a_digits)\n",
    "        for i in range(diff):\n",
    "            a_digits.insert(0, \"0\")\n",
    "    \n",
    "    for i in range(len(a_digits)):\n",
    "        result += str(int(a_digits[i]) + int(b_digits[i]))\n",
    "    return int(result)\n",
    "    \n",
    "print(meme_sum(26, 39))\n",
    "print(meme_sum(122, 81))\n",
    "print(meme_sum(1222, 30277))"
   ]
  },
  {
   "cell_type": "markdown",
   "id": "a247280e",
   "metadata": {},
   "source": [
    "### 2. Given an integer, create a function that returns the next prime. If the number is prime, return the number itself.\n",
    "Examples\n",
    "\n",
    "next_prime(12) ➞ 13\n",
    "\n",
    "next_prime(24) ➞ 29\n",
    "\n",
    "next_prime(11) ➞ 11"
   ]
  },
  {
   "cell_type": "code",
   "execution_count": 14,
   "id": "df338c03",
   "metadata": {},
   "outputs": [
    {
     "name": "stdout",
     "output_type": "stream",
     "text": [
      "13\n",
      "29\n",
      "11\n",
      "83\n"
     ]
    }
   ],
   "source": [
    "def prime_num(n):\n",
    "    for i in range(2,n):\n",
    "        if n % i == 0:\n",
    "            break\n",
    "    else:\n",
    "        return n\n",
    "        \n",
    "def next_prime(n):\n",
    "    while True:\n",
    "        if prime_num(n) != None:\n",
    "            break\n",
    "        n = n + 1\n",
    "        prime_num(n)\n",
    "    \n",
    "    return prime_num(n)    \n",
    "            \n",
    "print(next_prime(12))\n",
    "print(next_prime(24))\n",
    "print(next_prime(11))\n",
    "print(next_prime(83))"
   ]
  },
  {
   "cell_type": "markdown",
   "id": "ef52690a",
   "metadata": {},
   "source": [
    "### 3. If a person traveled up a hill for 18mins at 20mph and then traveled back down the same path at 60mph then their average speed traveled was 30mph.\n",
    "Write a function that returns the average speed traveled given an uphill time, uphill rate and a downhill rate. Uphill time is given in minutes. Return the rate as an integer (mph). No rounding is necessary.\n",
    "\n",
    "Examples\n",
    "\n",
    "ave_spd(18, 20, 60) ➞ 30\n",
    "\n",
    "ave_spd(30, 10, 30) ➞ 15\n",
    "\n",
    "ave_spd(30, 8, 24) ➞ 12"
   ]
  },
  {
   "cell_type": "code",
   "execution_count": 18,
   "id": "256a132b",
   "metadata": {},
   "outputs": [
    {
     "name": "stdout",
     "output_type": "stream",
     "text": [
      "30\n",
      "15\n",
      "12\n"
     ]
    }
   ],
   "source": [
    "def ave_spd(up_time, uphill_rate, downhill_rate):\n",
    "    return int(2 * uphill_rate * downhill_rate/ (uphill_rate + downhill_rate))\n",
    "\n",
    "print(ave_spd(18, 20, 60))\n",
    "print(ave_spd(30, 10, 30))\n",
    "print(ave_spd(30, 8, 24))"
   ]
  },
  {
   "cell_type": "markdown",
   "id": "65c57cad",
   "metadata": {},
   "source": [
    "### 4. The Kempner Function, applied to a composite number, permits to find the smallest integer greater than zero whose factorial is exactly divided by the number.\n",
    "kempner(6) ➞ 3\n",
    "\n",
    "1! = 1 % 6 > 0 2! = 2 % 6 > 0 3! = 6 % 6 === 0\n",
    "\n",
    "kempner(10) ➞ 5\n",
    "\n",
    "1! = 1 % 10 > 0 2! = 2 % 10 > 0 3! = 6 % 10 > 0 4! = 24 % 10 > 0 5! = 120 % 10 === 0\n",
    "\n",
    "A Kempner Function applied to a prime will always return the prime itself.\n",
    "\n",
    "kempner(2) ➞ 2 kempner(5) ➞ 5\n",
    "\n",
    "Given an integer n, implement a Kempner Function.\n",
    "\n",
    "Examples\n",
    "\n",
    "kempner(6) ➞ 3\n",
    "\n",
    "kempner(10) ➞ 5\n",
    "\n",
    "kempner(2) ➞ 2"
   ]
  },
  {
   "cell_type": "code",
   "execution_count": 19,
   "id": "3138332f",
   "metadata": {},
   "outputs": [
    {
     "name": "stdout",
     "output_type": "stream",
     "text": [
      "3\n",
      "5\n",
      "2\n"
     ]
    }
   ],
   "source": [
    "import math\n",
    "\n",
    "def kempner(n):\n",
    "    for i in range(1,n+1):\n",
    "        if math.factorial(i) % n == 0:\n",
    "            return i\n",
    "\n",
    "print(kempner(6))\n",
    "print(kempner(10))\n",
    "print(kempner(2))"
   ]
  },
  {
   "cell_type": "markdown",
   "id": "a763a8d1",
   "metadata": {},
   "source": [
    "### 5. You work in a factory, and your job is to take items from a conveyor belt and pack them into boxes. Each box can hold a maximum of 10 kgs. Given a list containing the weight (in kg) of each item, how many boxes would you need to pack all of the items?\n",
    "Example\n",
    "\n",
    "boxes([2, 1, 2, 5, 4, 3, 6, 1, 1, 9, 3, 2]) ➞ 5\n",
    "\n",
    "Box 1 = [2, 1, 2, 5] (10kg)\n",
    "Box 2 = [4, 3] (7kg)\n",
    "Box 3 = [6, 1, 1] (8kg)\n",
    "Box 4 = [9] (9kg)\n",
    "Box 5 = [3, 2] (5kg)"
   ]
  },
  {
   "cell_type": "code",
   "execution_count": 27,
   "id": "6ba59ffd",
   "metadata": {},
   "outputs": [
    {
     "name": "stdout",
     "output_type": "stream",
     "text": [
      "([[2, 1, 2, 5], [4, 3], [6, 1, 1], [9]], 'Total boxes required: 4')\n",
      "([[5, 1, 3], [6], [8, 2], [3, 1, 4, 2], [5], [6], [10]], 'Total boxes required: 7')\n"
     ]
    }
   ],
   "source": [
    "import math\n",
    "\n",
    "def boxes(items:list) -> int:\n",
    "    weight = 0\n",
    "    weights = []\n",
    "    boxes = []\n",
    "    for item in items:\n",
    "        if weight+item > 10:\n",
    "            # don't add into the box\n",
    "            boxes.append(weights)\n",
    "            weights = []\n",
    "            weight = 0 # new box\n",
    "            \n",
    "        if weight+item == 10:\n",
    "            weights.append(item)\n",
    "            boxes.append(weights)\n",
    "            weights = []\n",
    "            weight = 0\n",
    "        else:\n",
    "            weight += item\n",
    "            weights.append(item)\n",
    "    return boxes, f\"Total boxes required: {len(boxes)}\"\n",
    "\n",
    "print(boxes([2, 1, 2, 5, 4, 3, 6, 1, 1, 9, 3, 2]))\n",
    "print(boxes([5,1,3,6,8,2,3,1,4,2,5,6,10]))"
   ]
  }
 ],
 "metadata": {
  "kernelspec": {
   "display_name": "Python 3 (ipykernel)",
   "language": "python",
   "name": "python3"
  },
  "language_info": {
   "codemirror_mode": {
    "name": "ipython",
    "version": 3
   },
   "file_extension": ".py",
   "mimetype": "text/x-python",
   "name": "python",
   "nbconvert_exporter": "python",
   "pygments_lexer": "ipython3",
   "version": "3.9.7"
  }
 },
 "nbformat": 4,
 "nbformat_minor": 5
}
