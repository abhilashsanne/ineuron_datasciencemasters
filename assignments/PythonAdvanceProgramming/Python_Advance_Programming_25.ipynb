{
 "cells": [
  {
   "cell_type": "markdown",
   "id": "5249dd70",
   "metadata": {},
   "source": [
    "### 1. Write four functions that directly mutate a list:\n",
    "repeat(lst, n): Repeat lst n times.\n",
    "\n",
    "add(lst, x): Adds x to the end of the lst.\n",
    "\n",
    "remove(lst, m, n): Removes all elements between indices m and n inclusive in lst.\n",
    "\n",
    "concat(lst, x): concatenates lst with x (another list). \n",
    "\n",
    "Examples \n",
    "* lst = [1, 2, 3, 4] \n",
    "* repeat(lst, 3) ➞ [1, 2, 3, 4, 1, 2, 3, 4, 1, 2, 3, 4] \n",
    "* add(lst, 1) ➞ [1, 2, 3, 4, 1, 2, 3, 4, 1, 2, 3, 4, 1] \n",
    "* remove(lst, 1, 12) ➞ [1] \n",
    "* concat(lst, [3, 4]) ➞ [1, 3, 4]"
   ]
  },
  {
   "cell_type": "code",
   "execution_count": 1,
   "id": "0b5d4f97",
   "metadata": {},
   "outputs": [
    {
     "name": "stdout",
     "output_type": "stream",
     "text": [
      "Repeating list [1, 2, 3, 4, 1, 2, 3, 4, 1, 2, 3, 4]\n",
      "adding at the end of list [1, 2, 3, 4, 1, 2, 3, 4, 1, 2, 3, 4, 8]\n",
      "Removing some elements form list [1, 2, 3, 4, 8]\n",
      "concating list [1, 2, 3, 4, 8, 6, 8]\n"
     ]
    }
   ],
   "source": [
    "def repeat(lst,n):\n",
    "    return lst * n\n",
    "\n",
    "def add(lst, x):\n",
    "    lst.append(x)\n",
    "    return lst\n",
    "\n",
    "def remove(lst,m,n):\n",
    "    del lst[m:n+1]\n",
    "    return lst\n",
    "\n",
    "def concat(lst,lst2):\n",
    "    return lst + lst2\n",
    "    \n",
    "\n",
    "lst = [1,2,3,4]\n",
    "lst = repeat(lst,3)\n",
    "print('Repeating list', lst)\n",
    "lst = add(lst,8)\n",
    "print(\"adding at the end of list\",lst)\n",
    "lst = remove(lst,1,8)\n",
    "print('Removing some elements form list',lst)\n",
    "lst = concat(lst,[6,8])\n",
    "print('concating list',lst)"
   ]
  },
  {
   "cell_type": "markdown",
   "id": "8a9fb4d3",
   "metadata": {},
   "source": [
    "### 2. The classic game of Mastermind is played on a tray on which the Mastermind conceals a code and the Guesser has 10 tries to guess it. The code is a sequence of 4 (or 6, sometimes more) pegs of different colors. Each guess is a corresponding sequence of 4 (or more) pegs of different colors. A guess is 'correct' when the color of every peg in the guess exactly matches the corresponding peg in the Mastermind's code. After each guess by the Guesser, the Mastermind will give a score comprising black & white pegs, not arranged in any order:\n",
    "* Black peg == guess peg matches the color of a code peg in the same position.\n",
    "* White peg == guess peg matches the color of a code peg in another position. \n",
    "\n",
    "Create a function that takes two strings, code and guess as arguments, and returns the score in a dictionary.\n",
    "* The code and guess are strings of numeric digits\n",
    "* The color of the pegs are represented by numeric digits no 'peg' may be double-scored \n",
    "\n",
    "Examples:\n",
    "* guess_score('1423', '5678') ➞ {'black': 0, 'white': 0}\n",
    "* guess_score('1423', '2222') ➞ {'black': 1, 'white': 0} guess_score('1423', '1234') ➞ {'black': 1, 'white': 3} \n",
    "* guess_score('1423', '2211') ➞ {'black': 0, 'white': 2}"
   ]
  },
  {
   "cell_type": "code",
   "execution_count": 3,
   "id": "b36a0697",
   "metadata": {},
   "outputs": [
    {
     "name": "stdout",
     "output_type": "stream",
     "text": [
      "{'black': 0, 'white': 0}\n",
      "{'black': 1, 'white': 0}\n",
      "{'black': 1, 'white': 3}\n",
      "{'black': 0, 'white': 2}\n"
     ]
    }
   ],
   "source": [
    "def guess_score(code, guesser):\n",
    "    \n",
    "    dict = {'black' : 0, 'white' : 0}\n",
    "    BlackCnt = 0\n",
    "    whiteCnt = 0\n",
    "\n",
    "    if len(code) != len(guesser):\n",
    "        print('code and guesser are of not of equal lenth')\n",
    "        return False\n",
    "\n",
    "    code = [code[x] for x in range(len(code))]    # converting string of numbers in to list\n",
    "  \n",
    "    # find the black match\n",
    "    for i in range(len(guesser)):\n",
    "        if code[i] == guesser[i]:                # matching the index for black match\n",
    "            code[i] = '-'                        # if found replacing the match with '-'\n",
    "            BlackCnt += 1 \n",
    "            dict['black'] = BlackCnt             # updating the black count\n",
    "            \n",
    "    #for white matches\n",
    "    for i in range(len(guesser)):\n",
    "        for j in range(len(code)):               # for white match they can be in any index, traverse through the string\n",
    "            if guesser[i] == code[j]:\n",
    "                code[j] = '-'                    # if found replace with '-'\n",
    "                whiteCnt += 1\n",
    "                dict['white'] = whiteCnt         # update the count \n",
    "\n",
    "    return dict\n",
    "\n",
    "print(guess_score('1423', '5678'))\n",
    "print(guess_score('1423', '2222'))\n",
    "print(guess_score('1423', '1234'))\n",
    "print(guess_score('1423', '2211'))"
   ]
  },
  {
   "cell_type": "markdown",
   "id": "f5581493",
   "metadata": {},
   "source": [
    "### 3. Create a function that takes a list lst and a number N and returns a list of two integers from lst whose product equals N. \n",
    "\n",
    "Examples:\n",
    "* two_product([1, 2, -1, 4, 5], 20) ➞ [4, 5] \n",
    "* two_product([1, 2, 3, 4, 5], 10) ➞ [2, 5] \n",
    "* two_product([100, 12, 4, 1, 2], 15) ➞ None"
   ]
  },
  {
   "cell_type": "code",
   "execution_count": 6,
   "id": "48702738",
   "metadata": {},
   "outputs": [
    {
     "name": "stdout",
     "output_type": "stream",
     "text": [
      "[4, 5]\n",
      "[2, 5]\n",
      "None\n"
     ]
    }
   ],
   "source": [
    "def two_product(lst:list, N:int) -> list:\n",
    "    for i in lst:\n",
    "        if N/i == N//i:  # check N is divisible by i\n",
    "            if N//i in lst:\n",
    "                return [i, N//i]\n",
    "            \n",
    "print(two_product([1, 2, -1, 4, 5], 20))\n",
    "print(two_product([1, 2, 3, 4, 5], 10))\n",
    "print(two_product([100, 12, 4, 1, 2], 15))"
   ]
  },
  {
   "cell_type": "markdown",
   "id": "7a0ad40d",
   "metadata": {},
   "source": [
    "### In this challenge, sort a list containing a series of dates given as strings. Each date is given in the format DD-MM-YYYY_HH:MM: '12-02-2012_13:44' The priority of criteria used for sorting will be:\n",
    "* Year\n",
    "* Month\n",
    "* Day\n",
    "* Hours\n",
    "* Minutes \n",
    "\n",
    "Given a list lst and a string mode, implement a function that returns:\n",
    "* if mode is equal to 'ASC', the list lst sorted in ascending order.\n",
    "* if mode is equal to 'DSC', the list lst sorted in descending order. \n",
    "\n",
    "Examples:\n",
    "* sort_dates(['10-02-2018_12:30', '10-02-2016_12:30', '10-02-2018_12:15'], 'ASC') ➞ ['10-02-2016_12:30', '10-02-2018_12:15', '10-02-2018_12:30'] \n",
    "* sort_dates(['10-02-2018_12:30', '10-02-2016_12:30', '10-02-2018_12:15'], 'DSC') ➞ ['10-02-2018_12:30', '10-02-2018_12:15', '10-02-2016_12:30']\n",
    "* sort_dates(['09-02-2000_10:03', '10-02-2000_18:29', '01-01-1999_00:55'], 'ASC') ➞ ['01-01-1999_00:55', '09-02-2000_10:03', '10-02-2000_18:29']"
   ]
  },
  {
   "cell_type": "code",
   "execution_count": 19,
   "id": "25b505b3",
   "metadata": {},
   "outputs": [
    {
     "name": "stdout",
     "output_type": "stream",
     "text": [
      "['10-02-2016_12:30', '10-02-2018_12:15', '10-02-2018_12:30']\n",
      "['10-02-2018_12:30', '10-02-2018_12:15', '10-02-2016_12:30']\n",
      "['01-01-1999_00:55', '09-02-2000_10:03', '10-02-2000_18:29']\n"
     ]
    }
   ],
   "source": [
    "import datetime\n",
    "\n",
    "def sort_dates(lst:list, sort_order) -> list:\n",
    "    order = True if sort_order == 'DSC' else False\n",
    "    return sorted(lst, key=lambda x: datetime.datetime.strptime(x, '%d-%m-%Y_%H:%M'), reverse = order)\n",
    "\n",
    "print(sort_dates(['10-02-2018_12:30', '10-02-2016_12:30', '10-02-2018_12:15'], 'ASC'))\n",
    "print(sort_dates(['10-02-2018_12:30', '10-02-2016_12:30', '10-02-2018_12:15'], 'DSC'))\n",
    "print(sort_dates(['09-02-2000_10:03', '10-02-2000_18:29', '01-01-1999_00:55'], 'ASC'))"
   ]
  },
  {
   "cell_type": "markdown",
   "id": "6731817b",
   "metadata": {},
   "source": [
    "### 5. Write a function that selects all words that have all the same vowels (in any order and/or number) as the first word, including the first word. \n",
    "\n",
    "Examples:\n",
    "* same_vowel_group(['toe', 'ocelot', 'maniac']) ➞ ['toe', 'ocelot'] \n",
    "* same_vowel_group(['many', 'carriage', 'emit', 'apricot', 'animal']) ➞ ['many'] \n",
    "* same_vowel_group(['hoops', 'chuff', 'bot', 'bottom']) ➞ ['hoops', 'bot', 'bottom']"
   ]
  },
  {
   "cell_type": "code",
   "execution_count": 37,
   "id": "258e3d16",
   "metadata": {},
   "outputs": [
    {
     "name": "stdout",
     "output_type": "stream",
     "text": [
      "set()\n",
      "set()\n",
      "set()\n"
     ]
    },
    {
     "ename": "AttributeError",
     "evalue": "'set' object has no attribute 'append'",
     "output_type": "error",
     "traceback": [
      "\u001b[1;31m---------------------------------------------------------------------------\u001b[0m",
      "\u001b[1;31mAttributeError\u001b[0m                            Traceback (most recent call last)",
      "\u001b[1;32mC:\\Users\\ABHILA~1\\AppData\\Local\\Temp/ipykernel_23364/42917316.py\u001b[0m in \u001b[0;36m<module>\u001b[1;34m\u001b[0m\n\u001b[0;32m     19\u001b[0m \u001b[1;33m\u001b[0m\u001b[0m\n\u001b[0;32m     20\u001b[0m \u001b[1;33m\u001b[0m\u001b[0m\n\u001b[1;32m---> 21\u001b[1;33m \u001b[0mprint\u001b[0m\u001b[1;33m(\u001b[0m\u001b[0msame_vowel_group\u001b[0m\u001b[1;33m(\u001b[0m\u001b[1;33m[\u001b[0m\u001b[1;34m'toe'\u001b[0m\u001b[1;33m,\u001b[0m \u001b[1;34m'ocelot'\u001b[0m\u001b[1;33m,\u001b[0m \u001b[1;34m'maniac'\u001b[0m\u001b[1;33m]\u001b[0m\u001b[1;33m)\u001b[0m\u001b[1;33m)\u001b[0m\u001b[1;33m\u001b[0m\u001b[1;33m\u001b[0m\u001b[0m\n\u001b[0m",
      "\u001b[1;32mC:\\Users\\ABHILA~1\\AppData\\Local\\Temp/ipykernel_23364/42917316.py\u001b[0m in \u001b[0;36msame_vowel_group\u001b[1;34m(lst)\u001b[0m\n\u001b[0;32m     10\u001b[0m             \u001b[1;32mif\u001b[0m \u001b[0mi\u001b[0m \u001b[1;33m==\u001b[0m \u001b[1;36m0\u001b[0m\u001b[1;33m:\u001b[0m\u001b[1;33m\u001b[0m\u001b[1;33m\u001b[0m\u001b[0m\n\u001b[0;32m     11\u001b[0m                 \u001b[1;32mif\u001b[0m \u001b[0mword\u001b[0m\u001b[1;33m[\u001b[0m\u001b[0mi\u001b[0m\u001b[1;33m]\u001b[0m \u001b[1;32min\u001b[0m \u001b[0mvowels\u001b[0m\u001b[1;33m:\u001b[0m\u001b[1;33m\u001b[0m\u001b[1;33m\u001b[0m\u001b[0m\n\u001b[1;32m---> 12\u001b[1;33m                     \u001b[0mtarget\u001b[0m\u001b[1;33m.\u001b[0m\u001b[0mappend\u001b[0m\u001b[1;33m(\u001b[0m\u001b[0mword\u001b[0m\u001b[1;33m[\u001b[0m\u001b[0mi\u001b[0m\u001b[1;33m]\u001b[0m\u001b[1;33m)\u001b[0m\u001b[1;33m\u001b[0m\u001b[1;33m\u001b[0m\u001b[0m\n\u001b[0m\u001b[0;32m     13\u001b[0m \u001b[1;33m\u001b[0m\u001b[0m\n\u001b[0;32m     14\u001b[0m             \u001b[1;32melif\u001b[0m \u001b[0mword\u001b[0m\u001b[1;33m[\u001b[0m\u001b[0mi\u001b[0m\u001b[1;33m]\u001b[0m \u001b[1;32min\u001b[0m \u001b[0mvowels\u001b[0m \u001b[1;32mand\u001b[0m \u001b[0mword\u001b[0m\u001b[1;33m[\u001b[0m\u001b[0mi\u001b[0m\u001b[1;33m]\u001b[0m \u001b[1;32mnot\u001b[0m \u001b[1;32min\u001b[0m \u001b[0mtarget\u001b[0m\u001b[1;33m:\u001b[0m\u001b[1;33m\u001b[0m\u001b[1;33m\u001b[0m\u001b[0m\n",
      "\u001b[1;31mAttributeError\u001b[0m: 'set' object has no attribute 'append'"
     ]
    }
   ],
   "source": [
    "def same_vowel_group(lst):\n",
    "    vowels = ['a', 'e', 'i', 'o','u']\n",
    "    target = set()\n",
    "    result = []\n",
    "    append = True\n",
    "    for for i in range(len(lst)):\n",
    "        append = True\n",
    "        target = set()\n",
    "        if i == 0:\n",
    "            for c in lst[i]:\n",
    "                if c in vowels:\n",
    "                    target.appendc)\n",
    "        for j in range(len(lst[i])):\n",
    "            elif lst[i][] in vowels and word[i] not in target:\n",
    "                append = False \n",
    "            print(target)\n",
    "        if append == True:\n",
    "            result.append(word)\n",
    "                    \n",
    "                \n",
    "print(same_vowel_group(['toe', 'ocelot', 'maniac']))"
   ]
  },
  {
   "cell_type": "code",
   "execution_count": null,
   "id": "dd832cb8",
   "metadata": {},
   "outputs": [],
   "source": []
  }
 ],
 "metadata": {
  "kernelspec": {
   "display_name": "Python 3 (ipykernel)",
   "language": "python",
   "name": "python3"
  },
  "language_info": {
   "codemirror_mode": {
    "name": "ipython",
    "version": 3
   },
   "file_extension": ".py",
   "mimetype": "text/x-python",
   "name": "python",
   "nbconvert_exporter": "python",
   "pygments_lexer": "ipython3",
   "version": "3.9.7"
  }
 },
 "nbformat": 4,
 "nbformat_minor": 5
}
