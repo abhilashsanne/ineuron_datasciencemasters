{
 "cells": [
  {
   "cell_type": "markdown",
   "id": "efb17f9d",
   "metadata": {},
   "source": [
    "### Question 1\n",
    "Given a sentence as txt, return True if any two adjacent words have this property: \n",
    "* One word ends with a vowel, while the word immediately after begins with a vowel (a e i o u).\n",
    "\n",
    "Examples:\n",
    "* vowel_links('a very large appliance') ➞ True\n",
    "* vowel_links('go to edabit') ➞ True\n",
    "* vowel_links('an open fire') ➞ False\n",
    "* vowel_links('a sudden applause') ➞ False"
   ]
  },
  {
   "cell_type": "code",
   "execution_count": 10,
   "id": "1cf84dc8",
   "metadata": {},
   "outputs": [
    {
     "name": "stdout",
     "output_type": "stream",
     "text": [
      "True\n",
      "True\n",
      "False\n",
      "False\n"
     ]
    }
   ],
   "source": [
    "def vowel_links(sentence:str) -> bool:\n",
    "    vowels = ['a', 'e', 'i', 'o', 'u']\n",
    "    words = sentence.split()\n",
    "    for i in range(len(words) - 1):\n",
    "        if words[i][-1] in vowels and words[i+1][0].lower() in vowels:\n",
    "            return True\n",
    "    return False\n",
    "\n",
    "print(vowel_links('a very large appliance'))\n",
    "print(vowel_links('go to edabit') )\n",
    "print(vowel_links('an open fire') )\n",
    "print(vowel_links('a sudden applause') )"
   ]
  },
  {
   "cell_type": "markdown",
   "id": "56b3891c",
   "metadata": {},
   "source": [
    "### Question 2\n",
    "2. You are given three inputs: a string, one letter, and a second letter. Write a function that returns True if every instance of the first letter occurs before every instance of the second letter.\n",
    "\n",
    "Examples\n",
    "* first_before_second('a rabbit jumps joyfully', 'a', 'j') ➞ True # Every instance of 'a' occurs before every instance of 'j'.\n",
    "* first_before_second('knaves knew about waterfalls', 'k', 'w') ➞ True\n",
    "* first_before_second('happy birthday', 'a', 'y') ➞ False # The 'a' in 'birthday' occurs after the 'y' in 'happy'.\n",
    "* first_before_second('precarious kangaroos', 'k', 'a') ➞ False"
   ]
  },
  {
   "cell_type": "code",
   "execution_count": 17,
   "id": "46e2bd7d",
   "metadata": {},
   "outputs": [
    {
     "name": "stdout",
     "output_type": "stream",
     "text": [
      "True\n",
      "True\n",
      "False\n",
      "False\n"
     ]
    }
   ],
   "source": [
    "def first_before_second(string, letter1, letter2):\n",
    "    letter1_indexes = []\n",
    "    letter2_indexes = []\n",
    "    for i in range(0, len(string)):\n",
    "        if string[i] == letter1:\n",
    "            letter1_indexes.append(i)\n",
    "        elif string[i] == letter2:\n",
    "            letter2_indexes.append(i)\n",
    "\n",
    "    for l2 in letter2_indexes:\n",
    "        for l1 in letter1_indexes:\n",
    "            if not l2 > l1:\n",
    "                return False\n",
    "    return True\n",
    "\n",
    "print(first_before_second('a rabbit jumps joyfully', 'a', 'j'))\n",
    "print(first_before_second('knaves knew about waterfalls', 'k', 'w'))\n",
    "print(first_before_second('happy birthday', 'a', 'y'))\n",
    "print(first_before_second('precarious kangaroos', 'k', 'a'))"
   ]
  },
  {
   "cell_type": "markdown",
   "id": "c49d0c3b",
   "metadata": {},
   "source": [
    "### Question 3\n",
    "3. Create a function that returns the characters from a list or string r on odd or even positions, depending on the specifier s. The specifier will be 'odd' for items on odd positions (1, 3, 5, ...) and 'even' for items on even positions (2, 4, 6, ...).\n",
    "\n",
    "Examples:\n",
    "* char_at_pos([2, 4, 6, 8, 10], 'even') ➞ [4, 8] # 4 & 8 occupy the 2nd & 4th positions\n",
    "* char_at_pos('EDABIT', 'odd') ➞ 'EAI' # 'E', 'A' and 'I' occupy the 1st, 3rd and 5th positions\n",
    "* char_at_pos(['A', 'R', 'B', 'I', 'T', 'R', 'A', 'R', 'I', 'L', 'Y'], 'odd') ➞ ['A','B', 'T', 'A', 'I', 'Y']"
   ]
  },
  {
   "cell_type": "code",
   "execution_count": 18,
   "id": "c99f7416",
   "metadata": {},
   "outputs": [
    {
     "name": "stdout",
     "output_type": "stream",
     "text": [
      "[4, 8]\n",
      "['E', 'A', 'I']\n",
      "['A', 'B', 'T', 'A', 'I', 'Y']\n"
     ]
    }
   ],
   "source": [
    "def char_at_pos(l,s):\n",
    "    if s == 'even':\n",
    "        return [l[i] for i in range(len(l)) if (i+1) % 2 == 0]\n",
    "    elif s == 'odd':\n",
    "        return [l[i] for i in range(len(l)) if (i+1) % 2 != 0]\n",
    "\n",
    "print(char_at_pos([2, 4, 6, 8, 10], \"even\"))   \n",
    "print(char_at_pos(\"EDABIT\", \"odd\"))\n",
    "print(char_at_pos([\"A\", \"R\", \"B\", \"I\", \"T\", \"R\", \"A\", \"R\", \"I\", \"L\", \"Y\"], \"odd\"))"
   ]
  },
  {
   "cell_type": "markdown",
   "id": "578d835b",
   "metadata": {},
   "source": [
    "### Question 4\n",
    "4. Write a function that returns the greatest common divisor of all list elements. If the greatest common divisor is 1, return 1.\n",
    "\n",
    "Examples:\n",
    "* GCD([10, 20, 40]) ➞ 10\n",
    "* GCD([1, 2, 3, 100]) ➞ 1\n",
    "* GCD([1024, 192, 2048, 512]) ➞ 64"
   ]
  },
  {
   "cell_type": "code",
   "execution_count": 20,
   "id": "7526ce41",
   "metadata": {},
   "outputs": [
    {
     "name": "stdout",
     "output_type": "stream",
     "text": [
      "10\n",
      "1\n",
      "64\n"
     ]
    }
   ],
   "source": [
    "import math \n",
    "\n",
    "def GCD(numbers):\n",
    "    res = numbers[0]\n",
    "    for i in range(1,len(numbers)):\n",
    "        res = math.gcd(numbers[i],res)\n",
    "    return res\n",
    "\n",
    "print(GCD([10, 20, 40]))\n",
    "print(GCD([1, 2, 3, 100]))\n",
    "print(GCD([1024, 192, 2048, 512]))"
   ]
  },
  {
   "cell_type": "markdown",
   "id": "e7fcc9c5",
   "metadata": {},
   "source": [
    "### Question 5\n",
    "5. A number/string is a palindrome if the digits/characters are the same when read both forward and backward. Examples include 'racecar' and 12321. Given a positive number n, check if n or the binary representation of n is palindromic. Return the following:\n",
    "- 'Decimal only.' if only n is a palindrome.\n",
    "- 'Binary only.' if only the binary representation of n is a palindrome.\n",
    "- 'Decimal and binary.' if both are palindromes.\n",
    "- 'Neither!' if neither are palindromes.\n",
    "\n",
    "Examples\n",
    "* palindrome_type(1306031) ➞ 'Decimal only.'\n",
    "\\# decimal = 1306031\n",
    "\\# binary = '100111110110110101111'\n",
    "* palindrome_type(427787) ➞ 'Binary only.'\n",
    "\\# decimal = 427787\n",
    "\\# binary = '1101000011100001011'\n",
    "* palindrome_type(313) ➞ 'Decimal and binary.'\n",
    "\\# decimal = 313\n",
    "\\# binary = 100111001\n",
    "* palindrome_type(934) ➞ 'Neither!'\n",
    "\\# decimal = 934\n",
    "\\# binary = '1110100110'"
   ]
  },
  {
   "cell_type": "code",
   "execution_count": 22,
   "id": "39b75649",
   "metadata": {},
   "outputs": [
    {
     "name": "stdout",
     "output_type": "stream",
     "text": [
      "Decimal only\n",
      "Binary only\n",
      "Decimal and binary.\n",
      "Neither!\n"
     ]
    }
   ],
   "source": [
    "def palindrome_type(n):\n",
    "    is_binary = False\n",
    "    is_decimal = False\n",
    "    if bin(n).lstrip('0b') == bin(n).lstrip('0b')[::-1]:\n",
    "        is_binary = True\n",
    "    if str(n) == str(n)[::-1]:\n",
    "        is_decimal = True\n",
    "    \n",
    "    if is_binary and is_decimal:\n",
    "        return  \"Decimal and binary.\"\n",
    "    elif not is_binary and not is_decimal:\n",
    "        return \"Neither!\"\n",
    "    elif is_binary:\n",
    "        return 'Binary only'\n",
    "    else:\n",
    "        return 'Decimal only'\n",
    "    \n",
    "print(palindrome_type(1306031))\n",
    "print(palindrome_type(427787))\n",
    "print(palindrome_type(313))\n",
    "print(palindrome_type(934))"
   ]
  }
 ],
 "metadata": {
  "kernelspec": {
   "display_name": "Python 3 (ipykernel)",
   "language": "python",
   "name": "python3"
  },
  "language_info": {
   "codemirror_mode": {
    "name": "ipython",
    "version": 3
   },
   "file_extension": ".py",
   "mimetype": "text/x-python",
   "name": "python",
   "nbconvert_exporter": "python",
   "pygments_lexer": "ipython3",
   "version": "3.9.7"
  }
 },
 "nbformat": 4,
 "nbformat_minor": 5
}
