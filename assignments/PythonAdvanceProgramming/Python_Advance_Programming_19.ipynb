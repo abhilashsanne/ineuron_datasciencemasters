{
 "cells": [
  {
   "cell_type": "markdown",
   "id": "18020e0d",
   "metadata": {},
   "source": [
    "### 1. Create a checker board generator, which takes as inputs n and 2 elements to generate an n x n checkerboard with those two elements as alternating squares.\n",
    "Examples\n",
    "\n",
    "checker_board(2, 7, 6) ➞ [ [7, 6], [6, 7] ]\n",
    "\n",
    "checker_board(3, \"A\", \"B\") ➞ [ [\"A\", \"B\", \"A\"], [\"B\", \"A\", \"B\"], [\"A\", \"B\", \"A\"] ]\n",
    "\n",
    "checker_board(4, \"c\", \"d\") ➞ [ [\"c\", \"d\", \"c\", \"d\"], [\"d\", \"c\", \"d\", \"c\"], [\"c\", \"d\", \"c\", \"d\"], [\"d\", \"c\", \"d\", \"c\"] ]\n",
    "\n",
    "checker_board(4, \"c\", \"c\") ➞ \"invalid\""
   ]
  },
  {
   "cell_type": "code",
   "execution_count": 7,
   "id": "cbd1f722",
   "metadata": {},
   "outputs": [
    {
     "name": "stdout",
     "output_type": "stream",
     "text": [
      "[[7, 6], [6, 7]]\n",
      "[['A', 'B', 'A'], ['B', 'A', 'B'], ['A', 'B', 'A']]\n",
      "[['c', 'd', 'c', 'd'], ['d', 'c', 'd', 'c'], ['c', 'd', 'c', 'd'], ['d', 'c', 'd', 'c']]\n",
      "invalid\n"
     ]
    }
   ],
   "source": [
    "def checker_board(dimensions, char1, char2):\n",
    "    matrix = []\n",
    "    chars = [char1, char2]\n",
    "    if char1 == char2:\n",
    "        return \"invalid\"\n",
    "    for i in range(0, dimensions):\n",
    "        row = []\n",
    "        for j in range(0, dimensions):\n",
    "            if i%2 == 0:\n",
    "                if j%2 == 0:\n",
    "                    row.append(chars[0])\n",
    "                else:\n",
    "                    row.append(chars[1])\n",
    "            else:\n",
    "                if j%2 == 0:\n",
    "                    row.append(chars[1])\n",
    "                else:\n",
    "                    row.append(chars[0])\n",
    "        matrix.append(row)\n",
    "    return matrix\n",
    "\n",
    "print(checker_board(2, 7, 6))\n",
    "print(checker_board(3, \"A\", \"B\"))\n",
    "print(checker_board(4, \"c\", \"d\"))\n",
    "print(checker_board(4, \"c\", \"c\"))"
   ]
  },
  {
   "cell_type": "markdown",
   "id": "1519b02d",
   "metadata": {},
   "source": [
    "### 2. A string is an almost-palindrome if, by changing only one character, you can make it a palindrome. Create a function that returns True if a string is an almost-palindrome and False otherwise.\n",
    "Examples\n",
    "\n",
    "* almost_palindrome(\"abcdcbg\") ➞ True #Transformed to \"abcdcba\" by changing \"g\" to \"a\".\n",
    "* almost_palindrome(\"abccia\") ➞ True  #Transformed to \"abccba\" by changing \"i\" to \"b\".\n",
    "* almost_palindrome(\"abcdaaa\") ➞ False #Can't be transformed to a palindrome in exactly 1 turn"
   ]
  },
  {
   "cell_type": "code",
   "execution_count": 11,
   "id": "50540624",
   "metadata": {},
   "outputs": [
    {
     "name": "stdout",
     "output_type": "stream",
     "text": [
      "True\n",
      "True\n",
      "False\n"
     ]
    }
   ],
   "source": [
    "def almost_palindrome(string:str) -> bool:\n",
    "    count = 0\n",
    "    for i in range(0, len(string)//2):\n",
    "        if string[i] != string[len(string) - i -1]:\n",
    "            count += 1\n",
    "    if count == 1:\n",
    "        return True\n",
    "    return False\n",
    "\n",
    "print(almost_palindrome(\"abcdcbg\"))\n",
    "print(almost_palindrome(\"abcacia\"))\n",
    "print(almost_palindrome(\"abcdaaa\"))"
   ]
  },
  {
   "cell_type": "markdown",
   "id": "7ec3d806",
   "metadata": {},
   "source": [
    "### 3. Create a function that finds how many prime numbers there are, up to the given integer.\n",
    "Examples\n",
    "\n",
    "* prime_numbers(10) ➞ 4 # 2, 3, 5 and 7\n",
    "* prime_numbers(20) ➞ 8 # 2, 3, 5, 7, 11, 13, 17 and 19\n",
    "* prime_numbers(30) ➞ 10 # 2, 3, 5, 7, 11, 13, 17, 19, 23 and 29"
   ]
  },
  {
   "cell_type": "code",
   "execution_count": 16,
   "id": "c58b9f02",
   "metadata": {},
   "outputs": [
    {
     "name": "stdout",
     "output_type": "stream",
     "text": [
      "4\n",
      "8\n",
      "10\n"
     ]
    }
   ],
   "source": [
    "import math\n",
    "def prime_numbers(n):\n",
    "    count = 0\n",
    "    for i in range(2,n+1):\n",
    "        for j in range(2,i//2+1):\n",
    "            if i % j == 0:                \n",
    "                break\n",
    "        else:\n",
    "            count += 1\n",
    "    return count\n",
    "\n",
    "print(prime_numbers(10))\n",
    "print(prime_numbers(20))\n",
    "print(prime_numbers(30))"
   ]
  },
  {
   "cell_type": "markdown",
   "id": "de51f8c2",
   "metadata": {},
   "source": [
    "### 4. If today was Monday, in two days, it would be Wednesday.\n",
    "Create a function that takes in a list of days as input and the number of days to increment by. Return a list of days after n number of days has passed.\n",
    "\n",
    "Examples\n",
    "\n",
    "after_n_days([\"Thursday\", \"Monday\"], 4) ➞ [\"Monday\", \"Friday\"]\n",
    "\n",
    "after_n_days([\"Sunday\", \"Sunday\", \"Sunday\"], 1) ➞ [\"Monday\", \"Monday\", \"Monday\"]\n",
    "\n",
    "after_n_days([\"Monday\", \"Tuesday\", \"Friday\"], 1) ➞ [\"Tuesday\", \"Wednesday\", \"Saturday\"]"
   ]
  },
  {
   "cell_type": "code",
   "execution_count": 23,
   "id": "9eff0829",
   "metadata": {},
   "outputs": [
    {
     "name": "stdout",
     "output_type": "stream",
     "text": [
      "['Monday', 'Friday']\n",
      "['Monday', 'Monday', 'Monday']\n",
      "['Tuesday', 'Wednesday', 'Saturday']\n"
     ]
    }
   ],
   "source": [
    "def after_n_days(days:list, n:int)-> list:\n",
    "    week = [\"Sunday\", \"Monday\", \"Tuesday\", \"Wednesday\", \"Thursday\", \"Friday\", \"Saturday\"]\n",
    "    result = []\n",
    "    for day in days:\n",
    "        index = week.index(day)\n",
    "        new_index = int((index + n) % 7)\n",
    "        result.append(week[new_index])\n",
    "    return result\n",
    "\n",
    "print(after_n_days([\"Thursday\", \"Monday\"], 4))\n",
    "print(after_n_days([\"Sunday\", \"Sunday\", \"Sunday\"], 1) )\n",
    "print(after_n_days([\"Monday\", \"Tuesday\", \"Friday\"], 1))"
   ]
  },
  {
   "cell_type": "markdown",
   "id": "ab69ffbc",
   "metadata": {},
   "source": [
    "### 5. You are in the process of creating a chat application and want to add an anonymous name feature. This anonymous name feature will create an alias that consists of two capitalized words beginning with the same letter as the users first name.\n",
    "Create a function that determines if the list of users is mapped to a list of anonymous names correctly.\n",
    "\n",
    "Examples\n",
    "\n",
    "is_correct_aliases([\"Adrian M.\", \"Harriet S.\", \"Mandy T.\"], [\"Amazing Artichoke\", \"Hopeful Hedgehog\", \"Marvelous Mouse\"]) ➞ True\n",
    "\n",
    "is_correct_aliases([\"Rachel F.\", \"Pam G.\", \"Fred Z.\", \"Nancy K.\"], [\"Reassuring Rat\", \"Peaceful Panda\", \"Fantastic Frog\", \"Notable Nickel\"]) ➞ True\n",
    "\n",
    "is_correct_aliases([\"Beth T.\"], [\"Brandishing Mimosa\"]) ➞ False"
   ]
  },
  {
   "cell_type": "code",
   "execution_count": 34,
   "id": "114eb676",
   "metadata": {},
   "outputs": [
    {
     "name": "stdout",
     "output_type": "stream",
     "text": [
      "True\n",
      "True\n",
      "False\n"
     ]
    }
   ],
   "source": [
    "def is_correct_aliases(names:list, aliases:list) -> bool:\n",
    "    for i in range(len(names)):\n",
    "        char = names[i][0]\n",
    "        for word in aliases[i].split(' '):\n",
    "            if not word.startswith(char):\n",
    "                return False\n",
    "    return True\n",
    "\n",
    "print(is_correct_aliases([\"Adrian M.\", \"Harriet S.\", \"Mandy T.\"], [\"Amazing Artichoke\", \"Hopeful Hedgehog\", \"Marvelous Mouse\"]))\n",
    "print(is_correct_aliases([\"Rachel F.\", \"Pam G.\", \"Fred Z.\", \"Nancy K.\"], [\"Reassuring Rat\", \"Peaceful Panda\", \"Fantastic Frog\", \"Notable Nickel\"]))\n",
    "print(is_correct_aliases([\"Beth T.\"], [\"Brandishing Mimosa\"]))"
   ]
  }
 ],
 "metadata": {
  "kernelspec": {
   "display_name": "Python 3 (ipykernel)",
   "language": "python",
   "name": "python3"
  },
  "language_info": {
   "codemirror_mode": {
    "name": "ipython",
    "version": 3
   },
   "file_extension": ".py",
   "mimetype": "text/x-python",
   "name": "python",
   "nbconvert_exporter": "python",
   "pygments_lexer": "ipython3",
   "version": "3.9.7"
  }
 },
 "nbformat": 4,
 "nbformat_minor": 5
}
