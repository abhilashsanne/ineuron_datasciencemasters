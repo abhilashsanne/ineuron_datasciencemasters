{
 "cells": [
  {
   "cell_type": "markdown",
   "id": "3575faca",
   "metadata": {},
   "source": [
    "### 1. Create a function that takes a list and string. The function should remove the letters in the string from the list, and return the list.\n",
    "Examples\n",
    "\n",
    "remove_letters([\"s\", \"t\", \"r\", \"i\", \"n\", \"g\", \"w\"], \"string\") ➞ [\"w\"]\n",
    "\n",
    "remove_letters([\"b\", \"b\", \"l\", \"l\", \"g\", \"n\", \"o\", \"a\", \"w\"], \"balloon\") ➞ [\"b\", \"g\", \"w\"]\n",
    "\n",
    "remove_letters([\"d\", \"b\", \"t\", \"e\", \"a\", \"i\"], \"edabit\") ➞ []"
   ]
  },
  {
   "cell_type": "code",
   "execution_count": 2,
   "id": "a7c79e33",
   "metadata": {},
   "outputs": [
    {
     "name": "stdout",
     "output_type": "stream",
     "text": [
      "['w']\n",
      "['b', 'g', 'w']\n",
      "[]\n"
     ]
    }
   ],
   "source": [
    "def remove_letters(chars: list, word: str) -> list :\n",
    "    for c in word:\n",
    "        if c in chars:\n",
    "            chars.remove(c)\n",
    "    return chars\n",
    "\n",
    "print(remove_letters([\"s\", \"t\", \"r\", \"i\", \"n\", \"g\", \"w\"], \"string\"))\n",
    "print(remove_letters([\"b\", \"b\", \"l\", \"l\", \"g\", \"n\", \"o\", \"a\", \"w\"], \"balloon\"))\n",
    "print(remove_letters([\"d\", \"b\", \"t\", \"e\", \"a\", \"i\"], \"edabit\") )"
   ]
  },
  {
   "cell_type": "markdown",
   "id": "1c23abe5",
   "metadata": {},
   "source": [
    "### 2. A block sequence in three dimensions. We can write a formula for this one:\n",
    "Create a function that takes a number (step) as an argument and returns the amount of blocks in that step.\n",
    "\n",
    "Examples:\n",
    "\n",
    "blocks(1) ➞ 5\n",
    "\n",
    "blocks(5) ➞ 39\n",
    "\n",
    "blocks(2) ➞ 12"
   ]
  },
  {
   "cell_type": "code",
   "execution_count": 3,
   "id": "42a8d2aa",
   "metadata": {},
   "outputs": [
    {
     "name": "stdout",
     "output_type": "stream",
     "text": [
      "5\n",
      "39\n",
      "12\n"
     ]
    }
   ],
   "source": [
    "# formula is number of blocks = fun(step) + step * 3 + step * 2 -1\n",
    "# where fun(step) = step + fun(step  - 1)\n",
    "\n",
    "def fun(n):\n",
    "    if n == 1:\n",
    "        return 1\n",
    "    else:\n",
    "        return n + fun(n-1)\n",
    "    \n",
    "def blocks(step):\n",
    "    return fun(step) + step * 3 + step * 2 -1\n",
    "\n",
    "\n",
    "print(blocks(1))\n",
    "print(blocks(5))\n",
    "print(blocks(2))"
   ]
  },
  {
   "cell_type": "markdown",
   "id": "acfbd3dc",
   "metadata": {},
   "source": [
    "### 3. Create a function that subtracts one positive integer from another, without using any arithmetic operators such as -, %, /, +, etc.\n",
    "Examples\n",
    "\n",
    "my_sub(5, 9) ➞ 4\n",
    "\n",
    "my_sub(10, 30) ➞ 20\n",
    "\n",
    "my_sub(0, 0) ➞ 0"
   ]
  },
  {
   "cell_type": "code",
   "execution_count": 14,
   "id": "ff969b22",
   "metadata": {},
   "outputs": [
    {
     "name": "stdout",
     "output_type": "stream",
     "text": [
      "4\n",
      "20\n",
      "0\n"
     ]
    }
   ],
   "source": [
    "def my_sub(a, b):\n",
    "    diff = []\n",
    "    if a < b:\n",
    "        diff = [x for x in range(a, b)]\n",
    "    else:\n",
    "        diff = [x for x in range(b, a)]\n",
    "    return len(diff)\n",
    "    \n",
    "print(my_sub(5, 9))\n",
    "print(my_sub(10, 30))\n",
    "print(my_sub(0,0))"
   ]
  },
  {
   "cell_type": "markdown",
   "id": "26804952",
   "metadata": {},
   "source": [
    "### Question 4\n",
    "4. Create a function that takes a string containing money in dollars and pounds sterling (seperated by comma) and returns the sum of dollar bills only, as an integer.\n",
    "\n",
    "For the input string:\n",
    "\n",
    "   - Each amount is prefixed by the currency symbol: $ for dollars and £ for pounds.\n",
    "   - Thousands are represented by the suffix k.\n",
    "\n",
    "i.e. $4k = $4,000 and £40k = £40,000\n",
    "\n",
    "Examples\n",
    "\n",
    "add_bill(\"d20,p40,p60,d50\") ➞ 20 + 50 = 70\n",
    "\n",
    "add_bill(\"p30,d20,p60,d150,p360\") ➞ 20  + 150 = 170\n",
    "\n",
    "add_bill(\"p30,d2k,p60,d200,p360\") ➞ 2 * 1000 + 200 = 2200"
   ]
  },
  {
   "cell_type": "code",
   "execution_count": 16,
   "id": "24feb911",
   "metadata": {},
   "outputs": [
    {
     "name": "stdout",
     "output_type": "stream",
     "text": [
      "70\n",
      "170\n",
      "2200\n"
     ]
    }
   ],
   "source": [
    "def add_bill(bills:str) -> int:\n",
    "    total = 0\n",
    "    amounts = bills.split(\",\")\n",
    "    for amount in amounts:\n",
    "        if amount.startswith('d'):\n",
    "            total += int(amount.replace('d', \"\").replace('k', '000'))\n",
    "    return total\n",
    "\n",
    "print(add_bill(\"d20,p40,p60,d50\"))\n",
    "print(add_bill(\"p30,d20,p60,d150,p360\"))\n",
    "print(add_bill(\"p30,d2k,p60,d200,p360\"))"
   ]
  },
  {
   "cell_type": "markdown",
   "id": "6384aa17",
   "metadata": {},
   "source": [
    "### 5. Create a function that flips a horizontal list into a vertical list, and a vertical list into a horizontal list.\n",
    "In other words, take an 1 x n list (1 row + n columns) and flip it into a n x 1 list (n rows and 1 column), and vice versa.\n",
    "\n",
    "Examples\n",
    "\n",
    "flip_list([1, 2, 3, 4]) ➞ [[1], [2], [3], [4]]\n",
    "\n",
    "Take a horizontal list and flip it vertical.\n",
    "flip_list([[5], [6], [9]]) ➞ [5, 6, 9]\n",
    "\n",
    "Take a vertical list and flip it horizontal.\n",
    "flip_list([]) ➞ []"
   ]
  },
  {
   "cell_type": "code",
   "execution_count": 20,
   "id": "12c15282",
   "metadata": {},
   "outputs": [
    {
     "name": "stdout",
     "output_type": "stream",
     "text": [
      "[[1], [2], [3], [4]]\n",
      "[5, 6, 9]\n",
      "[]\n"
     ]
    }
   ],
   "source": [
    "def flip_list(l:list):\n",
    "    result = []\n",
    "    if len(l) > 0:\n",
    "        if type(l[0]) == list:\n",
    "            for x in l:\n",
    "                result.extend(x)\n",
    "        else:\n",
    "            for x in l:\n",
    "                result.append([x])\n",
    "    return result\n",
    "\n",
    "print(flip_list([1,2,3,4]))\n",
    "print(flip_list([[5],[6],[9]]))\n",
    "print(flip_list([]))"
   ]
  }
 ],
 "metadata": {
  "kernelspec": {
   "display_name": "Python 3 (ipykernel)",
   "language": "python",
   "name": "python3"
  },
  "language_info": {
   "codemirror_mode": {
    "name": "ipython",
    "version": 3
   },
   "file_extension": ".py",
   "mimetype": "text/x-python",
   "name": "python",
   "nbconvert_exporter": "python",
   "pygments_lexer": "ipython3",
   "version": "3.9.7"
  }
 },
 "nbformat": 4,
 "nbformat_minor": 5
}
