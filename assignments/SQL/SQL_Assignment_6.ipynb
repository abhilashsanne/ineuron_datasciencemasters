{
 "cells": [
  {
   "cell_type": "markdown",
   "id": "f0609b52",
   "metadata": {},
   "source": [
    "### 1. Write an SQL query to print details of the Workers who have joined in Feb’2014.\n",
    "Answer:\n",
    "\n",
    "`select * from worker where hire_date between '2014-02-01' and '2014-02-28' order by hire_date;`"
   ]
  },
  {
   "cell_type": "markdown",
   "id": "4f185c03",
   "metadata": {},
   "source": [
    "#### 2. Write an SQL query to fetch duplicate records having matching data in some fields of a table.\n",
    "Answer:\n",
    "\n",
    "```\n",
    "SELECT first_name, last_name, department, COUNT(*)\n",
    "FROM worker\n",
    "GROUP BY first_name, last_name, department\n",
    "HAVING COUNT(*) > 1\n",
    "```\n",
    "\n",
    "*Here we are trying to find duplicate records of workers having same first_name, last_name and working in same department. If an entry with same first_name, last_name, department exists more than once, then it will be displayed in the result"
   ]
  },
  {
   "cell_type": "markdown",
   "id": "16428984",
   "metadata": {},
   "source": [
    "### 3. How to remove duplicate rows from worker table.\n",
    "Answer:\n",
    "    *Here we need first consider the criteria based on which we mark a record as duplicate, if we take the criteria of first_name, last_name, department matching as duplicate criteria then we can use below query:\n",
    "    \n",
    "```\n",
    "delete w1 FROM worker w1\n",
    "INNER JOIN worker w2\n",
    "WHERE\n",
    "    w1.worker_id < t2.worker_id AND\n",
    "    t1.first_name = t2.first_name AND\n",
    "    t1.last_name = t2.last_name AND\n",
    "    t1.department = t2.department;\n",
    "   \n",
    "```"
   ]
  }
 ],
 "metadata": {
  "kernelspec": {
   "display_name": "Python 3 (ipykernel)",
   "language": "python",
   "name": "python3"
  },
  "language_info": {
   "codemirror_mode": {
    "name": "ipython",
    "version": 3
   },
   "file_extension": ".py",
   "mimetype": "text/x-python",
   "name": "python",
   "nbconvert_exporter": "python",
   "pygments_lexer": "ipython3",
   "version": "3.9.7"
  }
 },
 "nbformat": 4,
 "nbformat_minor": 5
}
