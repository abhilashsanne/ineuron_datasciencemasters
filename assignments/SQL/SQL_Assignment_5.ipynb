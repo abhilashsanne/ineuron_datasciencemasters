{
 "cells": [
  {
   "cell_type": "markdown",
   "id": "bb1d5b1d",
   "metadata": {},
   "source": [
    "### 1. Write an SQL query to print details of workers excluding first names, “Vipul” and “Satish” from Worker table.\n",
    "Answer:\n",
    "\n",
    "`Select * from Worker where FIRST_NAME not in ('Vipul','Satish');`"
   ]
  },
  {
   "cell_type": "markdown",
   "id": "0867ea07",
   "metadata": {},
   "source": [
    "### 2. Write an SQL query to print details of the Workers whose FIRST_NAME ends with ‘h’ and contains six alphabets\n",
    "Answer:\n",
    "\n",
    "`Select * from Worker where FIRST_NAME like '_____h';` # 5 '_' underscores followed by h"
   ]
  },
  {
   "cell_type": "markdown",
   "id": "c3a4a163",
   "metadata": {},
   "source": [
    "### 3. Write a query to validate Email of Employee.\n",
    "Answer:\n",
    "    \n",
    "`SELECT * FROM worker WHERE emailid NOT LIKE '[0-9a-zA-Z]%@%.%'`"
   ]
  }
 ],
 "metadata": {
  "kernelspec": {
   "display_name": "Python 3 (ipykernel)",
   "language": "python",
   "name": "python3"
  },
  "language_info": {
   "codemirror_mode": {
    "name": "ipython",
    "version": 3
   },
   "file_extension": ".py",
   "mimetype": "text/x-python",
   "name": "python",
   "nbconvert_exporter": "python",
   "pygments_lexer": "ipython3",
   "version": "3.9.7"
  }
 },
 "nbformat": 4,
 "nbformat_minor": 5
}
