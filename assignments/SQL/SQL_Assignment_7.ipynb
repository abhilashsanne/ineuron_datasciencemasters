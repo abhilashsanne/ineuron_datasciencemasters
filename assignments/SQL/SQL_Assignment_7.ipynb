{
 "cells": [
  {
   "cell_type": "markdown",
   "id": "1b18f2f8",
   "metadata": {},
   "source": [
    "### 1. Write an SQL query to show only odd rows from a table.\n",
    "Answer:\n",
    "\n",
    "`Select * from worker where worker_id % 2 = 1`"
   ]
  },
  {
   "cell_type": "markdown",
   "id": "89a5ffbe",
   "metadata": {},
   "source": [
    "### 2. Write an SQL query to clone a new table from another table.\n",
    "Answer:\n",
    "\n",
    "`CREATE TABLE worker_new SELECT * FROM worker;`"
   ]
  }
 ],
 "metadata": {
  "kernelspec": {
   "display_name": "Python 3 (ipykernel)",
   "language": "python",
   "name": "python3"
  },
  "language_info": {
   "codemirror_mode": {
    "name": "ipython",
    "version": 3
   },
   "file_extension": ".py",
   "mimetype": "text/x-python",
   "name": "python",
   "nbconvert_exporter": "python",
   "pygments_lexer": "ipython3",
   "version": "3.9.7"
  }
 },
 "nbformat": 4,
 "nbformat_minor": 5
}
