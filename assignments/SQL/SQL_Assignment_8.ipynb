{
 "cells": [
  {
   "cell_type": "markdown",
   "id": "b8deef41",
   "metadata": {},
   "source": [
    "### 1. Write an SQL query to fetch intersecting records of two tables.\n",
    "*NOTE: Assume we have a table of hospitals with location of hospital city and another table of patients where city holds their current city. Then we can find the patients whose city is same as hospital city with below query\n",
    "\n",
    "```\n",
    "SELECT  a.city FROM patients a\n",
    "INTERSECT\n",
    "SELECT  b.city FROM hospitals b;\n",
    "```\n",
    "\n",
    "_MySQL Does not support interset operator, we can use below query\n",
    "```\n",
    "SELECT  a.city FROM patients a\n",
    "inner join hospitals b on b.city = a.city;\n",
    "```"
   ]
  },
  {
   "cell_type": "markdown",
   "id": "90b3b85f",
   "metadata": {},
   "source": [
    "### 2.Write an SQL query to show records from one table that another table does not have.\n",
    "\n",
    "```\n",
    "select * from hospitals where city not in (SELECT a.city as city FROM patients a inner join hospitals b on b.city = a.city;)\n",
    "```\n",
    "\n",
    "*The above query will display list of hospitals in city where there are no patients available"
   ]
  }
 ],
 "metadata": {
  "kernelspec": {
   "display_name": "Python 3 (ipykernel)",
   "language": "python",
   "name": "python3"
  },
  "language_info": {
   "codemirror_mode": {
    "name": "ipython",
    "version": 3
   },
   "file_extension": ".py",
   "mimetype": "text/x-python",
   "name": "python",
   "nbconvert_exporter": "python",
   "pygments_lexer": "ipython3",
   "version": "3.9.7"
  }
 },
 "nbformat": 4,
 "nbformat_minor": 5
}
