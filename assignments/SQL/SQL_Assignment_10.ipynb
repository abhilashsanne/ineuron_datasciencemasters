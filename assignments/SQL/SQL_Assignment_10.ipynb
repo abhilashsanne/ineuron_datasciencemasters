{
 "cells": [
  {
   "cell_type": "markdown",
   "id": "d5fa799f",
   "metadata": {},
   "source": [
    "### 1. Write an SQL query to determine the 5th highest salary without using TOP or limit method.\n",
    "Answer:\n",
    "```\n",
    "SELECT salary FROM \n",
    "(SELECT salary, ROW_NUMBER() OVER(ORDER BY salary DESC) AS 'RowNum' FROM WORKER) as temp\n",
    "WHERE rownum = 5;\n",
    "```"
   ]
  },
  {
   "cell_type": "markdown",
   "id": "baf6f903",
   "metadata": {},
   "source": [
    "### 2. Write an SQL query to fetch the list of employees with the same salary.\n",
    "Answer:\n",
    "```\n",
    "select w1.first_name, w1.last_name, w1.salary from worker w1 \n",
    "inner join worker w2 on\n",
    "w1.worker_id != w2.worker_id and \n",
    "w1.salary = w2.salary;\n",
    "```"
   ]
  }
 ],
 "metadata": {
  "kernelspec": {
   "display_name": "Python 3 (ipykernel)",
   "language": "python",
   "name": "python3"
  },
  "language_info": {
   "codemirror_mode": {
    "name": "ipython",
    "version": 3
   },
   "file_extension": ".py",
   "mimetype": "text/x-python",
   "name": "python",
   "nbconvert_exporter": "python",
   "pygments_lexer": "ipython3",
   "version": "3.9.7"
  }
 },
 "nbformat": 4,
 "nbformat_minor": 5
}
