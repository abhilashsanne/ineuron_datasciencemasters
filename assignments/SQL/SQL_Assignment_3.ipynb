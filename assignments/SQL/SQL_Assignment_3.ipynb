{
 "cells": [
  {
   "cell_type": "markdown",
   "id": "a2be0dde",
   "metadata": {},
   "source": [
    "### 1. Write an SQL query to print the FIRST_NAME from Worker table after removing white spaces from the right side\n",
    "Answer:\n",
    "\n",
    "`SELECT RTRIM(FIRST_NAME) FROM worker;`"
   ]
  },
  {
   "cell_type": "markdown",
   "id": "cec4a93f",
   "metadata": {},
   "source": [
    "### 2. Write an SQL query that fetches the unique values of DEPARTMENT from Worker table and prints its length.\n",
    "Answer:\n",
    "    \n",
    "`SELECT DISTINCT(DEPARTMENT), LENGTH(DEPARTMENT) AS LENGTH FROM worker;`\n",
    "\n",
    "Output:<br/>\n",
    "HR\t2<br/>\n",
    "Admin\t5<br/>\n",
    "Account\t7\n",
    "\n",
    "(OR) use below query to print just the lengths\n",
    "\n",
    "`Select length from (SELECT DISTINCT(DEPARTMENT), LENGTH(DEPARTMENT) AS LENGTH FROM worker) as l;`"
   ]
  },
  {
   "cell_type": "markdown",
   "id": "bcd43ee6",
   "metadata": {},
   "source": [
    "### 3. Write an SQL query to fetch nth max salaries from a table.\n",
    "Answer:\n",
    "    \n",
    "`select salary from (select salary from worker order by salary desc limit 3) as temp order by salary asc limit 1;`\n",
    "\n",
    "*Note: nth max salary can be found by updating the inner query limit value, here in above example we are finding 3rd max salary"
   ]
  }
 ],
 "metadata": {
  "kernelspec": {
   "display_name": "Python 3 (ipykernel)",
   "language": "python",
   "name": "python3"
  },
  "language_info": {
   "codemirror_mode": {
    "name": "ipython",
    "version": 3
   },
   "file_extension": ".py",
   "mimetype": "text/x-python",
   "name": "python",
   "nbconvert_exporter": "python",
   "pygments_lexer": "ipython3",
   "version": "3.9.7"
  }
 },
 "nbformat": 4,
 "nbformat_minor": 5
}
