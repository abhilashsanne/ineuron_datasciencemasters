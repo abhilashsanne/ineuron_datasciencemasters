{
 "cells": [
  {
   "cell_type": "markdown",
   "id": "618ccadd",
   "metadata": {},
   "source": [
    "### 1. Write an SQL query to show the top n (say 10) records of a table\n",
    "Answer:\n",
    "```\n",
    "select top 10 * from worker;\n",
    "```\n",
    "or\n",
    "```\n",
    "SELECT * FROM Worker ORDER BY Salary DESC LIMIT 10;\n",
    "```"
   ]
  },
  {
   "cell_type": "markdown",
   "id": "248d48d6",
   "metadata": {},
   "source": [
    "### 2. Write an SQL query to determine the nth (say n=5) highest salary from a table.\n",
    "Answer:\n",
    "```\n",
    "select salary from (select salary from worker order by salary desc limit 5) as temp order by salary asc limit 1;\n",
    "\n",
    "```\n",
    "\n",
    "Update `limit n` in inner query to desired number to determine the nth highest salary from table"
   ]
  }
 ],
 "metadata": {
  "kernelspec": {
   "display_name": "Python 3 (ipykernel)",
   "language": "python",
   "name": "python3"
  },
  "language_info": {
   "codemirror_mode": {
    "name": "ipython",
    "version": 3
   },
   "file_extension": ".py",
   "mimetype": "text/x-python",
   "name": "python",
   "nbconvert_exporter": "python",
   "pygments_lexer": "ipython3",
   "version": "3.9.7"
  }
 },
 "nbformat": 4,
 "nbformat_minor": 5
}
