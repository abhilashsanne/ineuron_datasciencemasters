{
 "cells": [
  {
   "cell_type": "markdown",
   "id": "763464ef",
   "metadata": {},
   "source": [
    "### 1. Write an SQL query to print the first three characters of FIRST_NAME from Worker table.\n",
    "Answer:\n",
    "\n",
    "`SELECT SUBSTRING(FIRST_NAME,1,3) FROM worker;`"
   ]
  },
  {
   "cell_type": "markdown",
   "id": "a7647a5e",
   "metadata": {},
   "source": [
    "### 2. Write an SQL query to find the position of the alphabet (‘a’) in the first name column ‘Amitabh’ from Worker table.\n",
    "Answer:\n",
    "\n",
    "`SELECT POSITION(\"a\" IN first_name) FROM worker WHERE first_name = \"Amitabh\";`"
   ]
  },
  {
   "cell_type": "markdown",
   "id": "aa85608d",
   "metadata": {},
   "source": [
    "### 3. Write an SQL query to print the name of employees having the highest salary in each department.\n",
    "Answer:\n",
    "\n",
    "```SELECT w.department, first_name from worker as w, (SELECT DEPARTMENT, MAX(Salary) as salary FROM worker GROUP BY DEPARTMENT) as s\n",
    "where w.department = s.department and w.salary = s.salary;```"
   ]
  },
  {
   "cell_type": "markdown",
   "id": "12e14853",
   "metadata": {},
   "source": [
    "##### select * from worker order by salary desc:\n",
    "\n",
    "4\tAmitabh\tSingh\t500000\t2014-02-20 09:00:00\tAdmin<br/>\n",
    "5\tVivek\tBhati\t500000\t2014-06-11 09:00:00\tAdmin<br/>\n",
    "3\tVishal\tSinghal\t300000\t2014-02-20 09:00:00\tHR<br/>\n",
    "6\tVipul\tDiwan\t200000\t2014-06-11 09:00:00\tAccount<br/>\n",
    "1\tMonika\tArora\t100000\t2014-02-20 09:00:00\tHR<br/>\n",
    "8\tGeetika\tChauhan\t90000\t2014-04-11 09:00:00\tAdmin<br/>\n",
    "2\tNiharika\tVerma\t80000\t2014-06-11 09:00:00\tAdmin<br/>\n",
    "7\tSatish\tKumar\t75000\t2014-01-20 09:00:00\tAccount<br/>\n",
    "\n",
    "##### Output of answer given above:\n",
    "\n",
    "HR\tVishal<br/>\n",
    "Admin\tAmitabh<br/>\n",
    "Admin\tVivek<br/>\n",
    "Account\tVipul<br/>\n",
    "\n",
    "*NOTE: both Amitabh and Vivek have 500000 salary which is highest in Admin department"
   ]
  }
 ],
 "metadata": {
  "kernelspec": {
   "display_name": "Python 3 (ipykernel)",
   "language": "python",
   "name": "python3"
  },
  "language_info": {
   "codemirror_mode": {
    "name": "ipython",
    "version": 3
   },
   "file_extension": ".py",
   "mimetype": "text/x-python",
   "name": "python",
   "nbconvert_exporter": "python",
   "pygments_lexer": "ipython3",
   "version": "3.9.7"
  }
 },
 "nbformat": 4,
 "nbformat_minor": 5
}
