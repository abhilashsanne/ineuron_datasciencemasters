{
 "cells": [
  {
   "cell_type": "markdown",
   "id": "d7dca68b",
   "metadata": {},
   "source": [
    "### 1. Write an SQL query to print the FIRST_NAME from Worker table after replacing ‘a’ with ‘A’.\n",
    "Answer:\n",
    "\n",
    "`SELECT REPLACE(first_name, \"a\", \"A\") FROM worker;`"
   ]
  },
  {
   "cell_type": "markdown",
   "id": "636228fd",
   "metadata": {},
   "source": [
    "### 2. Write an SQL query to print all Worker details from the Worker table order by FIRST_NAME Ascending and DEPARTMENT Descending\n",
    "Answer:\n",
    "\n",
    "`SELECT * FROM worker ORDER BY first_name ASC, department DESC;`"
   ]
  },
  {
   "cell_type": "markdown",
   "id": "90c592b2",
   "metadata": {},
   "source": [
    "### 3. Write an SQL query to fetch the names of workers who earn the highest salary.\n",
    "Answer:\n",
    "    \n",
    "`SELECT FIRST_NAME, SALARY from Worker WHERE SALARY=(select max(SALARY) from worker);`"
   ]
  }
 ],
 "metadata": {
  "kernelspec": {
   "display_name": "Python 3 (ipykernel)",
   "language": "python",
   "name": "python3"
  },
  "language_info": {
   "codemirror_mode": {
    "name": "ipython",
    "version": 3
   },
   "file_extension": ".py",
   "mimetype": "text/x-python",
   "name": "python",
   "nbconvert_exporter": "python",
   "pygments_lexer": "ipython3",
   "version": "3.9.7"
  }
 },
 "nbformat": 4,
 "nbformat_minor": 5
}
