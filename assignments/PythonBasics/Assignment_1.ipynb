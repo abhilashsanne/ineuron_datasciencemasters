{
 "cells": [
  {
   "cell_type": "markdown",
   "id": "bb9438bf",
   "metadata": {},
   "source": [
    "### 1. In the below elements which of them are values or an expression? eg:- values can be integer or string and expressions will be mathematical operators.\n",
    "* `*`  EXPRESSION\n",
    "* `'hello'` VALUE\n",
    "* `-87.8` VALUE\n",
    "* `-` EXPRESSION\n",
    "* `/` EXPRESSION\n",
    "* `+` EXPRESSION\n",
    "* `6` VALUE"
   ]
  },
  {
   "cell_type": "markdown",
   "id": "d1b7c4ab",
   "metadata": {},
   "source": [
    "### 2. What is the difference between string and variable?\n",
    "Variable is a reserved memory location to store values. Every value in python has a datatype. String is one of the datatype in python to store sequence of characters."
   ]
  },
  {
   "cell_type": "markdown",
   "id": "de039ed1",
   "metadata": {},
   "source": [
    "### 3. Describe three different data types.\n",
    "* `Str` – String data type is used to store a sequence of characters. Examples of strings include: “abhilash” or “123.423” or “{“key”:”value”}”\n",
    "* `Int` – int datatype is used to store integers in python. Examples of integers include: -1, 0, 100\n",
    "* `Bool` – bool datatype is used to store Boolean types in python, bool types in Python are represented as `True` and `False`."
   ]
  },
  {
   "cell_type": "markdown",
   "id": "7b1f91a7",
   "metadata": {},
   "source": [
    "### 4. What is an expression made up of? What do all expressions do?\n",
    "An expression is made up of operators and operands, expressions are interpreted to produce some other value. \n",
    "* Example expression: `a + b`"
   ]
  },
  {
   "cell_type": "markdown",
   "id": "459cdc01",
   "metadata": {},
   "source": [
    "### 5. This assignment statements, like spam = 10. What is the difference between an expression and a statement?\n",
    "* A statement performs some action, this in case it is assigning the variable `spam` with value `10`. An expression evaluates to some value.\n",
    "* An expression can be part of a statement, but a statement is never a part of an expression. Statements typically don’t have a type but all expressions have types. Example expressions: `“Hello”`, `5+7`"
   ]
  },
  {
   "cell_type": "markdown",
   "id": "e564cf4a",
   "metadata": {},
   "source": [
    "### 6. After running the following code, what does the variable bacon contain?\n",
    "```\n",
    "bacon = 22\n",
    "bacon + 1\n",
    "```\n",
    "bacon will contain `22`, because the last line is a expression but not a statement, hence the value of bacon is unchanged."
   ]
  },
  {
   "cell_type": "markdown",
   "id": "0e48cec1",
   "metadata": {},
   "source": [
    "### 7. What should the values of the following two terms be?\n",
    "* 'spam' + 'spamspam' = `spamspamspam`\n",
    "* 'spam' * 3 = `spamspamspam`"
   ]
  },
  {
   "cell_type": "markdown",
   "id": "a650b1e2",
   "metadata": {},
   "source": [
    "### 8. Why is eggs a valid variable name while 100 is invalid?\n",
    "* In Python the variable names should start with `a-z` or `A-Z` or `underscore(_)`. \n",
    "* No other special characters are allowed other than underscore. \n",
    "* Also variable names can have numbers but not at the beginning. Hence `100` is invalid variable name.\n",
    "* Also any variable name in Python should not be a Python Keyword (reserved words)"
   ]
  },
  {
   "cell_type": "markdown",
   "id": "ea00efc3",
   "metadata": {},
   "source": [
    "### 9. What three functions can be used to get the integer, floating-point number, or string version of a value?\n",
    "This can be done by explicit type casting, assuming the variable name is abc, the three functions will be int(abc), float(10), str(10)"
   ]
  },
  {
   "cell_type": "markdown",
   "id": "2f14cf1b",
   "metadata": {},
   "source": [
    "### 10. Why does this expression cause an error? How can you fix it?\n",
    "'I have eaten ' + 99 + ' burritos.'\n",
    "* You cannot add integers to strings, here first and last operands are strings. \n",
    "* Corrected expression will be: `'I have eaten ' + ‘99’ + ' burritos.'`"
   ]
  }
 ],
 "metadata": {
  "kernelspec": {
   "display_name": "Python 3 (ipykernel)",
   "language": "python",
   "name": "python3"
  },
  "language_info": {
   "codemirror_mode": {
    "name": "ipython",
    "version": 3
   },
   "file_extension": ".py",
   "mimetype": "text/x-python",
   "name": "python",
   "nbconvert_exporter": "python",
   "pygments_lexer": "ipython3",
   "version": "3.9.7"
  }
 },
 "nbformat": 4,
 "nbformat_minor": 5
}
