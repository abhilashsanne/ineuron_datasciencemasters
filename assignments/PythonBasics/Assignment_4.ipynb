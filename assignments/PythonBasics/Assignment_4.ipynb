{
 "cells": [
  {
   "cell_type": "markdown",
   "id": "17ef6b17",
   "metadata": {},
   "source": [
    "### 1. What exactly is []?  \n",
    "[] is an empty list in Python"
   ]
  },
  {
   "cell_type": "markdown",
   "id": "5625a774",
   "metadata": {},
   "source": [
    "### 2. In a list of values stored in a variable called spam, how would you assign the value 'hello' as the third value? (Assume [2, 4, 6, 8, 10] are in spam.)  \n",
    "\n",
    "`spam.insert(2, 'hello')` # as in python lists are zero based indexes, 2nd index indicates third value"
   ]
  },
  {
   "cell_type": "markdown",
   "id": "953f6cd9",
   "metadata": {},
   "source": [
    "#### Let's pretend the spam includes the list ['a', 'b', 'c', 'd'] for the next three queries.\n",
    "### 3. What is the value of spam[int(int('3' * 2) / 11)]?  \n",
    "'d'"
   ]
  },
  {
   "cell_type": "markdown",
   "id": "42306101",
   "metadata": {},
   "source": [
    "### 4. What is the value of spam[-1]?  \n",
    "'d'"
   ]
  },
  {
   "cell_type": "markdown",
   "id": "c3da07a4",
   "metadata": {},
   "source": [
    "### 5. What is the value of spam[:2]?  \n",
    "['a', 'b']"
   ]
  },
  {
   "cell_type": "markdown",
   "id": "dc279c96",
   "metadata": {},
   "source": [
    "### Let's pretend bacon has the list [3.14, 'cat,' 11, 'cat,' True] for the next three questions. \n",
    "I am Assuming there is no syntax error and bacon = [3.14, 'cat', 11, 'cat', True]"
   ]
  },
  {
   "cell_type": "markdown",
   "id": "ffe34990",
   "metadata": {},
   "source": [
    "### 6. What is the value of bacon.index('cat')?  \n",
    "1"
   ]
  },
  {
   "cell_type": "markdown",
   "id": "2a1846fc",
   "metadata": {},
   "source": [
    "### 7. How does bacon.append(99) change the look of the list value in bacon?  \n",
    "[3.14, 'cat', 11, 'cat', True, 99]"
   ]
  },
  {
   "cell_type": "markdown",
   "id": "81ea7b5b",
   "metadata": {},
   "source": [
    "### 8. How does bacon.remove('cat') change the look of the list in bacon?  \n",
    "[3.14, 11, 'cat', True]"
   ]
  },
  {
   "cell_type": "markdown",
   "id": "834c74b8",
   "metadata": {},
   "source": [
    "### 9. What are the list concatenation and list replication operators?  \n",
    "List concatenation operator is ‘+’ while list replication operator is ‘*’"
   ]
  },
  {
   "cell_type": "markdown",
   "id": "6055cfc6",
   "metadata": {},
   "source": [
    "### 10. What is difference between the list methods append() and insert()?  \n",
    "Append method appends the given object to the end of the list always. Insert method accepts two arguments, index at which the element needs to be inserted and the object to insert. Insert needs the user to pass the location at which they want to insert the element into the list, while append does not provide a choice."
   ]
  },
  {
   "cell_type": "markdown",
   "id": "97a4a3ee",
   "metadata": {},
   "source": [
    "### 11. What are the two methods for removing items from a list?  \n",
    "Two methods used for removing items from a list are:\n",
    "*\tList.remove(object) -> Removes the first occurrence of the given object from the list\n",
    "*\tList.pop(index=-1) -> Removes and returns item at the index (default is -1, the last element)"
   ]
  },
  {
   "cell_type": "markdown",
   "id": "c70835dd",
   "metadata": {},
   "source": [
    "### 12. Describe how list values and string values are identical.  \n",
    "While list is a collection of values in Python, string is a collection of characters. Both list and strings are iterable in Python and a for loop can be used around a list or string object to iterate through each element in the list/string."
   ]
  },
  {
   "cell_type": "markdown",
   "id": "48755ed5",
   "metadata": {},
   "source": [
    "### 13. What's the difference between tuples and lists?  \n",
    "Tuples are immutable where as lists in Python are mutable. So once created, the items inside a tuple cannot be changed."
   ]
  },
  {
   "cell_type": "markdown",
   "id": "cf42a7f3",
   "metadata": {},
   "source": [
    "### 14. How do you type a tuple value that only contains the integer 42?  \n",
    "tuple([42])"
   ]
  },
  {
   "cell_type": "markdown",
   "id": "096c46b3",
   "metadata": {},
   "source": [
    "### 15. How do you get a list value's tuple form? How do you get a tuple value's list form?  \n",
    "```\n",
    "b = tuple([42, 3, 5])\n",
    "type(b)  # tuple\n",
    "c = list(b)\n",
    "type(c) # list\n",
    "```"
   ]
  },
  {
   "cell_type": "markdown",
   "id": "3b72bfad",
   "metadata": {},
   "source": [
    "### 16. Variables that \"contain\" list values are not necessarily lists themselves. Instead, what do they contain?\n",
    "They contain references to the list values"
   ]
  },
  {
   "cell_type": "markdown",
   "id": "db09513d",
   "metadata": {},
   "source": [
    "### 17. How do you distinguish between copy.copy() and copy.deepcopy()?\n",
    "* The `copy.copy()` function will do a shallow copy of a list, \n",
    "* The `copy.deepcopy()` function will do a deep copy of a list. only `copy.deepcopy()` will duplicate any lists inside the list"
   ]
  }
 ],
 "metadata": {
  "kernelspec": {
   "display_name": "Python 3 (ipykernel)",
   "language": "python",
   "name": "python3"
  },
  "language_info": {
   "codemirror_mode": {
    "name": "ipython",
    "version": 3
   },
   "file_extension": ".py",
   "mimetype": "text/x-python",
   "name": "python",
   "nbconvert_exporter": "python",
   "pygments_lexer": "ipython3",
   "version": "3.9.7"
  }
 },
 "nbformat": 4,
 "nbformat_minor": 5
}
