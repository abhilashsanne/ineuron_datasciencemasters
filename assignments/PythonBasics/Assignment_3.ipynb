{
 "cells": [
  {
   "cell_type": "markdown",
   "id": "acc499df",
   "metadata": {},
   "source": [
    "### 1. Why are functions advantageous to have in your programs?  \n",
    "Functions help organize our code into reusable pieces of code, functions can be called from anywhere in your Python code, even within other functions. This helps:\n",
    "*\trunning same piece of code multiple times\n",
    "*\tbreaking long complex programs into smaller components\n",
    "*\tfunctions can be shared and used by other developers as well"
   ]
  },
  {
   "cell_type": "markdown",
   "id": "6285c211",
   "metadata": {},
   "source": [
    "### 2. When does the code in a function run: when it's specified or when it's called?\n",
    "The code inside a function runs only when it is called"
   ]
  },
  {
   "cell_type": "markdown",
   "id": "26d79120",
   "metadata": {},
   "source": [
    "### 3. What statement creates a function?\n",
    "‘def’ statement is used in python to create a function"
   ]
  },
  {
   "cell_type": "markdown",
   "id": "dbd885dc",
   "metadata": {},
   "source": [
    "### 4. What is the difference between a function and a function call?\n",
    "Function or function definition is creation or declaring the function, example: what parameters to accept, what actions to perform and what values to return. On the other hand function call is invoking this function to get some required actions/processing done."
   ]
  },
  {
   "cell_type": "markdown",
   "id": "24270ad4",
   "metadata": {},
   "source": [
    "### 5. How many global scopes are there in a Python program? How many local scopes?\n",
    "Local scope includes all variables defined in the current function and global scope includes variable defined outside of the current function. So one global scope and one local scope"
   ]
  },
  {
   "cell_type": "markdown",
   "id": "5917ca01",
   "metadata": {},
   "source": [
    "### 6. What happens to variables in a local scope when the function call returns?\n",
    "The local scope variables will be deleted from the memory (local stack) and they will not be available after the function call returns."
   ]
  },
  {
   "cell_type": "markdown",
   "id": "dd7c23be",
   "metadata": {},
   "source": [
    "### 7. What is the concept of a return value? Is it possible to have a return value in an expression?\n",
    "Return values are used by a function to enable them to send Python objects back to the caller code, so that they can use these return values to perform further computation in their program.\n",
    "The result of an expression can be sent as a return, also an expression can rely on a return value from a function.\n",
    "\n",
    "Example: `4 – sqrt(16)`"
   ]
  },
  {
   "cell_type": "markdown",
   "id": "b9a54373",
   "metadata": {},
   "source": [
    "### 8. If a function does not have a return statement, what is the return value of a call to that function?\n",
    "If a function does not have a return statement, then the return value of a call to that function is ‘None’ in Python"
   ]
  },
  {
   "cell_type": "markdown",
   "id": "5840df14",
   "metadata": {},
   "source": [
    "### 9. How do you make a function variable refer to the global variable?\n",
    "You can use a global variable within other functions by declaring it as global within each function that assigns a value to it, example:\n",
    "```\n",
    "globvar = 0\n",
    "\n",
    "def set_globvar_to_one():\n",
    "    global globvar    # Needed to modify global copy of globvar\n",
    "    globvar = 1\n",
    "```"
   ]
  },
  {
   "cell_type": "markdown",
   "id": "e1e846ab",
   "metadata": {},
   "source": [
    "### 10. What is the data type of None?\n",
    "None keyword is an object and is a data type of none type class in PYthon"
   ]
  },
  {
   "cell_type": "markdown",
   "id": "19f93915",
   "metadata": {},
   "source": [
    "### 11. What does the sentence import areallyourpetsnamederic do?\n",
    "The above import statement in Python will allow our python code or file to make use of the reusable components defined in areallyourpetsnamederic module."
   ]
  },
  {
   "cell_type": "markdown",
   "id": "2ff3d69a",
   "metadata": {},
   "source": [
    "### 12. If you had a bacon() feature in a spam module, what would you call it after importing spam?\n",
    "`spam.beacon()`"
   ]
  },
  {
   "cell_type": "markdown",
   "id": "6df1d21c",
   "metadata": {},
   "source": [
    "### 13. What can you do to save a programme from crashing if it encounters an error?\n",
    "Exception handling should be in place for handling runtime errors if encountered while running a program."
   ]
  },
  {
   "cell_type": "markdown",
   "id": "c4a03c07",
   "metadata": {},
   "source": [
    "### 14. What is the purpose of the try clause? What is the purpose of the except clause?\n",
    "The try except statement can handle exceptions. Exceptions may happen when you run a program.\n",
    "Exceptions are errors that happen during execution of the program. Python won’t tell you about errors like syntax errors (grammar faults), instead it will abruptly stop.\n",
    "*\ttry: the code with the exception(s) to catch. If an exception is raised, it jumps straight into the except block.\n",
    "*\texcept: this code is only executed if an exception occured in the try block. The except block is required with a try block, even if it contains only the pass statement."
   ]
  }
 ],
 "metadata": {
  "kernelspec": {
   "display_name": "Python 3 (ipykernel)",
   "language": "python",
   "name": "python3"
  },
  "language_info": {
   "codemirror_mode": {
    "name": "ipython",
    "version": 3
   },
   "file_extension": ".py",
   "mimetype": "text/x-python",
   "name": "python",
   "nbconvert_exporter": "python",
   "pygments_lexer": "ipython3",
   "version": "3.9.7"
  }
 },
 "nbformat": 4,
 "nbformat_minor": 5
}
