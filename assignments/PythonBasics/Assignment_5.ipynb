{
 "cells": [
  {
   "cell_type": "markdown",
   "id": "b6038021",
   "metadata": {},
   "source": [
    "### 1. What does an empty dictionary's code look like?\n",
    "* `{}`\n",
    "* Empty dictionary code looks like two curly braces, open and close. Example initialization: `empty_dict = {}`"
   ]
  },
  {
   "cell_type": "markdown",
   "id": "59e0c5ac",
   "metadata": {},
   "source": [
    "### 2. What is the value of a dictionary value with the key 'foo' and the value 42?\n",
    "`{\"foo\": 42}`"
   ]
  },
  {
   "cell_type": "markdown",
   "id": "f79de15f",
   "metadata": {},
   "source": [
    "### 3. What is the most significant distinction between a dictionary and a list?\n",
    "Both dictionary and list are collection of objects, while the list stores the objects as comma separated values, a dictionary stores the elements in a `key`:`value` format"
   ]
  },
  {
   "cell_type": "markdown",
   "id": "dd6e968b",
   "metadata": {},
   "source": [
    "### 4. What happens if you try to access spam['foo'] if spam is {'bar': 100}?\n",
    "* Exception of type `KeyError` occurs as the key `foo` is not available in the dictionary spam"
   ]
  },
  {
   "cell_type": "markdown",
   "id": "1ac1e042",
   "metadata": {},
   "source": [
    "### 5. If a dictionary is stored in spam, what is the difference between the expressions 'cat' in spam and 'cat' in spam.keys()?\n",
    "Both `'cat' in spam` and `'cat' in spam.keys()` would give the same result in Python3.X version"
   ]
  },
  {
   "cell_type": "markdown",
   "id": "146ea9de",
   "metadata": {},
   "source": [
    "### 6. If a dictionary is stored in spam, what is the difference between the expressions 'cat' in spam and 'cat' in spam.values()?\n",
    "* `'cat' in spam` looks for the string `cat` in the `spam` dictionary keys\n",
    "* `'cat' in spam.values()` will look for the string `cat` in the values of the dictionary `spam`"
   ]
  },
  {
   "cell_type": "markdown",
   "id": "9823ff56",
   "metadata": {},
   "source": [
    "### 7. What is a shortcut for the following code?\n",
    "if 'color' not in spam:\n",
    "spam['color'] = 'black'\n",
    "\n",
    "```\n",
    "# Answer:\n",
    "spam.setdefault('color', 'black')\n",
    "```"
   ]
  },
  {
   "cell_type": "markdown",
   "id": "3d795c8e",
   "metadata": {},
   "source": [
    "### 8. How do you \"pretty print\" dictionary values using which module and function?\n",
    "pprint module is used to pretty print a dictionary\n",
    "`pprint.pprint()`"
   ]
  },
  {
   "cell_type": "code",
   "execution_count": null,
   "id": "9fb80319",
   "metadata": {},
   "outputs": [],
   "source": []
  }
 ],
 "metadata": {
  "kernelspec": {
   "display_name": "Python 3 (ipykernel)",
   "language": "python",
   "name": "python3"
  },
  "language_info": {
   "codemirror_mode": {
    "name": "ipython",
    "version": 3
   },
   "file_extension": ".py",
   "mimetype": "text/x-python",
   "name": "python",
   "nbconvert_exporter": "python",
   "pygments_lexer": "ipython3",
   "version": "3.9.7"
  }
 },
 "nbformat": 4,
 "nbformat_minor": 5
}
