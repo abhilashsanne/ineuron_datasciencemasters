{
 "cells": [
  {
   "cell_type": "markdown",
   "id": "660191ef",
   "metadata": {},
   "source": [
    "### 1. In what modes should the PdfFileReader() and PdfFileWriter() File objects will be opened?\n",
    "\n",
    "\\# pip install PyPDF2\n",
    "\n",
    "These files will be opened in binary mode., read binary (rb) for PdfFileREader() and write binary (wb) PdfFileWriter()"
   ]
  },
  {
   "cell_type": "markdown",
   "id": "a191aa52",
   "metadata": {},
   "source": [
    "### 2. From a PdfFileReader object, how do you get a Page object for page 5?\n",
    "\n",
    "Calling getPage(4) will return a Page object for page 5 (indexes start from 0 just like arrays)\n",
    "\n",
    "```\n",
    "import PyPDF2 as pdf\n",
    "pdfFileObj = open(\"my_sample_file.pdf\",'rb')\n",
    "pdfReader = pdf.PdfFileReader(pdfFileObj)\n",
    "pageObj = pdfReader.getPage(4)\n",
    "pageObj.extractText()\n",
    "```"
   ]
  },
  {
   "cell_type": "markdown",
   "id": "1a883754",
   "metadata": {},
   "source": [
    "### 3. What PdfFileReader variable stores the number of pages in the PDF document?\n",
    "The `numPages` variable stores the number of pages in the PdfFileReader object in integer format\n",
    "```\n",
    "import PyPDF2 as pdf\n",
    "pdfFileObj = open(\"my_sample_file.pdf\",'rb')\n",
    "pdfReader = pdf.PdfFileReader(pdfFileObj)\n",
    "pdfReader.numPages\n",
    "```"
   ]
  },
  {
   "cell_type": "markdown",
   "id": "badd572f",
   "metadata": {},
   "source": [
    "### 4. If a PdfFileReader object’s PDF is encrypted with the password swordfish, what must you do before you can obtain Page objects from it?\n",
    "\n",
    "before we obtain the page object, the pdf has to be decrypted by calling .decrypt('swordfish')\n",
    "`pdfReader.decrypt('swordfish')`\n"
   ]
  },
  {
   "cell_type": "markdown",
   "id": "982e3937",
   "metadata": {},
   "source": [
    "### 5. What methods do you use to rotate a page?\n",
    "The `rotateClockwise()` and `rotateCounterClockwise()` methods. The degrees to rotate is passed as an integer argument\n",
    "\n",
    "`#pageObj.rotateClockwise(180)`"
   ]
  },
  {
   "cell_type": "markdown",
   "id": "d50e6700",
   "metadata": {},
   "source": [
    "### 6. What is the difference between a Run object and a Paragraph object?\n",
    "\n",
    "`Paragraph Object`:  \n",
    "* A document contains multiple paragraphs. \n",
    "* A paragraph begins on a new line and contains multiple runs. \n",
    "* The Document object contains a list of Paragraph objects for the paragraphs in the document. \n",
    "* A new paragraph begins whenever the user presses ENTER or RETURN while typing in a Word document.\n",
    "\n",
    "`Run Objects`:\n",
    "* Runs are contiguous groups of characters within a paragraph with the same style"
   ]
  },
  {
   "cell_type": "markdown",
   "id": "1f775a77",
   "metadata": {},
   "source": [
    "### 7. How do you obtain a list of Paragraph objects for a Document object that’s stored in a variable named doc?\n",
    "\n",
    "By using doc.paragraphs you can obtain a list of paragraph objects for a document object\n",
    "\n",
    "```\n",
    "# pip install python-docx\n",
    "import docx\n",
    "doc = docx.Document('demo.docx')\n",
    "doc.paragraphs\n",
    "\n",
    "```"
   ]
  },
  {
   "cell_type": "markdown",
   "id": "83ed099a",
   "metadata": {},
   "source": [
    "### 8. What type of object has bold, underline, italic, strike, and outline variables?\n",
    "A Run object has bold, underline,italic,strike and outline variables"
   ]
  },
  {
   "cell_type": "markdown",
   "id": "fe479632",
   "metadata": {},
   "source": [
    "### 9. What is the difference between False, True, and None for the bold variable?\n",
    "Runs can be further styled using text attributes. Each attribute can be set to one of three values: \n",
    "`True` (the attribute is always enabled, no matter what other styles are applied to the run), \n",
    "`False` (the attribute is always disabled),\n",
    "`None` (defaults to whatever the run’s style is set to)\n",
    "\n",
    "* `True` always makes the Run object bolded\n",
    "* `False` makes it always not bolded, no matter what the style’s bold setting is\n",
    "* `None` will make the Run object just use the style’s bold setting"
   ]
  },
  {
   "cell_type": "markdown",
   "id": "4d9f4427",
   "metadata": {},
   "source": [
    "### 10. How do you create a Document object for a new Word document?\n",
    "`docx.Document()` function creates a new Document object."
   ]
  },
  {
   "cell_type": "markdown",
   "id": "e87e5ac0",
   "metadata": {},
   "source": [
    "### 11. How do you add a paragraph with the text 'Hello, there!'' to a Document object stored in a variable named doc?\n",
    "\n",
    "```\n",
    "import docx\n",
    "doc = docx.Document()\n",
    "\n",
    "doc.add_paragraph('Hello there!')\n",
    "doc.save('hellothere.docx')\n",
    "```"
   ]
  },
  {
   "cell_type": "markdown",
   "id": "0bd39e5e",
   "metadata": {},
   "source": [
    "### 12. What integers represent the levels of headings available in Word documents?\n",
    "integer from 0 to 4\n",
    "\n",
    "The arguments to add_heading() are a string of the heading text and an integer from 0 to 4. The integer 0 makes the heading the Title style, which is used for the top of the document. Integers 1 to 4 are for various heading levels, with 1 being the main heading and 4 the lowest subheading"
   ]
  }
 ],
 "metadata": {
  "kernelspec": {
   "display_name": "Python 3 (ipykernel)",
   "language": "python",
   "name": "python3"
  },
  "language_info": {
   "codemirror_mode": {
    "name": "ipython",
    "version": 3
   },
   "file_extension": ".py",
   "mimetype": "text/x-python",
   "name": "python",
   "nbconvert_exporter": "python",
   "pygments_lexer": "ipython3",
   "version": "3.9.7"
  }
 },
 "nbformat": 4,
 "nbformat_minor": 5
}
