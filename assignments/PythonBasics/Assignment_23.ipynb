{
 "cells": [
  {
   "cell_type": "markdown",
   "id": "b6127c2c",
   "metadata": {},
   "source": [
    "### 1. What is the result of the code, and why?\n",
    "```\n",
    "def func(a, b=6, c=8):\n",
    "    print(a, b, c)\n",
    "```\n",
    "`func(1, 2)` will print `1 2 8` on the console because as per the function `func` definition, the value of third parameter `c` is by default `8` if not passed explicitly \n"
   ]
  },
  {
   "cell_type": "markdown",
   "id": "806faac0",
   "metadata": {},
   "source": [
    "### 2. What is the result of this code, and why?\n",
    "```def func(a, b, c=5):\n",
    "        print(a, b, c)\n",
    "```\n",
    "`func(1, c=3, b=2)` will print `1 2 3` onto the console because during the function call of `func` we are using named parameters instead of ordered parameter value passing.\n",
    "\n",
    "Thus the value passed to a is 1, b is 2, c is 3 irrespective of the order of values c and b passed, as long as you are using named arguments\n"
   ]
  },
  {
   "cell_type": "markdown",
   "id": "4d4d94f4",
   "metadata": {},
   "source": [
    "### 3. How about this code: what is its result, and why?\n",
    "```\n",
    "def func(a, *pargs):\n",
    "    print(a, pargs)\n",
    "```\n",
    "\n",
    "`func(1, 2, 3)` will prit `1 (2, 3)` to the console, because the first parameter passed to the `func` function will be assigned to parameter `a`.\n",
    "Any other following arguments will be assigned to arbitary argument `pargs` which will be an iterable object of type `tuple`\n"
   ]
  },
  {
   "cell_type": "markdown",
   "id": "e6771b47",
   "metadata": {},
   "source": [
    "### 4. What does this code print, and why?\n",
    "```\n",
    "def func(a, **kargs):\n",
    "    print(a, kargs)\n",
    "```\n",
    "`func(a=1, c=3, b=2)` will print `1 {'c': 3, 'b': 2}` because the return type of `kargs` is a dictionary object \n"
   ]
  },
  {
   "cell_type": "markdown",
   "id": "413071b0",
   "metadata": {},
   "source": [
    "### 5. What gets printed by this, and explain?\n",
    "```\n",
    "def func(a, b, c=8, d=5): \n",
    "    print(a, b, c, d)\n",
    "```\n",
    "`func(1, *(5, 6))` will print `1 5 6 5` to the console. `a` will take the value of `1`, `d` will default to `5` as it is not passed. \n",
    "`*(5, 6)` will be read as comma seperated values and assigned to `b`, `c` respectively\n"
   ]
  },
  {
   "cell_type": "markdown",
   "id": "c0952789",
   "metadata": {},
   "source": [
    "### 6. what is the result of this, and explain?\n",
    "```\n",
    "def func(a, b, c):\n",
    "    a = 2\n",
    "    b[0] = 'x'\n",
    "    c['a'] = 'y'\n",
    "```\n",
    "```\n",
    "l=1\n",
    "m=[1]\n",
    "n={'a':0}\n",
    "```\n",
    "`func(l, m, n)`\n",
    "`l, m, n`\n",
    "\n",
    "The values of `l`, `m`, `n` will be unchanged as the `func` updates the copies of these values but not the original values.\n",
    "So console output will be: `(1, [1], {'a': 0})`"
   ]
  }
 ],
 "metadata": {
  "kernelspec": {
   "display_name": "Python 3 (ipykernel)",
   "language": "python",
   "name": "python3"
  },
  "language_info": {
   "codemirror_mode": {
    "name": "ipython",
    "version": 3
   },
   "file_extension": ".py",
   "mimetype": "text/x-python",
   "name": "python",
   "nbconvert_exporter": "python",
   "pygments_lexer": "ipython3",
   "version": "3.9.7"
  }
 },
 "nbformat": 4,
 "nbformat_minor": 5
}
