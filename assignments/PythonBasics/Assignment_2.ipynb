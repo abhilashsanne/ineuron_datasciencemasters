{
 "cells": [
  {
   "cell_type": "markdown",
   "id": "487443ab",
   "metadata": {},
   "source": [
    "### 1.What are the two values of the Boolean data type? How do you write them?\n",
    "The two values of the Boolean data type are `True`, `False`"
   ]
  },
  {
   "cell_type": "markdown",
   "id": "01203041",
   "metadata": {},
   "source": [
    "### 2. What are the three different types of Boolean operators?\n",
    "Three different types of Boolean operators are:\n",
    "* Comparison Operator ( ==, > , < , !=, <=, >=)\n",
    "* Binary Boolean Operator (and, or)\n",
    "* Not Operator"
   ]
  },
  {
   "cell_type": "markdown",
   "id": "986832cc",
   "metadata": {},
   "source": [
    "### 3. Make a list of each Boolean operator's truth tables (i.e. every possible combination of Boolean values for the operator and what it evaluate ).\n",
    "\n",
    "* True or False -> `True`\n",
    "* True or True -> `True`\n",
    "* False or False -> `False`\n",
    "* False or True -> `True`\n",
    "\n",
    "\n",
    "* True and False -> `False`\n",
    "* True and True -> `True`\n",
    "* False and False -> `False`\n",
    "* False and True -> `False`\n",
    "\n",
    "* Not True -> `False`\n",
    "* Not False -> `True`"
   ]
  },
  {
   "cell_type": "markdown",
   "id": "7115a0f9",
   "metadata": {},
   "source": [
    "### 4. What are the values of the following expressions?\n",
    "* (5 > 4) and (3 == 5) => True and False => `False`\n",
    "* not (5 > 4) => Not True => `False`\n",
    "* (5 > 4) or (3 == 5) => True or False => `True`\n",
    "* not ((5 > 4) or (3 == 5)) => not (True or False) => `False`\n",
    "* (True and True) and (True == False) => `False`\n",
    "* (not False) or (not True) => `True`"
   ]
  },
  {
   "cell_type": "markdown",
   "id": "796f4582",
   "metadata": {},
   "source": [
    "### 5. What are the six comparison operators?\n",
    "Operator  Meaning\n",
    "* `==` Equal to\n",
    "* `<` Less than\n",
    "* `>` Greater than\n",
    "* `!=` Not Equal to\n",
    "* `<=` Less than or equal to\n",
    "* `>=` Greater than or equal to"
   ]
  },
  {
   "cell_type": "markdown",
   "id": "486bc0ed",
   "metadata": {},
   "source": [
    "### 6. How do you tell the difference between the equal to and assignment operators? Describe a condition and when you would use one.\n",
    "* Equal to operator looks like “==” (double equal to), while the assignment operator contains single “=” equal to operator.\n",
    "* Equal to operator is used when we are comparing two values, while the assignment operator is used when we want to assign a value/variable’s value to another variable "
   ]
  },
  {
   "cell_type": "markdown",
   "id": "6cbf91d6",
   "metadata": {},
   "source": [
    "### 7. Identify the three blocks in this code:\n",
    "```\n",
    "spam = 0\n",
    "if spam == 10:\n",
    "    print('eggs')\n",
    "if spam > 5:\n",
    "    print('bacon')\n",
    "else:\n",
    "    print('ham')\n",
    "# below two lines can be inside else block, or outside if else ladder\n",
    "print(‘spam’) \n",
    "print(‘spam’)\n",
    "```"
   ]
  },
  {
   "cell_type": "markdown",
   "id": "bd11a41c",
   "metadata": {},
   "source": [
    "### 8. Write code that prints Hello if 1 is stored in spam, prints Howdy if 2 is stored in spam, and prints Greetings! If anything else is stored in spam.\n",
    "```\n",
    "if spam == 1:\n",
    "    print(\"Hello\")\n",
    "elif spam == 2:\n",
    "    print(\"Howdy\")\n",
    "else:\n",
    "    print(\"Greetings!\")\n",
    "```"
   ]
  },
  {
   "cell_type": "markdown",
   "id": "10655833",
   "metadata": {},
   "source": [
    "### 9.If your programme is stuck in an endless loop, what keys you’ll press?\n",
    "`Ctrl + C`"
   ]
  },
  {
   "cell_type": "markdown",
   "id": "9b6fcaee",
   "metadata": {},
   "source": [
    "### 10. How can you tell the difference between break and continue?\n",
    "Break is used to terminate the enclosing loop, whereas continue helps skip the remining part of the loop"
   ]
  },
  {
   "cell_type": "markdown",
   "id": "ec2e5d88",
   "metadata": {},
   "source": [
    "### 11. In a for loop, what is the difference between range(10), range(0, 10), and range(0, 10, 1)?\n",
    "* All three as same as for range function the default value of the third argument is 1, so even though if it is not passed, it takes it as 1 by default. \n",
    "* Range by default starts at 0 if not passed, if single number is passed, it will assume that value to be end of the range and will enumerate from 0 till the given number.\n",
    "* So for a for loop all above three range functions will result into same output."
   ]
  },
  {
   "cell_type": "markdown",
   "id": "d7b9beb9",
   "metadata": {},
   "source": [
    "### 12. Write a short program that prints the numbers 1 to 10 using a for loop. Then write an equivalent program that prints the numbers 1 to 10 using a while loop.\n",
    "```\n",
    "for i in range(1, 11):\n",
    "    print(i, end = \" \")\n",
    "```\n",
    "```\n",
    "i = 1\n",
    "while i <= 10:\n",
    "    print(i, end = \" \")\n",
    "    i += 1\n",
    "```"
   ]
  },
  {
   "cell_type": "markdown",
   "id": "a2ca7d25",
   "metadata": {},
   "source": [
    "### 13. If you had a function named bacon() inside a module named spam, how would you call it after importing spam?\n",
    "`Spam.bacon()`"
   ]
  }
 ],
 "metadata": {
  "kernelspec": {
   "display_name": "Python 3 (ipykernel)",
   "language": "python",
   "name": "python3"
  },
  "language_info": {
   "codemirror_mode": {
    "name": "ipython",
    "version": 3
   },
   "file_extension": ".py",
   "mimetype": "text/x-python",
   "name": "python",
   "nbconvert_exporter": "python",
   "pygments_lexer": "ipython3",
   "version": "3.9.7"
  }
 },
 "nbformat": 4,
 "nbformat_minor": 5
}
