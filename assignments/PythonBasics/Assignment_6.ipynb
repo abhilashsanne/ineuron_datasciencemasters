{
 "cells": [
  {
   "cell_type": "markdown",
   "id": "27de03d1",
   "metadata": {},
   "source": [
    "### 1. What are escape characters, and how do you use them?\n",
    "* In Python strings, the backslash \"\\\" is a special character, also called the \"escape\" character. It is used in representing certain whitespace characters: \"\\t\" is a tab, \"\\n\" is a newline, and \"\\r\" is a carriage return\n",
    "\n",
    "* prefixing a special character with \"\\\" turns it into an ordinary character. This is called \"escaping\". For example, \"\\'\" is the single quote character. 'It\\'s Sunday' therefore is a valid string and equivalent to \"It's Sunday\". Likewise, '\"' can be escaped: \"\\\"hello\\\"\" is a string begins and ends with the literal double quote character. Finally, \"\\\" can be used to escape itself: \"\\\\\" is the literal backslash character.\n",
    "\n",
    "```\n",
    "print(\"it's a holiday\")\n",
    "#above sentence can be reperesented using escape charecter as\n",
    "print('it\\'s a holiday')\n",
    "```\n",
    "    "
   ]
  },
  {
   "cell_type": "markdown",
   "id": "60552ac8",
   "metadata": {},
   "source": [
    "### 2. What do the escape characters n and t stand for?\n",
    "`\"\\t\"` is for tab space, `\"\\n\"` is for a newline"
   ]
  },
  {
   "cell_type": "markdown",
   "id": "d7afbee3",
   "metadata": {},
   "source": [
    "### 3. What is the way to include backslash characters in a string?\n",
    "You need to append backslash with another backslash to include the backslash in your strings\n",
    "\n",
    "* Example: `print(\"it's a back slash \\\\ in a sentence\")`"
   ]
  },
  {
   "cell_type": "markdown",
   "id": "6a6bdbf8",
   "metadata": {},
   "source": [
    "### 4. The string \"Howl's Moving Castle\" is a correct value. Why isn't the single quote character in the word Howl's not escaped a problem?\n",
    "The single quote in Howl's is fine because here we are suing double quotes to mark the beginning and end of the string. \n",
    "like wise we can use double quotes inside a string with single quotes."
   ]
  },
  {
   "cell_type": "markdown",
   "id": "f1ac0739",
   "metadata": {},
   "source": [
    "### 5. How do you write a string of newlines if you don't want to use the n character?\n",
    "To write a string of newlines without using the new line character, we can use Pythons multi line strings which are placed inside triple quotes\n",
    "\n",
    "Example:\n",
    "   ```\n",
    "string_multiline = \"\"\"This is my\n",
    "multi line \n",
    "string by \n",
    "name string_multiline\"\"\"\n",
    "```"
   ]
  },
  {
   "cell_type": "markdown",
   "id": "aef9247a",
   "metadata": {},
   "source": [
    "### 6. What are the values of the given expressions?\n",
    "* 'Hello, world!'[1]   `'e'`\n",
    "* 'Hello, world!'[0:5] `'Hello'`\n",
    "* 'Hello, world!'[:5] `'Hello'`\n",
    "* 'Hello, world!'[3:] `'lo, world!'`\n"
   ]
  },
  {
   "cell_type": "markdown",
   "id": "85b5f999",
   "metadata": {},
   "source": [
    "### 7. What are the values of the following expressions?\n",
    "* 'Hello'.upper() -> `'HELLO'`\n",
    "* 'Hello'.upper().isupper() -> `False`\n",
    "* 'Hello'.upper().lower() -> `'hello'`\n"
   ]
  },
  {
   "cell_type": "markdown",
   "id": "ed43dc2b",
   "metadata": {},
   "source": [
    "### 8. What are the values of the following expressions?\n",
    "* 'Remember, remember, the fifth of July.'.split() -> `['Remember,', 'remember,', 'the', 'fifth', 'of', 'July.']`\n",
    "* '-'.join('There can only one.'.split()) -> `'There-can-only-one.'`"
   ]
  },
  {
   "cell_type": "markdown",
   "id": "52852ffb",
   "metadata": {},
   "source": [
    "### 9. What are the methods for right-justifying, left-justifying, and centering a string?\n",
    "The following methods are used for justifying strings\n",
    "* ljust()\n",
    "* rjust()\n",
    "* center()\n",
    "\n",
    "Example: \n",
    "```\n",
    "# left justified\n",
    "str1 =\"Hello\"\n",
    "str1.ljust(10,\"-\")\n",
    "\n",
    "# output: 'Hello-----'\n",
    "```\n",
    "```\n",
    "# right justified\n",
    "str1 =\"How are you\"\n",
    "str1.rjust(40,'*')\n",
    "# output: '*****************************How are you'\n",
    "```\n",
    "\n",
    "```\n",
    "# center justified\n",
    "str1 =\"How are you\"\n",
    "str1.center(40,'*')\n",
    "# output: '**************How are you***************'\n",
    "```"
   ]
  },
  {
   "cell_type": "markdown",
   "id": "29428947",
   "metadata": {},
   "source": [
    "### 10. What is the best way to remove whitespace characters from the start or end?\n",
    "\n",
    "* lstrip() -> removes white spaces from left of the string\n",
    "* rstrip() -> removes whitespaces from right of the string\n",
    "\n",
    "Example:\n",
    "```\n",
    "str1 =\"  hkjhjdfhjd jkhjhd  \"\n",
    "str1.lstrip()\n",
    "# output: 'hkjhjdfhjd jkhjhd  '\n",
    "```\n",
    "\n",
    "```\n",
    "str2 =\"  hkjhjdfhjd jkhjhd  \"\n",
    "str2.rstrip()\n",
    "# output: '  hkjhjdfhjd jkhjhd'\n",
    "```"
   ]
  }
 ],
 "metadata": {
  "kernelspec": {
   "display_name": "Python 3 (ipykernel)",
   "language": "python",
   "name": "python3"
  },
  "language_info": {
   "codemirror_mode": {
    "name": "ipython",
    "version": 3
   },
   "file_extension": ".py",
   "mimetype": "text/x-python",
   "name": "python",
   "nbconvert_exporter": "python",
   "pygments_lexer": "ipython3",
   "version": "3.9.7"
  }
 },
 "nbformat": 4,
 "nbformat_minor": 5
}
