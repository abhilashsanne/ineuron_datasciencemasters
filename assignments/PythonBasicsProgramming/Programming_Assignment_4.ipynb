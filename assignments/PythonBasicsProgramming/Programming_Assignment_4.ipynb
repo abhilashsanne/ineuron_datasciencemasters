{
 "cells": [
  {
   "cell_type": "code",
   "execution_count": 2,
   "id": "bc9fc23c",
   "metadata": {},
   "outputs": [
    {
     "name": "stdout",
     "output_type": "stream",
     "text": [
      "Enter a number: 5\n",
      "Factorial of 5 is 120\n"
     ]
    }
   ],
   "source": [
    "### 1.Write a Python Program to Find the Factorial of a Number?\n",
    "num = int(input(\"Enter a number: \"))\n",
    "fact = 1\n",
    "for i in range(1, num+1):\n",
    "    fact *= i\n",
    "print(f\"Factorial of {num} is {fact}\")"
   ]
  },
  {
   "cell_type": "code",
   "execution_count": 5,
   "id": "3c94d48c",
   "metadata": {},
   "outputs": [
    {
     "name": "stdout",
     "output_type": "stream",
     "text": [
      "Enter a number: 10\n",
      "Multiplication table of 10 is:\n",
      "1 x 10 = 10\n",
      "2 x 10 = 20\n",
      "3 x 10 = 30\n",
      "4 x 10 = 40\n",
      "5 x 10 = 50\n",
      "6 x 10 = 60\n",
      "7 x 10 = 70\n",
      "8 x 10 = 80\n",
      "9 x 10 = 90\n",
      "10 x 10 = 100\n"
     ]
    }
   ],
   "source": [
    "### 2.Write a Python Program to Display the multiplication Table?\n",
    "num = int(input(\"Enter a number: \"))\n",
    "print(f\"Multiplication table of {num} is:\")\n",
    "for i in range(1, 11):\n",
    "    print(f\"{i} x {num} = {i*num}\")"
   ]
  },
  {
   "cell_type": "code",
   "execution_count": 10,
   "id": "bf279232",
   "metadata": {},
   "outputs": [
    {
     "name": "stdout",
     "output_type": "stream",
     "text": [
      "Enter a number of fibonacci sequence elements to display: 10\n",
      "0, 1, 1, 2, 3, 5, 8, 13, 21, 34, "
     ]
    }
   ],
   "source": [
    "### 3.Write a Python Program to Print the Fibonacci sequence?\n",
    "num = int(input(\"Enter a number of fibonacci sequence elements to display: \"))\n",
    "a, b = 0, 1\n",
    "for i in range(0, num):\n",
    "    print(a, end= \", \")\n",
    "    a, b = a + b, a"
   ]
  },
  {
   "cell_type": "code",
   "execution_count": 17,
   "id": "1d46875b",
   "metadata": {},
   "outputs": [
    {
     "name": "stdout",
     "output_type": "stream",
     "text": [
      "Enter an number to check if it's armstrong: 153\n",
      "153 is an Armstrong number\n"
     ]
    }
   ],
   "source": [
    "### 4.Write a Python Program to Check Armstrong Number?\n",
    "num = int(input(\"Enter an number to check if it's armstrong: \"))\n",
    "s = 0\n",
    "for i in str(num):\n",
    "    s += int(i) ** 3\n",
    "if s == num:\n",
    "    print(f\"{num} is an Armstrong number\")\n",
    "else:\n",
    "    print(f\"{num} is not an Armstrong number\")"
   ]
  },
  {
   "cell_type": "code",
   "execution_count": 20,
   "id": "768352d6",
   "metadata": {},
   "outputs": [
    {
     "name": "stdout",
     "output_type": "stream",
     "text": [
      "Enter an number: 1000\n",
      "Armstrong numbers till 1000 are: [1, 153, 370, 371, 407]\n"
     ]
    }
   ],
   "source": [
    "### 5.Write a Python Program to Find Armstrong Number in an Interval?\n",
    "num = int(input(\"Enter an number: \"))\n",
    "lst_arm = []\n",
    "for i in range(1, num + 1):\n",
    "    s = 0\n",
    "    for j in str(i):\n",
    "        s += int(j) ** 3\n",
    "    if s == i:\n",
    "        lst_arm.append(i)\n",
    "print(f\"Armstrong numbers till {num} are: {lst_arm}\")"
   ]
  },
  {
   "cell_type": "code",
   "execution_count": 22,
   "id": "1e850ce3",
   "metadata": {},
   "outputs": [
    {
     "name": "stdout",
     "output_type": "stream",
     "text": [
      "Enter an number: 1000\n",
      "Sum of natural numbers till 1000 is: 500500.0\n"
     ]
    }
   ],
   "source": [
    "### 6.Write a Python Program to Find the Sum of Natural Numbers?\n",
    "num = int(input(\"Enter an number: \"))\n",
    "print(f\"Sum of natural numbers till {num} is: {num*(num+1)*0.5}\")"
   ]
  }
 ],
 "metadata": {
  "kernelspec": {
   "display_name": "Python 3 (ipykernel)",
   "language": "python",
   "name": "python3"
  },
  "language_info": {
   "codemirror_mode": {
    "name": "ipython",
    "version": 3
   },
   "file_extension": ".py",
   "mimetype": "text/x-python",
   "name": "python",
   "nbconvert_exporter": "python",
   "pygments_lexer": "ipython3",
   "version": "3.9.7"
  }
 },
 "nbformat": 4,
 "nbformat_minor": 5
}
