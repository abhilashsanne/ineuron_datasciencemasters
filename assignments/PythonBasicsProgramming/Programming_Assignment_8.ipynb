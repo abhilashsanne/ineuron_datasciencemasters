{
 "cells": [
  {
   "cell_type": "code",
   "execution_count": 7,
   "id": "7efa0a0f",
   "metadata": {},
   "outputs": [
    {
     "name": "stdout",
     "output_type": "stream",
     "text": [
      "Enter N for N x N matrix: 2\n",
      "Enter the element :\n",
      "1\n",
      "2\n",
      "3\n",
      "4\n",
      "You have entered first matrix as:\n",
      "1 2 \n",
      "3 4 \n",
      "Enter the element :\n",
      "1\n",
      "2\n",
      "3\n",
      "4\n",
      "You have entered second matrix as:\n",
      "1 2 \n",
      "3 4 \n",
      "Result Matrix\n",
      "2 4 \n",
      "6 8 \n"
     ]
    }
   ],
   "source": [
    "### 1. Write a Python Program to Add Two Matrices?\n",
    "def initialize_matrix(n,v=0):\n",
    "    matrix=[]             \n",
    "    for i in range(n):\n",
    "        row =[]\n",
    "        for j in range(n):\n",
    "            row.append(v)\n",
    "        matrix.append(row)\n",
    "    return(matrix)\n",
    "\n",
    "def create_matrix(n):\n",
    "    \n",
    "    matrix=[]             \n",
    "    print(\"Enter the element :\")\n",
    "    for i in range(n):\n",
    "        #stor row\n",
    "        row =[]\n",
    "        for j in range(n):\n",
    "            row.append(int(input()))\n",
    "        matrix.append(row)\n",
    "    return(matrix)\n",
    "\n",
    "def print_matrix(matrix,n):\n",
    "    for i in range(n):\n",
    "        for j in range(n):\n",
    "            print(matrix[i][j], end=\" \")\n",
    "        print() \n",
    "\n",
    "def mul_matrix(a,b,result):        \n",
    "    for i in range(len(a)):\n",
    "        for j in range(len(b[0])):\n",
    "            for k in range(len(b)):\n",
    "                result[i][j] = result[i][j] + a[i][k] * b[k][j]\n",
    "    return result\n",
    "    \n",
    "        \n",
    "n=int(input(\"Enter N for N x N matrix: \"))       \n",
    "m1 = create_matrix(n)\n",
    "\n",
    "print(\"You have entered first matrix as:\")\n",
    "print_matrix(m1,n)\n",
    "\n",
    "\n",
    "m2 = create_matrix(n)\n",
    "\n",
    "print(\"You have entered second matrix as:\")\n",
    "print_matrix(m2,n)\n",
    "\n",
    "\n",
    "result_mat = initialize_matrix(n)\n",
    "\n",
    "for i in range(len(m1)):\n",
    "    for j in range(len(m1[0])):\n",
    "        result_mat[i][j] = m1[i][j] + m2[i][j]\n",
    "        \n",
    "print(\"Result Matrix\")\n",
    "for r in result_mat:\n",
    "    for j in r:\n",
    "        print(j, end = \" \")\n",
    "    print()\n"
   ]
  },
  {
   "cell_type": "code",
   "execution_count": null,
   "id": "c622d19a",
   "metadata": {},
   "outputs": [],
   "source": [
    "### 2. Write a Python Program to Multiply Two Matrices?\n",
    "\n",
    "import numpy as np\n",
    "\n",
    "mat1 = np.array([[1,2,4], [4,5,6], [7,8,9]])\n",
    "mat2 = np.array([[2,3,4], [5,6,7], [8,9,1]])\n",
    "\n",
    "sumMat = np.dot(mat1,mat2)\n",
    "print(\"The product of two matrix \\n\\n{}  and \\n\\n{}  is \\n\\n{} \".format(mat1,mat2,sumMat))"
   ]
  },
  {
   "cell_type": "code",
   "execution_count": 10,
   "id": "b4a07a00",
   "metadata": {},
   "outputs": [
    {
     "name": "stdout",
     "output_type": "stream",
     "text": [
      "Enter N for N x N matrix: 2\n",
      "Enter the element :\n",
      "1\n",
      "2\n",
      "3\n",
      "4\n",
      "Matrix you have entered is:\n",
      "1 2 \n",
      "3 4 \n",
      "Transposed Matrix is\n",
      "1 3 \n",
      "2 4 \n"
     ]
    }
   ],
   "source": [
    "### 3. Write a Python Program to Transpose a Matrix?\n",
    "\n",
    "def initialize_matrix(n,v=0):\n",
    "    m=[]             \n",
    "    for i in range(n):\n",
    "        row =[]\n",
    "        for j in range(n):\n",
    "            row.append(v)\n",
    "        m.append(row)\n",
    "    return(m)\n",
    "\n",
    "def create_matrix(n):\n",
    "    m=[]             \n",
    "    print(\"Enter the element :\")\n",
    "    for i in range(n):\n",
    "        row =[]\n",
    "        for j in range(n):\n",
    "            row.append(int(input()))\n",
    "        m.append(row)\n",
    "    return(m)\n",
    "\n",
    "def print_matrix(m,n):\n",
    "    for i in range(n):\n",
    "        for j in range(n):\n",
    "            print(m[i][j], end=\" \")\n",
    "        print() \n",
    "        \n",
    "def transpose_matrix(m,n,result):\n",
    "    for i in range(n):\n",
    "        for j in range(n):\n",
    "            result[i][j]= m[j][i]\n",
    "    return result\n",
    "\n",
    "n=int(input(\"Enter N for N x N matrix: \"))       \n",
    "m1 = create_matrix(n)\n",
    "print(\"Matrix you have entered is:\")\n",
    "print_matrix(m1,n)\n",
    "\n",
    "result = initialize_matrix(n)\n",
    "result = transpose_matrix(m1,n,result)\n",
    "print(\"Transposed Matrix is\")\n",
    "for r in result:\n",
    "    for j in r:\n",
    "        print(j, end = \" \")\n",
    "    print()"
   ]
  },
  {
   "cell_type": "code",
   "execution_count": 12,
   "id": "a1763539",
   "metadata": {},
   "outputs": [
    {
     "name": "stdout",
     "output_type": "stream",
     "text": [
      "Enter some stringEnter some string Write a Python Program to Sort Words in Alphabetic Order\n",
      "Alphabetic Enter Order Program Python Sort Words Write a in some string to "
     ]
    }
   ],
   "source": [
    "### 4. Write a Python Program to Sort Words in Alphabetic Order?\n",
    "\n",
    "# alphabetic order A-Z followed by a-z\n",
    "\n",
    "words = input(\"Enter some string\").split()\n",
    "words.sort()\n",
    "for word in words:\n",
    "    print(word, end = \" \")"
   ]
  },
  {
   "cell_type": "code",
   "execution_count": 14,
   "id": "7acff7c4",
   "metadata": {},
   "outputs": [
    {
     "name": "stdout",
     "output_type": "stream",
     "text": [
      "Enter some string with Punctuations: #a$b%h^i&l**a()s@!h..,,//\"\";:{}\n",
      "Given input string after removing Punctuation is: abhilash\n"
     ]
    }
   ],
   "source": [
    "### 5. Write a Python Program to Remove Punctuation From a String?\n",
    "punctuations = \"'!()-[]{};:'\\\",<>./?@#$%^&*_~'\"\n",
    "\n",
    "cleaned_string = \"\"\n",
    "for char in input(\"Enter some string with Punctuations: \"):\n",
    "    if char not in punctuations:\n",
    "        cleaned_string += char\n",
    "\n",
    "print(f\"Given input string after removing Punctuation is: {cleaned_string}\")"
   ]
  }
 ],
 "metadata": {
  "kernelspec": {
   "display_name": "Python 3 (ipykernel)",
   "language": "python",
   "name": "python3"
  },
  "language_info": {
   "codemirror_mode": {
    "name": "ipython",
    "version": 3
   },
   "file_extension": ".py",
   "mimetype": "text/x-python",
   "name": "python",
   "nbconvert_exporter": "python",
   "pygments_lexer": "ipython3",
   "version": "3.9.7"
  }
 },
 "nbformat": 4,
 "nbformat_minor": 5
}
