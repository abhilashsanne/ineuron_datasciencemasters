{
 "cells": [
  {
   "cell_type": "markdown",
   "id": "3b7200b2",
   "metadata": {},
   "source": [
    "### Question 1:\n",
    "\n",
    "##### Write a program that calculates and prints the value according to the given formula:\n",
    "\n",
    "Q = Square root of [(2 * C * D)/H]\n",
    "\n",
    "Following are the fixed values of C and H:\n",
    "\n",
    "C is 50. H is 30.\n",
    "\n",
    "D is the variable whose values should be input to your program in a comma-separated sequence.\n",
    "\n",
    "Example\n",
    "\n",
    "Let us assume the following comma separated input sequence is given to the program:\n",
    "\n",
    "100,150,180\n",
    "\n",
    "The output of the program should be:\n",
    "\n",
    "18,22,24"
   ]
  },
  {
   "cell_type": "code",
   "execution_count": 8,
   "id": "4ce423b1",
   "metadata": {},
   "outputs": [
    {
     "name": "stdout",
     "output_type": "stream",
     "text": [
      "Enter comma separated numbers input: 100,150,180,250\n",
      "[18, 22, 24, 28]\n"
     ]
    }
   ],
   "source": [
    "import math\n",
    "\n",
    "def calculate_formula(args):\n",
    "    c = 50\n",
    "    h = 30\n",
    "    result = []\n",
    "    for d in args:\n",
    "        result.append(int(math.sqrt((2*c*int(d))/h)))\n",
    "    print(result)\n",
    "    \n",
    "\n",
    "inp = list(input(\"Enter comma separated numbers input: \").split(','))\n",
    "calculate_formula(inp)"
   ]
  },
  {
   "cell_type": "markdown",
   "id": "a7b3dedf",
   "metadata": {},
   "source": [
    "### Question 2:\n",
    "##### Write a program which takes 2 digits, X,Y as input and generates a 2-dimensional array. The element value in the i-th row and j-th column of the array should be i*j.\n",
    "\n",
    "Note: i=0,1.., X-1; j=0,1,¡¬Y-1.\n",
    "\n",
    "Example\n",
    "\n",
    "Suppose the following inputs are given to the program:\n",
    "\n",
    "3,5\n",
    "\n",
    "Then, the output of the program should be:\n",
    "\n",
    "[[0, 0, 0, 0, 0], [0, 1, 2, 3, 4], [0, 2, 4, 6, 8]] \n"
   ]
  },
  {
   "cell_type": "code",
   "execution_count": 9,
   "id": "5782fec6",
   "metadata": {},
   "outputs": [
    {
     "name": "stdout",
     "output_type": "stream",
     "text": [
      "Enter X value: 3\n",
      "Enter Y value: 5\n",
      "[[0, 0, 0, 0, 0], [0, 1, 2, 3, 4], [0, 2, 4, 6, 8]]\n"
     ]
    }
   ],
   "source": [
    "x = int(input(\"Enter X value: \"))\n",
    "y = int(input(\"Enter Y value: \"))\n",
    "matrix = []\n",
    "for i in range(x):\n",
    "    row = []\n",
    "    for j in range(y):\n",
    "        row.append(i*j)\n",
    "    matrix.append(row)\n",
    "print(matrix)\n"
   ]
  },
  {
   "cell_type": "markdown",
   "id": "f5b73b3f",
   "metadata": {},
   "source": [
    "### Question 3\n",
    "##### Write a program that accepts a comma separated sequence of words as input and prints the words in a comma-separated sequence after sorting them alphabetically.\n",
    "\n",
    "Suppose the following input is supplied to the program:\n",
    "\n",
    "without,hello,bag,world\n",
    "\n",
    "Then, the output should be:\n",
    "\n",
    "bag,hello,without,world"
   ]
  },
  {
   "cell_type": "code",
   "execution_count": 18,
   "id": "bf8819c3",
   "metadata": {},
   "outputs": [
    {
     "name": "stdout",
     "output_type": "stream",
     "text": [
      "Enter comma seperated words: without,hello,bag,world\n",
      "bag,hello,without,world\n"
     ]
    }
   ],
   "source": [
    "words = list(input(\"Enter comma seperated words: \").split(','))\n",
    "words.sort() \n",
    "print(','.join(words))"
   ]
  },
  {
   "cell_type": "markdown",
   "id": "931e1671",
   "metadata": {},
   "source": [
    "### Question 4:\n",
    "##### Write a program that accepts a sequence of whitespace separated words as input and prints the words after removing all duplicate words and sorting them alphanumerically.\n",
    "\n",
    "Suppose the following input is supplied to the program:\n",
    "\n",
    "hello world and practice makes perfect and hello world again\n",
    "\n",
    "Then, the output should be:\n",
    "\n",
    "again and hello makes perfect practice world"
   ]
  },
  {
   "cell_type": "code",
   "execution_count": 20,
   "id": "5dc02402",
   "metadata": {},
   "outputs": [
    {
     "name": "stdout",
     "output_type": "stream",
     "text": [
      "Enter comma seperated words: hello world and practice makes perfect and hello world again\n",
      "again and hello makes perfect practice world\n"
     ]
    }
   ],
   "source": [
    "words = list(set(input(\"Enter comma seperated words: \").split(' ')))\n",
    "words.sort() \n",
    "print(' '.join(words))"
   ]
  },
  {
   "cell_type": "code",
   "execution_count": null,
   "id": "a5966e2c",
   "metadata": {},
   "outputs": [],
   "source": [
    "### Question 5:\n",
    "##### Write a program that accepts a sentence and calculate the number of letters and digits.\n",
    "\n",
    "Suppose the following input is supplied to the program:\n",
    "\n",
    "hello world! 123\n",
    "\n",
    "Then, the output should be:\n",
    "\n",
    "LETTERS 10\n",
    "\n",
    "DIGITS 3"
   ]
  },
  {
   "cell_type": "code",
   "execution_count": 28,
   "id": "45c142a5",
   "metadata": {},
   "outputs": [
    {
     "name": "stdout",
     "output_type": "stream",
     "text": [
      "Enter a sentence: hello world! 123\n",
      "LETTERS 10\n",
      "DIGITS 3\n"
     ]
    }
   ],
   "source": [
    "words = input(\"Enter a sentence: \")\n",
    "letters = 0\n",
    "digits = 0\n",
    "for c in words:\n",
    "    if (ord(c) >= ord('a') and ord(c) <= ord('z')) or (ord(c) >= ord('A') and ord(c) <= ord('Z')):\n",
    "        letters += 1\n",
    "    elif ord(c) >= ord('0') and ord(c) <= ord('9'):\n",
    "        digits += 1\n",
    "print(f\"LETTERS {letters}\")\n",
    "print(f\"DIGITS {digits}\")"
   ]
  },
  {
   "cell_type": "code",
   "execution_count": null,
   "id": "5673a4b8",
   "metadata": {},
   "outputs": [],
   "source": [
    "### Question 6:\n",
    "##### A website requires the users to input username and password to register. Write a program to check the validity of password input by users.\n",
    "\n",
    "Following are the criteria for checking the password:\n",
    "\n",
    "1. At least 1 letter between [a-z]\n",
    "\n",
    "2. At least 1 number between [0-9]\n",
    "\n",
    "1. At least 1 letter between [A-Z]\n",
    "\n",
    "3. At least 1 character from [$#@]\n",
    "\n",
    "4. Minimum length of transaction password: 6\n",
    "\n",
    "5. Maximum length of transaction password: 12\n",
    "\n",
    "Your program should accept a sequence of comma separated passwords and will check them according to the above criteria. Passwords that match the criteria are to be printed, each separated by a comma.\n",
    "\n",
    "Example\n",
    "\n",
    "If the following passwords are given as input to the program:\n",
    "\n",
    "ABd1234@1,a F1#,2w3E*,2We3345\n",
    "\n",
    "Then, the output of the program should be:\n",
    "\n",
    "ABd1234@1\n"
   ]
  },
  {
   "cell_type": "code",
   "execution_count": 30,
   "id": "4fb83cf8",
   "metadata": {},
   "outputs": [
    {
     "name": "stdout",
     "output_type": "stream",
     "text": [
      "Enter comma seperated passwords: ABd1234@1,a F1#,2w3E*,2We3345,aBh!1@5h\n",
      "ABd1234@1,aBh!1@5h\n"
     ]
    }
   ],
   "source": [
    "def check_smallcase(password):\n",
    "    check = False\n",
    "    for p in password:\n",
    "        if ord(p) >= ord('a') and ord(p) <= ord('z'):\n",
    "            check = True\n",
    "            break\n",
    "    return check\n",
    "\n",
    "def check_uppercase(password):\n",
    "    check = False\n",
    "    for p in password:\n",
    "        if ord(p) >= ord('A') and ord(p) <= ord('Z'):\n",
    "            check = True\n",
    "            break\n",
    "    return check\n",
    "\n",
    "def check_digit(password):\n",
    "    check = False\n",
    "    for p in password:\n",
    "        if ord(p) >= ord('1') and ord(p) <= ord('9'):\n",
    "            check = True\n",
    "            break\n",
    "    return check\n",
    "\n",
    "def check_specialchars(password):\n",
    "    check = False\n",
    "    specials = \"!@#$%^&*()_+=->;,:/?`\"\n",
    "    for p in password:\n",
    "        if p in specials:\n",
    "            check = True\n",
    "            break\n",
    "    return check\n",
    "\n",
    "def check_minlength(password):\n",
    "    return len(password) >= 6\n",
    "\n",
    "def check_maxlength(password):\n",
    "    return len(password) <= 12\n",
    "\n",
    "passwords = list(set(input(\"Enter comma seperated passwords: \").split(',')))\n",
    "valid_passwords = []\n",
    "for password in passwords:\n",
    "    if check_smallcase(password) and check_uppercase(password) and check_digit(password) and check_specialchars(password) and check_minlength(password) and check_maxlength(password):\n",
    "        valid_passwords.append(password)\n",
    "print(','.join(valid_passwords))"
   ]
  }
 ],
 "metadata": {
  "kernelspec": {
   "display_name": "Python 3 (ipykernel)",
   "language": "python",
   "name": "python3"
  },
  "language_info": {
   "codemirror_mode": {
    "name": "ipython",
    "version": 3
   },
   "file_extension": ".py",
   "mimetype": "text/x-python",
   "name": "python",
   "nbconvert_exporter": "python",
   "pygments_lexer": "ipython3",
   "version": "3.9.7"
  }
 },
 "nbformat": 4,
 "nbformat_minor": 5
}
