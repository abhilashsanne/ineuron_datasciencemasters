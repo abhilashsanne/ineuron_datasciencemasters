{
 "cells": [
  {
   "cell_type": "code",
   "execution_count": 6,
   "id": "22b5c396",
   "metadata": {},
   "outputs": [
    {
     "name": "stdout",
     "output_type": "stream",
     "text": [
      "0 1 1 2 3 5 8 13 21 34 55 "
     ]
    }
   ],
   "source": [
    "### 1. Write a Python Program to Display Fibonacci Sequence Using Recursion?\n",
    "\n",
    "def fibonacci(a, b, n):\n",
    "    \"\"\"\n",
    "    Prints n fibonacci numbers starting from a, second element b\n",
    "    :param a: first element of your sequence\n",
    "    :param b: second element of your sequence\n",
    "    :return: None\n",
    "    \"\"\"\n",
    "    print(a, end = \" \")\n",
    "    a, b = b, a+b\n",
    "    if n > 0:\n",
    "        n -=1\n",
    "        fibonacci(a, b, n)\n",
    "\n",
    "        \n",
    "fibonacci(0, 1, 10)"
   ]
  },
  {
   "cell_type": "code",
   "execution_count": 10,
   "id": "92722f76",
   "metadata": {},
   "outputs": [
    {
     "data": {
      "text/plain": [
       "720"
      ]
     },
     "execution_count": 10,
     "metadata": {},
     "output_type": "execute_result"
    }
   ],
   "source": [
    "### 2. Write a Python Program to find Factorial of Number Using Recursion?\n",
    "\n",
    "def factorial(n):\n",
    "    \"\"\"\n",
    "    Returns the factorial of given number\n",
    "    :param n: number to find the factorial of\n",
    "    :return: None\n",
    "    \"\"\"\n",
    "    if n > 0:\n",
    "        return n * factorial(n-1)\n",
    "    return 1\n",
    "        \n",
    "factorial(6)"
   ]
  },
  {
   "cell_type": "code",
   "execution_count": 16,
   "id": "42be8380",
   "metadata": {},
   "outputs": [
    {
     "name": "stdout",
     "output_type": "stream",
     "text": [
      "Enter your height in meters: 1.8\n",
      "Enter your Weight in Kg: 84\n",
      "Your Body Mass Index (BMI) score is:  25.93\n",
      "You are overweight\n"
     ]
    }
   ],
   "source": [
    "### 3. Write a Python Program to calculate your Body Mass Index?\n",
    "\n",
    "def bmi_calculate(height, weight):\n",
    "    \"\"\"\n",
    "    Calculates and shows your BMI score depending on your weight and height\n",
    "    :param height: height in meters\n",
    "    :param weight: weight in Kgs\n",
    "    \"\"\"\n",
    "    bmi = float(weight)/float(height*height)\n",
    "    if(bmi>0):\n",
    "        print(f\"Your Body Mass Index (BMI) score is:  {round(bmi, 2)}\")\n",
    "        if(bmi<=16):\n",
    "            print(\"You are very underweight\")\n",
    "        elif(bmi<=18.5):\n",
    "            print(\"You are underweight\")\n",
    "        elif(bmi<=25):\n",
    "            print(\"Congrats! You are Healthy\")\n",
    "        elif(bmi<=30):\n",
    "            print(\"You are overweight\")\n",
    "        else: \n",
    "            print(\"You are very overweight\")\n",
    "    else:\n",
    "        print(\"Could not calculate your BMI Score, enter valid details!\")\n",
    "\n",
    "\n",
    "h=float(input(\"Enter your height in meters: \"))\n",
    "w=float(input(\"Enter your Weight in Kg: \"))\n",
    "bmi_calculate(h, w)"
   ]
  },
  {
   "cell_type": "code",
   "execution_count": 18,
   "id": "68c94888",
   "metadata": {},
   "outputs": [
    {
     "name": "stdout",
     "output_type": "stream",
     "text": [
      "Enter a number to calculat its natural logarithm (base e): 2.7182818\n",
      "natural logarithm of 2.7182818 is: 1.0\n"
     ]
    }
   ],
   "source": [
    "### 4. Write a Python Program to calculate the natural logarithm of any number?\n",
    "import math\n",
    "\n",
    "num = float(input(\"Enter a number to calculat its natural logarithm (base e): \"))\n",
    "\n",
    "print(f\"natural logarithm of {num} is: {round(math.log(num), 4)}\")\n"
   ]
  },
  {
   "cell_type": "code",
   "execution_count": 19,
   "id": "570ad770",
   "metadata": {},
   "outputs": [
    {
     "name": "stdout",
     "output_type": "stream",
     "text": [
      "Enter a number to find sum of cubes of natural numbers till: 12\n",
      "cube sum of first 12 natural numbers is : 6084.0\n"
     ]
    }
   ],
   "source": [
    "### 5. Write a Python Program for cube sum of first n natural numbers?\n",
    "\n",
    "# formula: (n(n+1)*0.5)^2\n",
    "\n",
    "inp = int(input(\"Enter a number to find sum of cubes of natural numbers till: \"))\n",
    "\n",
    "print(f\"cube sum of first {inp} natural numbers is : {(inp*(inp+1)*0.5)**2}\")"
   ]
  }
 ],
 "metadata": {
  "kernelspec": {
   "display_name": "Python 3 (ipykernel)",
   "language": "python",
   "name": "python3"
  },
  "language_info": {
   "codemirror_mode": {
    "name": "ipython",
    "version": 3
   },
   "file_extension": ".py",
   "mimetype": "text/x-python",
   "name": "python",
   "nbconvert_exporter": "python",
   "pygments_lexer": "ipython3",
   "version": "3.9.7"
  }
 },
 "nbformat": 4,
 "nbformat_minor": 5
}
