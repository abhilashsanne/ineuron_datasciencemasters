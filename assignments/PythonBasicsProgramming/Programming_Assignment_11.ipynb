{
 "cells": [
  {
   "cell_type": "code",
   "execution_count": 2,
   "id": "339b2823",
   "metadata": {},
   "outputs": [
    {
     "name": "stdout",
     "output_type": "stream",
     "text": [
      "Enter a sentence: Write a Python program to find words which are greater than given length k?\n",
      "Enter a length: 3\n",
      "There are 10 words of length greater than 3\n"
     ]
    }
   ],
   "source": [
    "### 1. Write a Python program to find words which are greater than given length k?\n",
    "string = input(\"Enter a sentence: \")\n",
    "k = int(input(\"Enter a length: \"))\n",
    "count = 0\n",
    "for i in string.split(' '):\n",
    "    if len(i) > k:\n",
    "        count += 1\n",
    "print(f\"There are {count} words of length greater than {k}\")"
   ]
  },
  {
   "cell_type": "code",
   "execution_count": 9,
   "id": "2d1de8ef",
   "metadata": {},
   "outputs": [
    {
     "name": "stdout",
     "output_type": "stream",
     "text": [
      "Enter a word: abhilash\n",
      "Enter an index (0 based) to remove character from: 2\n",
      "New string is: abilash\n"
     ]
    }
   ],
   "source": [
    "### 2. Write a Python program for removing i-th character from a string?\n",
    "string = input(\"Enter a word: \")\n",
    "k = int(input(\"Enter an index (0 based) to remove character from: \"))\n",
    "string = string[:k] + string[k+1:]\n",
    "print(f\"New string is: {string}\")"
   ]
  },
  {
   "cell_type": "code",
   "execution_count": 10,
   "id": "624568c4",
   "metadata": {},
   "outputs": [
    {
     "name": "stdout",
     "output_type": "stream",
     "text": [
      "Enter a sentence: Write a Python program to split and join a string\n",
      "Splitted string is: ['Write', 'a', 'Python', 'program', 'to', 'split', 'and', 'join', 'a', 'string']\n",
      "Joined string is:  Write a Python program to split and join a string\n"
     ]
    }
   ],
   "source": [
    "### 3. Write a Python program to split and join a string?\n",
    "string = input(\"Enter a sentence: \")\n",
    "splitted = string.split(' ')\n",
    "print(f\"Splitted string is: {splitted}\")\n",
    "\n",
    "joined = ''\n",
    "for word in splitted:\n",
    "    joined = joined + \" \" + word\n",
    "print(f\"Joined string is: {joined}\")\n"
   ]
  },
  {
   "cell_type": "code",
   "execution_count": 14,
   "id": "9f7a9122",
   "metadata": {},
   "outputs": [
    {
     "name": "stdout",
     "output_type": "stream",
     "text": [
      "Enter a binary string: 0101001010101100101010\n",
      "0101001010101100101010 is a binary string\n"
     ]
    }
   ],
   "source": [
    "### 4. Write a Python to check if a given string is binary string or not?\n",
    "# Assming here binary string should contain only 0's and 1's\n",
    "\n",
    "string = input(\"Enter a binary string: \")\n",
    "temp = [i for i in string if i not in ['0', '1']]\n",
    "if len(temp) == 0:\n",
    "    print(f\"{string} is a binary string\")\n",
    "else:\n",
    "    print(f\"You have entered a non binary string\")"
   ]
  },
  {
   "cell_type": "code",
   "execution_count": 16,
   "id": "6093b687",
   "metadata": {},
   "outputs": [
    {
     "name": "stdout",
     "output_type": "stream",
     "text": [
      "Enter a string1: Write a Python program to split and join a string\n",
      "Enter a string2: Write a Python program to find uncommon words from two Strings\n",
      "Uncommon words from both strings are: ['split', 'and', 'join', 'string', 'find', 'uncommon', 'words', 'from', 'two', 'Strings']\n"
     ]
    }
   ],
   "source": [
    "### 5. Write a Python program to find uncommon words from two Strings?\n",
    "string1 = input(\"Enter a string1: \").split(' ')\n",
    "string2 = input(\"Enter a string2: \").split(' ')\n",
    "uncommon = [word for word in string1 if word not in string2]\n",
    "uncommon.extend([word for word in string2 if word not in string1])\n",
    "print(f\"Uncommon words from both strings are: {uncommon}\")"
   ]
  },
  {
   "cell_type": "code",
   "execution_count": 20,
   "id": "189c4f9d",
   "metadata": {},
   "outputs": [
    {
     "name": "stdout",
     "output_type": "stream",
     "text": [
      "Enter a string: find all duplicate characters in string\n",
      "Duplicate characters in given string are: {' ', 'a', 'c', 'n', 'l', 't', 'd', 'r', 's', 'i', 'e'}\n"
     ]
    }
   ],
   "source": [
    "### 6. Write a Python to find all duplicate characters in string?\n",
    "string = input(\"Enter a string: \")\n",
    "duplicates = set([c for c in string if string.count(c) > 1])\n",
    "print(f\"Duplicate characters in given string are: {duplicates}\")"
   ]
  },
  {
   "cell_type": "code",
   "execution_count": 22,
   "id": "f8e67bab",
   "metadata": {},
   "outputs": [
    {
     "name": "stdout",
     "output_type": "stream",
     "text": [
      "Enter a string: aljfidsflsd*\n",
      "Given string contains special characters\n"
     ]
    }
   ],
   "source": [
    "### 7. Write a Python Program to check if a string contains any special character?\n",
    "import re\n",
    "\n",
    "\n",
    "string = input(\"Enter a string: \")\n",
    "regex = re.compile('[@_!#$%^&*()<>?/\\|}{~:]')  \n",
    "\n",
    "if(regex.search(string) == None):\n",
    "    print(\"Given string does not contain special characters\")\n",
    "else:\n",
    "    print(\"Given string contains special characters\")"
   ]
  }
 ],
 "metadata": {
  "kernelspec": {
   "display_name": "Python 3 (ipykernel)",
   "language": "python",
   "name": "python3"
  },
  "language_info": {
   "codemirror_mode": {
    "name": "ipython",
    "version": 3
   },
   "file_extension": ".py",
   "mimetype": "text/x-python",
   "name": "python",
   "nbconvert_exporter": "python",
   "pygments_lexer": "ipython3",
   "version": "3.9.7"
  }
 },
 "nbformat": 4,
 "nbformat_minor": 5
}
