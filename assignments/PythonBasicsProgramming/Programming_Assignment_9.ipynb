{
 "cells": [
  {
   "cell_type": "markdown",
   "id": "594d2485",
   "metadata": {},
   "source": [
    "### 1. Write a Python program to check if the given number is a Disarium Number?"
   ]
  },
  {
   "cell_type": "code",
   "execution_count": 6,
   "id": "da2973e0",
   "metadata": {},
   "outputs": [
    {
     "name": "stdout",
     "output_type": "stream",
     "text": [
      "Enter a number to check if it is Disarium Number: 135\n",
      "Given number 135 is a disarium number\n"
     ]
    }
   ],
   "source": [
    "number = input(\"Enter a number to check if it is Disarium Number: \")\n",
    "disarium = 0\n",
    "for i in range(len(number)):\n",
    "    disarium += int(number[i])**(i+1)\n",
    "\n",
    "if int(number) == disarium:\n",
    "    print(f\"Given number {number} is a disarium number\")\n",
    "else:\n",
    "    print(f\"Given number {number} is not a disarium number\")\n"
   ]
  },
  {
   "cell_type": "markdown",
   "id": "60f2f52d",
   "metadata": {},
   "source": [
    "### 2. Write a Python program to print all disarium numbers between 1 to 100?"
   ]
  },
  {
   "cell_type": "code",
   "execution_count": 7,
   "id": "d7792aa9",
   "metadata": {},
   "outputs": [
    {
     "name": "stdout",
     "output_type": "stream",
     "text": [
      "1 2 3 4 5 6 7 8 9 89 "
     ]
    }
   ],
   "source": [
    "for i in range(1, 101):\n",
    "    number = str(i)\n",
    "    disarium = 0\n",
    "    for i in range(len(number)):\n",
    "        disarium += int(number[i])**(i+1)\n",
    "\n",
    "    if int(number) == disarium:\n",
    "        print(number, end=\" \")"
   ]
  },
  {
   "cell_type": "markdown",
   "id": "e006e837",
   "metadata": {},
   "source": [
    "### 3. Write a Python program to check if the given number is Happy Number?"
   ]
  },
  {
   "cell_type": "code",
   "execution_count": 15,
   "id": "817630e4",
   "metadata": {},
   "outputs": [
    {
     "name": "stdout",
     "output_type": "stream",
     "text": [
      "Enter a number to check if it is a Happy Number: 13\n",
      "13 is a Happy number\n"
     ]
    }
   ],
   "source": [
    "def is_happy_number(n):\n",
    "    slow, fast = n, n\n",
    "    while(True):\n",
    "        slow = numSquareSum(slow)\n",
    "        fast = numSquareSum(numSquareSum(fast))\n",
    "        if(slow != fast):\n",
    "            continue;\n",
    "        else:\n",
    "            break\n",
    "    return (slow == 1)\n",
    "        \n",
    "def num_square_sum(n):\n",
    "    squareSum = 0;\n",
    "    while(n):\n",
    "        squareSum += (n % 10) * (n % 10);\n",
    "        n = int(n / 10);\n",
    "    return squareSum\n",
    "\n",
    "\n",
    "n = int(input(\"Enter a number to check if it is a Happy Number: \"))\n",
    "if is_happy_number(n):\n",
    "    print(f\"{n} is a Happy number\");\n",
    "else:\n",
    "    print(f\"{n} is not a Happy number\");"
   ]
  },
  {
   "cell_type": "markdown",
   "id": "b8847893",
   "metadata": {},
   "source": [
    "### 4. Write a Python program to print all happy numbers between 1 and 100?"
   ]
  },
  {
   "cell_type": "code",
   "execution_count": 17,
   "id": "d42eba12",
   "metadata": {},
   "outputs": [
    {
     "name": "stdout",
     "output_type": "stream",
     "text": [
      "1 7 10 13 19 23 28 31 32 44 49 68 70 79 82 86 91 94 97 100 "
     ]
    }
   ],
   "source": [
    "def is_happy_number(n):\n",
    "    slow, fast = n, n\n",
    "    while(True):\n",
    "        slow = numSquareSum(slow)\n",
    "        fast = numSquareSum(numSquareSum(fast))\n",
    "        if(slow != fast):\n",
    "            continue\n",
    "        else:\n",
    "            break\n",
    "    return (slow == 1)\n",
    "        \n",
    "def num_square_sum(n):\n",
    "    squareSum = 0\n",
    "    while(n):\n",
    "        squareSum += (n % 10) * (n % 10)\n",
    "        n = int(n / 10)\n",
    "    return squareSum\n",
    "\n",
    "for n in range(1, 101):\n",
    "    if is_happy_number(n):\n",
    "        print(n, end= \" \")\n",
    "    "
   ]
  },
  {
   "cell_type": "markdown",
   "id": "63407d17",
   "metadata": {},
   "source": [
    "### 5. Write a Python program to determine whether the given number is a Harshad Number?"
   ]
  },
  {
   "cell_type": "code",
   "execution_count": 27,
   "id": "9122487b",
   "metadata": {},
   "outputs": [
    {
     "name": "stdout",
     "output_type": "stream",
     "text": [
      "Enter a Harshad Number:198\n",
      "198 is a Harshad Number\n"
     ]
    }
   ],
   "source": [
    "# The number 18 is a harshad number in base 10, because the sum of the digits 1 and 8 is 9 (1 + 8 = 9), and 18 is divisible by 9.\n",
    "\n",
    "def is_harshad_number(n):\n",
    "    s = 0\n",
    "    for c in str(n):\n",
    "        s += int(c)\n",
    "        \n",
    "    if n % s == 0:\n",
    "        return True\n",
    "    return False\n",
    "\n",
    "x = int(input(\"Enter a Harshad Number:\"))\n",
    "if is_harshad_number(x):\n",
    "    print(f\"{x} is a Harshad Number\")\n",
    "else:\n",
    "    print(f\"{x} is not a Harshad Number\")"
   ]
  },
  {
   "cell_type": "markdown",
   "id": "1c09ac64",
   "metadata": {},
   "source": [
    "### 6. Write a Python program to print all pronic numbers between 1 and 100?"
   ]
  },
  {
   "cell_type": "code",
   "execution_count": 28,
   "id": "2f5afff8",
   "metadata": {},
   "outputs": [
    {
     "name": "stdout",
     "output_type": "stream",
     "text": [
      "1 2 3 4 5 6 7 8 9 10 12 18 20 21 24 27 30 36 40 42 45 48 50 54 60 63 70 72 80 81 84 90 100 "
     ]
    }
   ],
   "source": [
    "def is_harshad_number(n):\n",
    "    s = 0\n",
    "    for c in str(n):\n",
    "        s += int(c)\n",
    "        \n",
    "    if n % s == 0:\n",
    "        return True\n",
    "    return False\n",
    "\n",
    "for i in range(1, 101):\n",
    "    if is_harshad_number(i):\n",
    "        print(i, end= \" \")"
   ]
  }
 ],
 "metadata": {
  "kernelspec": {
   "display_name": "Python 3 (ipykernel)",
   "language": "python",
   "name": "python3"
  },
  "language_info": {
   "codemirror_mode": {
    "name": "ipython",
    "version": 3
   },
   "file_extension": ".py",
   "mimetype": "text/x-python",
   "name": "python",
   "nbconvert_exporter": "python",
   "pygments_lexer": "ipython3",
   "version": "3.9.7"
  }
 },
 "nbformat": 4,
 "nbformat_minor": 5
}
