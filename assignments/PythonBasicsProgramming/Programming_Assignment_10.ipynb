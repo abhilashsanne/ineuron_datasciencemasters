{
 "cells": [
  {
   "cell_type": "code",
   "execution_count": 1,
   "id": "43c00fdb",
   "metadata": {},
   "outputs": [
    {
     "name": "stdout",
     "output_type": "stream",
     "text": [
      "Sum of array elements is: 21\n",
      "Sum of array elements using built in function is: 21\n"
     ]
    }
   ],
   "source": [
    "# 1. Write a Python program to find sum of elements in list?\n",
    "my_list = [1,2,3,4,5,6]\n",
    "s = 0\n",
    "for i in my_list:\n",
    "    s += i\n",
    "print(f\"Sum of array elements is: {s}\")\n",
    "print(f\"Sum of array elements using built in function is: {sum(my_list)}\")"
   ]
  },
  {
   "cell_type": "code",
   "execution_count": 2,
   "id": "07241707",
   "metadata": {},
   "outputs": [
    {
     "name": "stdout",
     "output_type": "stream",
     "text": [
      "Product of array elements is: 720\n"
     ]
    }
   ],
   "source": [
    "# 2. Write a Python program to Multiply all numbers in the list?\n",
    "my_list = [1,2,3,4,5,6]\n",
    "s = 1\n",
    "for i in my_list:\n",
    "    s *= i\n",
    "print(f\"Product of array elements is: {s}\")"
   ]
  },
  {
   "cell_type": "code",
   "execution_count": 4,
   "id": "6311ef16",
   "metadata": {},
   "outputs": [
    {
     "name": "stdout",
     "output_type": "stream",
     "text": [
      "Smallest of array elements is: 1\n"
     ]
    }
   ],
   "source": [
    "# 3. Write a Python program to find smallest number in a list?\n",
    "my_list = [1,2,3,4,5,6]\n",
    "s = my_list[0]\n",
    "for i in my_list:\n",
    "    if s > i:\n",
    "        s = i\n",
    "print(f\"Smallest of array elements is: {s}\")"
   ]
  },
  {
   "cell_type": "code",
   "execution_count": 5,
   "id": "944ae04e",
   "metadata": {},
   "outputs": [
    {
     "name": "stdout",
     "output_type": "stream",
     "text": [
      "Largest of array elements is: 6\n"
     ]
    }
   ],
   "source": [
    "# 4. Write a Python program to find largest number in a list?\n",
    "my_list = [1,2,3,4,5,6]\n",
    "s = my_list[0]\n",
    "for i in my_list:\n",
    "    if s < i:\n",
    "        s = i\n",
    "print(f\"Largest of array elements is: {s}\")"
   ]
  },
  {
   "cell_type": "code",
   "execution_count": 6,
   "id": "9ed65686",
   "metadata": {},
   "outputs": [
    {
     "name": "stdout",
     "output_type": "stream",
     "text": [
      "Second Largest of array elements is: 5\n"
     ]
    }
   ],
   "source": [
    "# 5. Write a Python program to find second largest number in a list?\n",
    "my_list = [1,2,3,4,5,6]\n",
    "my_list.sort()\n",
    "print(f\"Second Largest of array elements is: {my_list[-2]}\")"
   ]
  },
  {
   "cell_type": "code",
   "execution_count": 7,
   "id": "7c381018",
   "metadata": {},
   "outputs": [
    {
     "name": "stdout",
     "output_type": "stream",
     "text": [
      "Enter a value for 'N' (less than 10)7\n",
      "[15, 14, 13, 12, 11, 10, 9]\n"
     ]
    }
   ],
   "source": [
    "# 6. Write a Python program to find N largest elements from a list?\n",
    "N = int(input(\"Enter a value for 'N' (less than 10)\"))\n",
    "my_list = [1,2,3,4,5,6,12,13,14,15,7,8,9,10,11]\n",
    "my_list.sort()\n",
    "my_list.reverse()\n",
    "print(my_list[:N])"
   ]
  },
  {
   "cell_type": "code",
   "execution_count": 9,
   "id": "d241f112",
   "metadata": {},
   "outputs": [
    {
     "name": "stdout",
     "output_type": "stream",
     "text": [
      "[2, 4, 6, 12, 14, 8, 10]\n"
     ]
    }
   ],
   "source": [
    "# 7. Write a Python program to print even numbers in a list?\n",
    "my_list = [1,2,3,4,5,6,12,13,14,15,7,8,9,10,11]\n",
    "print([i for i in my_list if i%2 == 0])"
   ]
  },
  {
   "cell_type": "code",
   "execution_count": 10,
   "id": "a3709bfc",
   "metadata": {},
   "outputs": [
    {
     "name": "stdout",
     "output_type": "stream",
     "text": [
      "[1, 3, 5, 13, 15, 7, 9, 11]\n"
     ]
    }
   ],
   "source": [
    "# 8. Write a Python program to print odd numbers in a List?\n",
    "my_list = [1,2,3,4,5,6,12,13,14,15,7,8,9,10,11]\n",
    "print([i for i in my_list if i%2 == 1])"
   ]
  },
  {
   "cell_type": "code",
   "execution_count": 22,
   "id": "583034f5",
   "metadata": {},
   "outputs": [
    {
     "name": "stdout",
     "output_type": "stream",
     "text": [
      "[[1, 2, 3], [4, 5, 6, 12, 13], 14, 15, 7, 8, 9, 10, 11]\n"
     ]
    }
   ],
   "source": [
    "# 9. Write a Python program to Remove empty List from List?\n",
    "my_list = [[1,2,3], [],[4,5,6,12,13],14,15,7,8,9,10,11]\n",
    "for i in my_list:\n",
    "    if type(i) == list and i == []: \n",
    "        my_list.pop(my_list.index(i))\n",
    "print(my_list)"
   ]
  },
  {
   "cell_type": "code",
   "execution_count": 23,
   "id": "b08c6d61",
   "metadata": {},
   "outputs": [
    {
     "name": "stdout",
     "output_type": "stream",
     "text": [
      "Copied list is: [1, 2, 3, 4, 5, 6, 12, 13, 14, 15, 7, 8, 9, 10, 11]\n"
     ]
    }
   ],
   "source": [
    "# 10. Write a Python program to Cloning or Copying a list?\n",
    "my_list = [1,2,3,4,5,6,12,13,14,15,7,8,9,10,11]\n",
    "\n",
    "my_list_copy = []\n",
    "for m in my_list:\n",
    "    my_list_copy.append(m)\n",
    "print(f\"Copied list is: {my_list_copy}\")"
   ]
  },
  {
   "cell_type": "code",
   "execution_count": 24,
   "id": "3e42ba23",
   "metadata": {},
   "outputs": [
    {
     "name": "stdout",
     "output_type": "stream",
     "text": [
      "Enter a number to search:3\n",
      "#Occurrences: 3\n"
     ]
    }
   ],
   "source": [
    "# 11. Write a Python program to Count occurrences of an element in a list?\n",
    "my_list = [1,2,3,4,5, 1, 2,3,1,3,6,11, 12,13,14,15,7, 15,8,9,10,11, 11]\n",
    "count = 0\n",
    "n = int(input(\"Enter a number to search:\"))\n",
    "for m in my_list:\n",
    "    if m == n:\n",
    "        count += 1\n",
    "print(f\"#Occurrences: {count}\")"
   ]
  }
 ],
 "metadata": {
  "kernelspec": {
   "display_name": "Python 3 (ipykernel)",
   "language": "python",
   "name": "python3"
  },
  "language_info": {
   "codemirror_mode": {
    "name": "ipython",
    "version": 3
   },
   "file_extension": ".py",
   "mimetype": "text/x-python",
   "name": "python",
   "nbconvert_exporter": "python",
   "pygments_lexer": "ipython3",
   "version": "3.9.7"
  }
 },
 "nbformat": 4,
 "nbformat_minor": 5
}
