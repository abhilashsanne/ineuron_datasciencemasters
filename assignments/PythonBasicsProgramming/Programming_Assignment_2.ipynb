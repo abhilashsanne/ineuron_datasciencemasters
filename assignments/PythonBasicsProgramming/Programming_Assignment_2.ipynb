{
 "cells": [
  {
   "cell_type": "code",
   "execution_count": 3,
   "id": "0ae80e24",
   "metadata": {},
   "outputs": [
    {
     "name": "stdout",
     "output_type": "stream",
     "text": [
      "Enter number of kilometers:10\n",
      "10.0 kms is same as 6.2 miles\n"
     ]
    }
   ],
   "source": [
    "### 1.Write a Python program to convert kilometers to miles?\n",
    "kms = float(input(\"Enter number of kilometers:\"))\n",
    "print(f\"{kms} kms is same as {kms*0.62} miles\")"
   ]
  },
  {
   "cell_type": "code",
   "execution_count": 5,
   "id": "cf3a9662",
   "metadata": {},
   "outputs": [
    {
     "name": "stdout",
     "output_type": "stream",
     "text": [
      "Enter temperature in Celsius degrees:100\n",
      "100.0 Celsius degrees is same as 212.0 Fahrenheit degrees\n"
     ]
    }
   ],
   "source": [
    "### 2.Write a Python program to convert Celsius to Fahrenheit?\n",
    "c = float(input(\"Enter temperature in Celsius degrees:\"))\n",
    "print(f\"{c} Celsius degrees is same as {(c* 1.8)+32} Fahrenheit degrees\")"
   ]
  },
  {
   "cell_type": "code",
   "execution_count": 8,
   "id": "d36a4114",
   "metadata": {},
   "outputs": [
    {
     "name": "stdout",
     "output_type": "stream",
     "text": [
      "Enter Year in XXXX format:2022\n",
      "Enter the month number:01\n",
      "    January 2022\n",
      "Mo Tu We Th Fr Sa Su\n",
      "                1  2\n",
      " 3  4  5  6  7  8  9\n",
      "10 11 12 13 14 15 16\n",
      "17 18 19 20 21 22 23\n",
      "24 25 26 27 28 29 30\n",
      "31\n",
      "\n"
     ]
    }
   ],
   "source": [
    "### 3.Write a Python program to display calendar?\n",
    "import calendar\n",
    "yyyy = int(input(\"Enter Year in XXXX format:\"))\n",
    "mm = int(input(\"Enter the month number:\"))\n",
    "print(calendar.month(yyyy, mm))"
   ]
  },
  {
   "cell_type": "code",
   "execution_count": 10,
   "id": "a4bc6aad",
   "metadata": {},
   "outputs": [
    {
     "name": "stdout",
     "output_type": "stream",
     "text": [
      "Enter value for a:1\n",
      "Enter value for b:2\n",
      "Enter value for c:3\n",
      "Your quadratic equation is: '1X^2 + 2X + c = 0'\n",
      "The roots are: (-1-1.4142135623730951j), (-1+1.4142135623730951j)\n"
     ]
    }
   ],
   "source": [
    "### 4.Write a Python program to solve quadratic equation?\n",
    "# Example quadratic equation: aX^2 + bX + c = 0, three variable are required\n",
    "import cmath\n",
    "\n",
    "a = int(input(\"Enter value for a:\"))\n",
    "b = int(input(\"Enter value for b:\"))\n",
    "c = int(input(\"Enter value for c:\"))\n",
    "print(f\"Your quadratic equation is: '{a}X^2 + {b}X + c = 0'\")\n",
    "dis = (b**2) - (4 * a*c)\n",
    "print(f\"The roots are: {(-b-cmath.sqrt(dis))/(2 * a)}, {(-b + cmath.sqrt(dis))/(2 * a)}\")"
   ]
  },
  {
   "cell_type": "code",
   "execution_count": 11,
   "id": "bfb176bb",
   "metadata": {},
   "outputs": [
    {
     "name": "stdout",
     "output_type": "stream",
     "text": [
      "Enter two numbers swap them!\n",
      "Enter value for a:100\n",
      "Enter value for b:200\n",
      "Swapped value of a is 200 and b is 100\n"
     ]
    }
   ],
   "source": [
    "### 5.Write a Python program to swap two variables without temp variable?\n",
    "print(\"Enter two numbers swap them!\")\n",
    "a = int(input(\"Enter value for a:\"))\n",
    "b = int(input(\"Enter value for b:\"))\n",
    "# swap two integers\n",
    "a,b = b,a\n",
    "print(f\"Swapped value of a is {a} and b is {b}\")"
   ]
  }
 ],
 "metadata": {
  "kernelspec": {
   "display_name": "Python 3 (ipykernel)",
   "language": "python",
   "name": "python3"
  },
  "language_info": {
   "codemirror_mode": {
    "name": "ipython",
    "version": 3
   },
   "file_extension": ".py",
   "mimetype": "text/x-python",
   "name": "python",
   "nbconvert_exporter": "python",
   "pygments_lexer": "ipython3",
   "version": "3.9.7"
  }
 },
 "nbformat": 4,
 "nbformat_minor": 5
}
