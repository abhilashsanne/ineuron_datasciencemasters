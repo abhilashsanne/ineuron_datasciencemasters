{
 "cells": [
  {
   "cell_type": "code",
   "execution_count": 4,
   "id": "e663bb6a",
   "metadata": {},
   "outputs": [
    {
     "name": "stdout",
     "output_type": "stream",
     "text": [
      "Sum of given array elements is: 36\n"
     ]
    }
   ],
   "source": [
    "### 1. Write a Python Program to find sum of array?\n",
    "\n",
    "array_sample = [1, 2, 3, 4, 5, 6, 7, 8]\n",
    "sum_of_array = 0\n",
    "for ele in array_sample:\n",
    "    sum_of_array += ele\n",
    "\n",
    "print(f\"Sum of given array elements is: {sum_of_array}\")\n",
    "# alternate approach\n",
    "# print(f\"Sum of given array elements is: {sum(array_sample)}\")"
   ]
  },
  {
   "cell_type": "code",
   "execution_count": 5,
   "id": "a53f7ff9",
   "metadata": {},
   "outputs": [
    {
     "name": "stdout",
     "output_type": "stream",
     "text": [
      "Largest element of the given array elements is: 8\n"
     ]
    }
   ],
   "source": [
    "### 2. Write a Python Program to find largest element in an array?\n",
    "import sys\n",
    "\n",
    "array_sample = [1, 2, 3, 4, 5, 6, 7, 8]\n",
    "max_of_array = array_sample[0]\n",
    "for ele in array_sample:\n",
    "    if ele > max_of_array:\n",
    "        max_of_array = ele\n",
    "\n",
    "print(f\"Largest element of the given array elements is: {max_of_array}\")\n",
    "# alternate approach\n",
    "#print(f\"Largest element of the given array elements is: {max(array_sample)}\")"
   ]
  },
  {
   "cell_type": "code",
   "execution_count": 8,
   "id": "cb989cb6",
   "metadata": {},
   "outputs": [
    {
     "name": "stdout",
     "output_type": "stream",
     "text": [
      "Array after left rotation is: [3, 4, 5, 6, 7, 8, 1, 2]\n"
     ]
    }
   ],
   "source": [
    "### 3. Write a Python Program for array rotation?\n",
    "def rotate_my_array(arr, d):\n",
    "    \"\"\"\n",
    "    Rotate the given array by d times\n",
    "    :param arr: array element to rotate\n",
    "    :param d: number of times to letf rotate the array\n",
    "    \"\"\"\n",
    "    n = len(arr)\n",
    "    temp = []\n",
    "    i = 0\n",
    "    while (i < d):\n",
    "        temp.append(arr[i])\n",
    "        i = i + 1\n",
    "    i = 0\n",
    "    while (d < n):\n",
    "        arr[i] = arr[d]\n",
    "        i = i + 1\n",
    "        d = d + 1\n",
    "    arr[:] = arr[: i] + temp\n",
    "    return arr\n",
    "\n",
    " \n",
    "sample_array = [1, 2, 3, 4, 5, 6, 7, 8]\n",
    "print(f\"Array after left rotation is: {rotate_my_array(sample_array, 2)}\")"
   ]
  },
  {
   "cell_type": "code",
   "execution_count": 12,
   "id": "d9fd140b",
   "metadata": {},
   "outputs": [
    {
     "name": "stdout",
     "output_type": "stream",
     "text": [
      "[5, 6, 7, 8, 1, 2, 3, 4]\n"
     ]
    }
   ],
   "source": [
    "### 4. Write a Python Program to Split the array and add the first part to the end?\n",
    "\n",
    "sample_array = [1, 2, 3, 4, 5, 6, 7, 8, 9]\n",
    "\n",
    "index = int(len(sample_array)/2)\n",
    "new_array = []\n",
    "for ele in sample_array:\n",
    "    if index >= len(sample_array):\n",
    "        index = 0\n",
    "    new_array.append(sample_array[index])\n",
    "    index += 1\n",
    "print(new_array)\n"
   ]
  },
  {
   "cell_type": "code",
   "execution_count": 19,
   "id": "f18015e6",
   "metadata": {},
   "outputs": [
    {
     "name": "stdout",
     "output_type": "stream",
     "text": [
      "Checking if given array is monotone increasing\n",
      "Given array is Monotonic\n",
      "Given array is Monotonic\n",
      "Checking if given array is monotone decreasing\n",
      "Given array is Monotonic\n",
      "Checking if given array is monotone increasing\n",
      "Given array is not Monotonic\n"
     ]
    }
   ],
   "source": [
    "### 5. Write a Python Program to check if given array is Monotonic?\n",
    "\n",
    "# An array is monotonic if it is either monotone increasing or monotone decreasing.\n",
    "\n",
    "def is_monotonic(arr):\n",
    "    is_increasing = False\n",
    "    is_decreasing = False\n",
    "    is_monotone = False\n",
    "    for i in range(len(arr) - 1):\n",
    "        if arr[i] > arr[i+1]:\n",
    "            is_decreasing = True\n",
    "            break\n",
    "        elif arr[i] < arr[i+1]:\n",
    "            is_increasing = True\n",
    "            break\n",
    "    if is_increasing:\n",
    "        print(\"Checking if given array is monotone increasing\")\n",
    "        for i in range(len(arr) - 1):\n",
    "            if not arr[i] < arr[i + 1]:\n",
    "                print(\"Given array is not Monotonic\")\n",
    "                break\n",
    "        else:\n",
    "            is_monotone = True\n",
    "    elif is_decreasing:\n",
    "        print(\"Checking if given array is monotone decreasing\")\n",
    "        for i in range(len(arr) - 1):\n",
    "            if not arr[i] > arr[i + 1]:\n",
    "                print(\"Given array is not Monotonic\")\n",
    "                break\n",
    "        else:\n",
    "            is_monotone = True\n",
    "    else:\n",
    "        is_monotone = True\n",
    "    if is_monotone:\n",
    "        print(\"Given array is Monotonic\") # all elements in array are equal\n",
    "\n",
    "is_monotonic([1, 2, 3, 4, 5, 6, 7, 8, 9])\n",
    "is_monotonic([8, 8, 8 ])\n",
    "is_monotonic([3, 2, 1 ])\n",
    "is_monotonic([3, 3, 5, 1])"
   ]
  }
 ],
 "metadata": {
  "kernelspec": {
   "display_name": "Python 3 (ipykernel)",
   "language": "python",
   "name": "python3"
  },
  "language_info": {
   "codemirror_mode": {
    "name": "ipython",
    "version": 3
   },
   "file_extension": ".py",
   "mimetype": "text/x-python",
   "name": "python",
   "nbconvert_exporter": "python",
   "pygments_lexer": "ipython3",
   "version": "3.9.7"
  }
 },
 "nbformat": 4,
 "nbformat_minor": 5
}
