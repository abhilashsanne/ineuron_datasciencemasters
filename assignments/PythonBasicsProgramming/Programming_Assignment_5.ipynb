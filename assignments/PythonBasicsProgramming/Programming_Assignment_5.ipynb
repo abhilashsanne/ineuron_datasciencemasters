{
 "cells": [
  {
   "cell_type": "code",
   "execution_count": 4,
   "id": "f7c9edc7",
   "metadata": {},
   "outputs": [
    {
     "name": "stdout",
     "output_type": "stream",
     "text": [
      "Enter two numbers to find LCM\n",
      "Enter first number: 10\n",
      "Enter second number: 33\n",
      "LCM of 10, 33 is 330\n"
     ]
    }
   ],
   "source": [
    "### 1. Write a Python Program to Find LCM?\n",
    "print(\"Enter two numbers to find LCM\")\n",
    "a = int(input(\"Enter first number: \"))\n",
    "b = int(input(\"Enter second number: \"))\n",
    "number = max(a, b) # instead of start at 1 by default take max of given numbers\n",
    "while(True):\n",
    "    if number % a == 0 and number % b == 0:\n",
    "        # the least number which is perfectly divisible by given two numbers\n",
    "        break        \n",
    "    else:\n",
    "        number += 1\n",
    "print(f\"LCM of {a}, {b} is {number}\")"
   ]
  },
  {
   "cell_type": "code",
   "execution_count": 10,
   "id": "c53687ef",
   "metadata": {},
   "outputs": [
    {
     "name": "stdout",
     "output_type": "stream",
     "text": [
      "Enter two numbers to find HCF\n",
      "Enter first number: 1500\n",
      "Enter second number: 500\n",
      "LCM of 1500, 500 is 500\n"
     ]
    }
   ],
   "source": [
    "### 1. Write a Python Program to Find HCF?\n",
    "print(\"Enter two numbers to find HCF\")\n",
    "a = int(input(\"Enter first number: \"))\n",
    "b = int(input(\"Enter second number: \"))\n",
    "hcf = 1\n",
    "smaller = min(a, b)\n",
    "for i in range(1, smaller + 1):\n",
    "    if a % i == 0 and b % i == 0:\n",
    "        # the least number which is perfectly divisible by given two numbers\n",
    "        hcf = i\n",
    "    else:\n",
    "        number += 1\n",
    "print(f\"LCM of {a}, {b} is {hcf}\")"
   ]
  },
  {
   "cell_type": "code",
   "execution_count": 11,
   "id": "8af72096",
   "metadata": {},
   "outputs": [
    {
     "name": "stdout",
     "output_type": "stream",
     "text": [
      "Enter a number to convert: 33\n",
      "The decimal value 33 is:\n",
      "0b100001 in binary.\n",
      "0o41 in octal.\n",
      "0x21 in hexadecimal.\n"
     ]
    }
   ],
   "source": [
    "### 3. Write a Python Program to Convert Decimal to Binary, Octal and Hexadecimal?\n",
    "\n",
    "dec = int(input(\"Enter a number to convert: \"))\n",
    "\n",
    "print(f\"The decimal value {dec} is:\")\n",
    "print(f\"{bin(dec)} in binary.\")\n",
    "print(f\"{oct(dec)} in octal.\")\n",
    "print(f\"{hex(dec)} in hexadecimal.\")"
   ]
  },
  {
   "cell_type": "code",
   "execution_count": 12,
   "id": "015584b3",
   "metadata": {},
   "outputs": [
    {
     "name": "stdout",
     "output_type": "stream",
     "text": [
      "Enter your name to find the ASCII value of its characters: abhilash\n",
      "a: 97\n",
      "b: 98\n",
      "h: 104\n",
      "i: 105\n",
      "l: 108\n",
      "a: 97\n",
      "s: 115\n",
      "h: 104\n"
     ]
    }
   ],
   "source": [
    "### 4. Write a Python Program To Find ASCII value of a character?\n",
    "name = input(\"Enter your name to find the ASCII value of its characters: \")\n",
    "for i in name:\n",
    "    print(f\"{i}: {ord(i)}\")"
   ]
  },
  {
   "cell_type": "code",
   "execution_count": 21,
   "id": "f67a2640",
   "metadata": {},
   "outputs": [
    {
     "name": "stdout",
     "output_type": "stream",
     "text": [
      "Select an operation to perform\n",
      "1.Add\n",
      "2.Subtract\n",
      "3.Multiply\n",
      "4.Divide\n",
      "Enter choice(1/2/3/4): 1\n",
      "You have selected option 1.Add, please input 2 numbers\n",
      "Enter first number: 10\n",
      "Enter second number: 59\n",
      "10 + 59 = 69\n",
      "Enter choice(1/2/3/4): 89\n",
      "Invalid input received, exiting the program\n"
     ]
    }
   ],
   "source": [
    "### 5. Write a Python Program to Make a Simple Calculator with 4 basic mathematical operations?\n",
    "\n",
    "print(\"Select an operation to perform\")\n",
    "print(\"1.Add\")\n",
    "print(\"2.Subtract\")\n",
    "print(\"3.Multiply\")\n",
    "print(\"4.Divide\")\n",
    "\n",
    "while(True):\n",
    "    choice = input(\"Enter choice(1/2/3/4): \")\n",
    "    if choice in [\"1\", \"2\", \"3\", \"4\"]:\n",
    "        if choice == \"1\":\n",
    "            print(\"You have selected option 1.Add, please input 2 numbers\")\n",
    "            a = int(input(\"Enter first number: \"))\n",
    "            b = int(input(\"Enter second number: \"))\n",
    "            print(f\"{a} + {b} = {a+b}\")\n",
    "        elif choice == \"2\":\n",
    "            print(\"You have selected option 2.Substract, please input 2 numbers\")\n",
    "            a = int(input(\"Enter first number: \"))\n",
    "            b = int(input(\"Enter second number: \"))\n",
    "            print(f\"{a} - {b} = {a-b}\")\n",
    "        elif choice == \"3\":\n",
    "            print(\"You have selected option 3.Multiply, please input 2 numbers\")\n",
    "            a = int(input(\"Enter first number: \"))\n",
    "            b = int(input(\"Enter second number: \"))\n",
    "            print(f\"{a} x {b} = {a*b}\")\n",
    "        elif choice == \"4\":\n",
    "            print(\"You have selected option 4.Divide, please input 2 numbers\")\n",
    "            a = int(input(\"Enter first number: \"))\n",
    "            b = int(input(\"Enter second number: \"))\n",
    "            print(f\"{a} / {b} = {a/b}\")\n",
    "    else:\n",
    "        print(\"Invalid input received, exiting the program\")\n",
    "        break"
   ]
  },
  {
   "cell_type": "code",
   "execution_count": null,
   "id": "b0b3c8ab",
   "metadata": {},
   "outputs": [],
   "source": []
  }
 ],
 "metadata": {
  "kernelspec": {
   "display_name": "Python 3 (ipykernel)",
   "language": "python",
   "name": "python3"
  },
  "language_info": {
   "codemirror_mode": {
    "name": "ipython",
    "version": 3
   },
   "file_extension": ".py",
   "mimetype": "text/x-python",
   "name": "python",
   "nbconvert_exporter": "python",
   "pygments_lexer": "ipython3",
   "version": "3.9.7"
  }
 },
 "nbformat": 4,
 "nbformat_minor": 5
}
