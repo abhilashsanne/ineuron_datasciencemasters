{
 "cells": [
  {
   "cell_type": "code",
   "execution_count": 2,
   "id": "41a1a80a",
   "metadata": {},
   "outputs": [
    {
     "name": "stdout",
     "output_type": "stream",
     "text": [
      "Hello Python\n"
     ]
    }
   ],
   "source": [
    "### 1.Write a Python program to print \"Hello Python\"?\n",
    "\n",
    "print(\"Hello Python\")\n"
   ]
  },
  {
   "cell_type": "code",
   "execution_count": 3,
   "id": "dd8a09cb",
   "metadata": {},
   "outputs": [
    {
     "name": "stdout",
     "output_type": "stream",
     "text": [
      "Enter two numbers to do arithmetical operations addition and division!\n",
      "Enter value for a:90\n",
      "Enter value for b:9\n",
      "a + b = 99\n",
      "a / b = 10.0\n"
     ]
    }
   ],
   "source": [
    "### 2.Write a Python program to do arithmetical operations addition and division.?\n",
    "print(\"Enter two numbers to do arithmetical operations addition and division!\")\n",
    "a = int(input(\"Enter value for a:\"))\n",
    "b = int(input(\"Enter value for b:\"))\n",
    "print(f\"a + b = {a + b}\")\n",
    "print(f\"a / b = {a / b}\")"
   ]
  },
  {
   "cell_type": "code",
   "execution_count": 4,
   "id": "c60b590e",
   "metadata": {},
   "outputs": [
    {
     "name": "stdout",
     "output_type": "stream",
     "text": [
      "Enter base and height of the triangle to determine its area\n",
      "Enter value for base:4\n",
      "Enter value for height:3\n",
      "Area of triangle is: 6.0\n"
     ]
    }
   ],
   "source": [
    "### 3.Write a Python program to find the area of a triangle?\n",
    "print(\"Enter base and height of the triangle to determine its area\")\n",
    "b = int(input(\"Enter value for base:\"))\n",
    "h = int(input(\"Enter value for height:\"))\n",
    "print(f\"Area of triangle is: {0.5 * b * h}\")"
   ]
  },
  {
   "cell_type": "code",
   "execution_count": 5,
   "id": "cea110ce",
   "metadata": {},
   "outputs": [
    {
     "name": "stdout",
     "output_type": "stream",
     "text": [
      "Enter two numbers swap them!\n",
      "Enter value for a:10\n",
      "Enter value for b:30\n",
      "Swapped value of a is 30 and b is 10\n"
     ]
    }
   ],
   "source": [
    "### 4.Write a Python program to swap two variables?\n",
    "print(\"Enter two numbers swap them!\")\n",
    "a = int(input(\"Enter value for a:\"))\n",
    "b = int(input(\"Enter value for b:\"))\n",
    "# swap two integers\n",
    "a,b = b,a\n",
    "print(f\"Swapped value of a is {a} and b is {b}\")"
   ]
  },
  {
   "cell_type": "code",
   "execution_count": 8,
   "id": "5b4be7f0",
   "metadata": {},
   "outputs": [
    {
     "name": "stdout",
     "output_type": "stream",
     "text": [
      "Random number: 0.31171743215580106\n"
     ]
    }
   ],
   "source": [
    "### 5.Write a Python program to generate a random number?\n",
    "import random\n",
    "print(f\"Random number: {random.random()}\")"
   ]
  },
  {
   "cell_type": "code",
   "execution_count": null,
   "id": "ffa23aa0",
   "metadata": {},
   "outputs": [],
   "source": []
  }
 ],
 "metadata": {
  "kernelspec": {
   "display_name": "Python 3 (ipykernel)",
   "language": "python",
   "name": "python3"
  },
  "language_info": {
   "codemirror_mode": {
    "name": "ipython",
    "version": 3
   },
   "file_extension": ".py",
   "mimetype": "text/x-python",
   "name": "python",
   "nbconvert_exporter": "python",
   "pygments_lexer": "ipython3",
   "version": "3.9.7"
  }
 },
 "nbformat": 4,
 "nbformat_minor": 5
}
