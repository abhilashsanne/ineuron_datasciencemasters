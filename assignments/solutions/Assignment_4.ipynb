{
 "cells": [
  {
   "cell_type": "markdown",
   "id": "408178b3",
   "metadata": {},
   "source": [
    "1. What exactly is []?\n",
    "[] is an empty list in Python"
   ]
  },
  {
   "cell_type": "markdown",
   "id": "68c5dea6",
   "metadata": {},
   "source": [
    "2. In a list of values stored in a variable called spam, how would you assign the value 'hello' as the third value? (Assume [2, 4, 6, 8, 10] are in spam.)\n",
    "spam.insert(2, 'hello') # as in python lists are zero based indexes, 2nd index indicates third value"
   ]
  }
 ],
 "metadata": {
  "kernelspec": {
   "display_name": "Python 3 (ipykernel)",
   "language": "python",
   "name": "python3"
  },
  "language_info": {
   "codemirror_mode": {
    "name": "ipython",
    "version": 3
   },
   "file_extension": ".py",
   "mimetype": "text/x-python",
   "name": "python",
   "nbconvert_exporter": "python",
   "pygments_lexer": "ipython3",
   "version": "3.9.7"
  }
 },
 "nbformat": 4,
 "nbformat_minor": 5
}
