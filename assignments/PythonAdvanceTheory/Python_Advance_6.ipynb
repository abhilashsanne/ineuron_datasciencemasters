{
 "cells": [
  {
   "cell_type": "markdown",
   "id": "d4966c70",
   "metadata": {},
   "source": [
    "### Q1. Describe three applications for exception processing.\n",
    "\n",
    "Exceptions are raised when the program is syntactically correct, but the code resulted in an error during runtime. Exceptions are errors if handled/unhandled, does not stop the execution of the program, however, it can change the changes the normal flow of the program.\n",
    "\n",
    "Example applications of exception processing/handling:\n",
    "* While withdrawing money from ATM machine, if a transaction failure happens, you will be able to see exactly what went wrong in the error message (ex: 'insufficient balance') instead of clueless and scary error screen\n",
    "* While browing through github.com if you provide an incorrect resource URL like `https://github.com/sanneabhilash/ineuron_datasciencemasters_invalid` you will be a github.com's 404 page, telling you that you are still on github.com and your url is incorrect instead of default browsers 404 page\n",
    "* Imagine renaming a file in your filesystem, if a file with same name already exists, they you get an error message instead of system crash."
   ]
  },
  {
   "cell_type": "markdown",
   "id": "21e76625",
   "metadata": {},
   "source": [
    "### Q2. What happens if you don't do something extra to treat an exception?\n",
    "If we don't do something extra to treat an exception, the program might in some or the other way exit or throw further exceptions if invalid/None value is returned from a handled exception.\n",
    "\n",
    "If we treat an exception, we try to return empty string/list for example instead of None value, or call the method with valid or default parameters, to get the program continue execution or exit smoothly"
   ]
  },
  {
   "cell_type": "markdown",
   "id": "0db06a80",
   "metadata": {},
   "source": [
    "### Q3. What are your options for recovering from an exception in your script?\n",
    "* We write the code inside try block followed by specific error type except blocks\n",
    "* In base except block, we write a code to handle exception and next set of actions.\n",
    "* finally block, to handle code line file or connection closure if exception happens or not"
   ]
  },
  {
   "cell_type": "markdown",
   "id": "09fe315c",
   "metadata": {},
   "source": [
    "### # Q4. Describe two methods for triggering exceptions in your script?\n",
    "* raise keyword allows you to trigger a new exception in your script\n",
    "\n",
    "`raise Exception(\"Sorry, I don't like your program\")\n",
    "raise ValueError(\"this is a value error\")`\n",
    "* Another way to trigger an exception would be writing a piece of code which might result into raising an exception like, divide by zero. If division of numbers is done without checking if the base is zero or not before performing the action."
   ]
  },
  {
   "cell_type": "markdown",
   "id": "2fc31455",
   "metadata": {},
   "source": [
    "### Q5. Identify two methods for specifying actions to be executed at termination time, regardless of whether or not an exception exists.\n",
    "In else block, code is written to handle if no exception is raised by code in try block.\n",
    "\n",
    "In finally block, code executes regardless of whether or not an exception exists.  "
   ]
  }
 ],
 "metadata": {
  "kernelspec": {
   "display_name": "Python 3 (ipykernel)",
   "language": "python",
   "name": "python3"
  },
  "language_info": {
   "codemirror_mode": {
    "name": "ipython",
    "version": 3
   },
   "file_extension": ".py",
   "mimetype": "text/x-python",
   "name": "python",
   "nbconvert_exporter": "python",
   "pygments_lexer": "ipython3",
   "version": "3.9.7"
  }
 },
 "nbformat": 4,
 "nbformat_minor": 5
}
